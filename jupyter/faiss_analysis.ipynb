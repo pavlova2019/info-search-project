{
 "cells": [
  {
   "cell_type": "code",
   "execution_count": 4,
   "metadata": {},
   "outputs": [],
   "source": [
    "import os\n",
    "import time\n",
    "import json\n",
    "import numpy as np\n",
    "import pandas as pd\n",
    "import faiss\n",
    "\n",
    "from tqdm.notebook import tqdm\n",
    "import math\n",
    "from itertools import product\n",
    "\n",
    "from dotenv import load_dotenv"
   ]
  },
  {
   "cell_type": "code",
   "execution_count": 5,
   "metadata": {},
   "outputs": [
    {
     "data": {
      "text/plain": [
       "True"
      ]
     },
     "execution_count": 5,
     "metadata": {},
     "output_type": "execute_result"
    }
   ],
   "source": [
    "load_dotenv(\"../.env\")"
   ]
  },
  {
   "cell_type": "code",
   "execution_count": 6,
   "metadata": {},
   "outputs": [],
   "source": [
    "data_path = \"/storage/st079069/dataset_for_faiss/\""
   ]
  },
  {
   "cell_type": "code",
   "execution_count": 7,
   "metadata": {},
   "outputs": [],
   "source": [
    "chunks_base_path = data_path + \"chunks_embeddings_jina_base.json\"\n",
    "chunks_pass_path = data_path + \"chunks_embeddings_jina_passage.json\"\n",
    "\n",
    "questions_base_path = data_path + \"questions_embeddings_jina_base.npy\"\n",
    "questions_query_path = data_path + \"questions_embeddings_jina_query.npy\""
   ]
  },
  {
   "cell_type": "code",
   "execution_count": 8,
   "metadata": {},
   "outputs": [],
   "source": [
    "chunks_base = pd.read_json(chunks_base_path, orient='index')\n",
    "\n",
    "chunks_pass = pd.read_json(chunks_pass_path, orient='index')"
   ]
  },
  {
   "cell_type": "code",
   "execution_count": 9,
   "metadata": {},
   "outputs": [],
   "source": [
    "questions_base_emb = np.load(questions_base_path)\n",
    "\n",
    "questions_query_emb = np.load(questions_query_path)"
   ]
  },
  {
   "cell_type": "code",
   "execution_count": 10,
   "metadata": {},
   "outputs": [
    {
     "data": {
      "application/vnd.jupyter.widget-view+json": {
       "model_id": "f38fb44d26e8450fa53f2365ce06603b",
       "version_major": 2,
       "version_minor": 0
      },
      "text/plain": [
       "0it [00:00, ?it/s]"
      ]
     },
     "metadata": {},
     "output_type": "display_data"
    },
    {
     "data": {
      "application/vnd.jupyter.widget-view+json": {
       "model_id": "bcdcaf5b7a24401fa2d70591bef9f273",
       "version_major": 2,
       "version_minor": 0
      },
      "text/plain": [
       "  0%|          | 0/226450 [00:00<?, ?it/s]"
      ]
     },
     "metadata": {},
     "output_type": "display_data"
    }
   ],
   "source": [
    "chunks_base_ids = dict()\n",
    "\n",
    "i = 0\n",
    "for id, emb_list in tqdm(chunks_base.iterrows()):\n",
    "    ln = len(emb_list.dropna())\n",
    "    chunks_base_ids[id] = np.arange(i, i+ln)\n",
    "    i += ln\n",
    "\n",
    "chunks_base_emb = np.array([emb for emb in tqdm(chunks_base.values.flatten()) if emb is not None])"
   ]
  },
  {
   "cell_type": "code",
   "execution_count": 11,
   "metadata": {},
   "outputs": [
    {
     "data": {
      "application/vnd.jupyter.widget-view+json": {
       "model_id": "0dd49fa8190c4872bf3517607be04060",
       "version_major": 2,
       "version_minor": 0
      },
      "text/plain": [
       "0it [00:00, ?it/s]"
      ]
     },
     "metadata": {},
     "output_type": "display_data"
    },
    {
     "data": {
      "application/vnd.jupyter.widget-view+json": {
       "model_id": "59fdbc6347fd484fa6117c80d2652316",
       "version_major": 2,
       "version_minor": 0
      },
      "text/plain": [
       "  0%|          | 0/226450 [00:00<?, ?it/s]"
      ]
     },
     "metadata": {},
     "output_type": "display_data"
    }
   ],
   "source": [
    "chunks_pass_ids = dict()\n",
    "\n",
    "i = 0\n",
    "for id, emb_list in tqdm(chunks_pass.iterrows()):\n",
    "    ln = len(emb_list.dropna())\n",
    "    chunks_pass_ids[id] = np.arange(i, i+ln)\n",
    "    i += ln\n",
    "\n",
    "chunks_pass_emb = np.array([emb for emb in tqdm(chunks_pass.values.flatten()) if emb is not None])"
   ]
  },
  {
   "cell_type": "code",
   "execution_count": 12,
   "metadata": {},
   "outputs": [],
   "source": [
    "def name_w_params(name: str, params: list[object]):\n",
    "    return \"_\".join([name] + [p.__name__ if isinstance(p, faiss.Index) else str(p) for p in params])"
   ]
  },
  {
   "cell_type": "code",
   "execution_count": 13,
   "metadata": {},
   "outputs": [],
   "source": [
    "embedding_dim = chunks_pass_emb.shape[1]"
   ]
  },
  {
   "cell_type": "code",
   "execution_count": 14,
   "metadata": {},
   "outputs": [],
   "source": [
    "flat_index = faiss.IndexFlatL2(embedding_dim)"
   ]
  },
  {
   "cell_type": "code",
   "execution_count": 15,
   "metadata": {},
   "outputs": [],
   "source": [
    "indexes_with_params = {\"flat\": {\"flat\" : flat_index}}"
   ]
  },
  {
   "cell_type": "code",
   "execution_count": 16,
   "metadata": {},
   "outputs": [],
   "source": [
    "# HNSW paremeters\n",
    "M_list = [16, 32, 64]  # number of connections each vertex will have\n",
    "ef_search_list = [16, 32, 64]  # depth of layers explored during search\n",
    "ef_construction_list = [16, 32, 64]  # depth of layers explored during index construction"
   ]
  },
  {
   "cell_type": "code",
   "execution_count": 17,
   "metadata": {},
   "outputs": [],
   "source": [
    "indexes_with_params[\"hnsw\"] = dict()\n",
    "\n",
    "for params in product(*[M_list, ef_search_list, ef_construction_list]):\n",
    "    M, ef_search, ef_construction = params\n",
    "    if ef_search > ef_construction:\n",
    "        continue\n",
    "    index = faiss.IndexHNSWFlat(embedding_dim, M)\n",
    "    index.hnsw.efConstruction = ef_construction\n",
    "    index.hnsw.efSearch = ef_search\n",
    "\n",
    "    indexes_with_params[\"hnsw\"][name_w_params(\"hnsw\", params)] = index"
   ]
  },
  {
   "cell_type": "code",
   "execution_count": 18,
   "metadata": {},
   "outputs": [],
   "source": [
    "# SQ parameters\n",
    "quantizer_list = [\n",
    "    faiss.ScalarQuantizer.QT_8bit,\n",
    "    faiss.ScalarQuantizer.QT_4bit,\n",
    "    faiss.ScalarQuantizer.QT_8bit_uniform,\n",
    "    faiss.ScalarQuantizer.QT_4bit_uniform\n",
    "]"
   ]
  },
  {
   "cell_type": "code",
   "execution_count": 19,
   "metadata": {},
   "outputs": [],
   "source": [
    "indexes_with_params[\"hnsw_sq\"] = dict()\n",
    "\n",
    "for params in product(*[M_list, ef_search_list, ef_construction_list, quantizer_list]):\n",
    "    M, ef_search, ef_construction, scalar_quantizer = params\n",
    "    if ef_search > ef_construction:\n",
    "        continue\n",
    "    index = faiss.IndexHNSWSQ(embedding_dim, scalar_quantizer, M)\n",
    "    index.hnsw.efConstruction = ef_construction\n",
    "    index.hnsw.efSearch = ef_search\n",
    "\n",
    "    indexes_with_params[\"hnsw_sq\"][name_w_params(\"hnsw_sq\", params)] = index"
   ]
  },
  {
   "cell_type": "code",
   "execution_count": 20,
   "metadata": {},
   "outputs": [],
   "source": [
    "# PQ parameters\n",
    "M_pq_list = [4, 8, 16, 32]\n",
    "nbits_list = [6, 8, 9] # needs >= 2**nbits * 39 training points"
   ]
  },
  {
   "cell_type": "code",
   "execution_count": 21,
   "metadata": {},
   "outputs": [],
   "source": [
    "indexes_with_params[\"pq\"] = dict()\n",
    "\n",
    "for params in product(*[M_pq_list, nbits_list]):\n",
    "    M_pq, nbits = params\n",
    "    assert embedding_dim % M_pq == 0\n",
    "    index = faiss.IndexPQ(embedding_dim, M_pq, nbits)\n",
    "    \n",
    "    indexes_with_params[\"pq\"][name_w_params(\"pq\", params)] = index"
   ]
  },
  {
   "cell_type": "code",
   "execution_count": 22,
   "metadata": {},
   "outputs": [
    {
     "data": {
      "application/vnd.jupyter.widget-view+json": {
       "model_id": "29ab43887c124949889f4356bf49dac0",
       "version_major": 2,
       "version_minor": 0
      },
      "text/plain": [
       "0it [00:00, ?it/s]"
      ]
     },
     "metadata": {},
     "output_type": "display_data"
    },
    {
     "name": "stdout",
     "output_type": "stream",
     "text": [
      "216\n"
     ]
    }
   ],
   "source": [
    "indexes_with_params[\"hnsw_pq\"] = dict()\n",
    "\n",
    "for params in tqdm(product(*[M_pq_list, nbits_list, M_list, ef_search_list, ef_construction_list])):\n",
    "    M_pq, nbits, M, ef_search, ef_construction = params\n",
    "    assert embedding_dim % M_pq == 0\n",
    "    if ef_search > ef_construction:\n",
    "        continue\n",
    "    index = faiss.IndexHNSWPQ(embedding_dim, M_pq, M, nbits)\n",
    "    index.hnsw.efConstruction = ef_construction\n",
    "    index.hnsw.efSearch = ef_search\n",
    "\n",
    "    indexes_with_params[\"hnsw_pq\"][name_w_params(\"hnsw_pq\", params)] = index\n",
    "print(len(indexes_with_params[\"hnsw_pq\"]))"
   ]
  },
  {
   "cell_type": "code",
   "execution_count": 23,
   "metadata": {},
   "outputs": [],
   "source": [
    "# IVF parameters\n",
    "quantizer_ivf_list = [faiss.IndexFlatIP, faiss.IndexFlatL2]\n",
    "nlist_list = [32, 64, 128, 256] # needs >= nlist * 39 training points\n",
    "nprobe_list = [16, 32, 64]"
   ]
  },
  {
   "cell_type": "code",
   "execution_count": 24,
   "metadata": {},
   "outputs": [],
   "source": [
    "indexes_with_params[\"ivf\"] = dict()\n",
    "\n",
    "for params in product(*[quantizer_ivf_list, nlist_list, nprobe_list]):\n",
    "    quantizer, nlist, nprobe = params\n",
    "    if nprobe > nlist:\n",
    "        continue\n",
    "    index = faiss.IndexIVFFlat(quantizer(embedding_dim), embedding_dim, nlist)\n",
    "    index.nprobe = nprobe\n",
    "\n",
    "    quantizer = quantizer.__name__\n",
    "    indexes_with_params[\"ivf\"][name_w_params(\"ivf\", [quantizer, nlist, nprobe])] = index"
   ]
  },
  {
   "cell_type": "code",
   "execution_count": 25,
   "metadata": {},
   "outputs": [
    {
     "data": {
      "application/vnd.jupyter.widget-view+json": {
       "model_id": "9f22cef9dea647f499426687a0b172a1",
       "version_major": 2,
       "version_minor": 0
      },
      "text/plain": [
       "0it [00:00, ?it/s]"
      ]
     },
     "metadata": {},
     "output_type": "display_data"
    }
   ],
   "source": [
    "indexes_with_params[\"ivf_pq\"] = dict()\n",
    "\n",
    "for params in tqdm(product(*[quantizer_ivf_list, nlist_list, nprobe_list, M_pq_list, nbits_list])):\n",
    "    quantizer, nlist, nprobe, M, nbits = params\n",
    "    assert embedding_dim % M == 0\n",
    "    if nprobe > nlist:\n",
    "        continue\n",
    "\n",
    "    index = faiss.IndexIVFPQ(quantizer(embedding_dim), embedding_dim, nlist, M, nbits, faiss.METRIC_L2)\n",
    "    index.nprobe = nprobe\n",
    "\n",
    "    quantizer = quantizer.__name__\n",
    "    indexes_with_params[\"ivf_pq\"][name_w_params(\"ivf_pq\", [quantizer, nlist, nprobe, M, nbits])] = index"
   ]
  },
  {
   "cell_type": "code",
   "execution_count": 26,
   "metadata": {},
   "outputs": [
    {
     "data": {
      "application/vnd.jupyter.widget-view+json": {
       "model_id": "c132f85e32164f198c3a338f74f0f039",
       "version_major": 2,
       "version_minor": 0
      },
      "text/plain": [
       "0it [00:00, ?it/s]"
      ]
     },
     "metadata": {},
     "output_type": "display_data"
    }
   ],
   "source": [
    "indexes_with_params[\"ivfHNSW\"] = dict()\n",
    "\n",
    "for params in tqdm(product(*[nlist_list, nprobe_list, M_list, ef_search_list, ef_construction_list])):\n",
    "    nlist, nprobe, M, ef_search, ef_construction = params\n",
    "    if ef_search > ef_construction:\n",
    "        continue\n",
    "    if nprobe > nlist:\n",
    "        continue\n",
    "    quantizer = faiss.IndexHNSWFlat(embedding_dim, M)\n",
    "    quantizer.hnsw.efConstruction = ef_construction\n",
    "    quantizer.hnsw.efSearch = ef_search\n",
    "\n",
    "    index = faiss.IndexIVFFlat(quantizer, embedding_dim, nlist, faiss.METRIC_L2)\n",
    "    index.nprobe = nprobe\n",
    "\n",
    "    # index.cp.min_points_per_centroid = 5\n",
    "    index.quantizer_trains_alone = 2\n",
    "\n",
    "    indexes_with_params[\"ivfHNSW\"][name_w_params(\"ivfHNSW\", params)] = index"
   ]
  },
  {
   "cell_type": "code",
   "execution_count": 27,
   "metadata": {},
   "outputs": [],
   "source": [
    "k = 16 # top-k queries"
   ]
  },
  {
   "cell_type": "code",
   "execution_count": 28,
   "metadata": {},
   "outputs": [],
   "source": [
    "def get_top_k(index: faiss.Index, queries, k):\n",
    "    t0 = time.time()\n",
    "    D, I = index.search(queries, k)\n",
    "    t1 = time.time()\n",
    "    return D, I, (t1 - t0) / queries.shape[0]\n",
    "\n",
    "\n",
    "def dcg(scores):\n",
    "    return np.sum((np.power(2 * np.ones_like(scores), scores) - 1) / np.log2(np.arange(len(scores)) + 2))\n",
    "    # return np.sum(scores / np.log2(np.arange(len(scores)) + 2))\n",
    "\n",
    "\n",
    "def ndcg_with_mismatch(true_indices, true_distances, approx_indices, verbose=False):\n",
    "    # Map ground truth indices to their relevance scores\n",
    "    # true_relevance = {idx: 4 / (dist + 1) if not math.isinf(dist) else 0\n",
    "    #                   for idx, dist in zip(true_indices, true_distances)}\n",
    "    true_relevance = dict(zip(true_indices, np.exp(- 0.01 * true_distances)))\n",
    "    # print(true_relevance)\n",
    "\n",
    "    if verbose:\n",
    "        if not np.all(np.isnan(true_distances)):\n",
    "            print(\"WARNING: there is an nan distance\")\n",
    "        if not np.all(true_distances >= 0):\n",
    "            print(\"WARNING: there is a < 0 distance\")\n",
    "\n",
    "    # Create relevance scores list for the approximate indices\n",
    "    approx_relevance_scores = [\n",
    "        true_relevance.get(idx, 0) for idx in approx_indices\n",
    "    ]\n",
    "\n",
    "    # Create the ideal DCG by sorting the true relevance scores in descending order\n",
    "    ideal_relevance_scores = sorted(true_relevance.values(), reverse=True)\n",
    "    ideal_relevance_scores.extend([0]*(len(approx_relevance_scores) - len(ideal_relevance_scores)))\n",
    "\n",
    "    # Calculate DCG for both approximate and ideal relevance scores\n",
    "    dcg_approx = dcg(approx_relevance_scores)\n",
    "    dcg_ideal = dcg(ideal_relevance_scores)\n",
    "    # print(dcg_approx, dcg_ideal)\n",
    "\n",
    "    return dcg_approx / dcg_ideal if dcg_ideal > 0 else 0\n",
    "\n",
    "\n",
    "def calculate_mean_ndcg_mismatch(ideal_index: faiss.Index, index: faiss.Index, queries: np.ndarray, k: int = 10):\n",
    "    # Get distances and indices from both indices\n",
    "    true_distances, true_indices, _ = get_top_k(ideal_index, queries, k)\n",
    "    _, approx_indices, mean_time = get_top_k(index, queries, k)\n",
    "\n",
    "    # Compute nDCG for each query with potentially mismatched sets\n",
    "    ndcg_scores = [\n",
    "        ndcg_with_mismatch(true_idx, true_dist, approx_idx)\n",
    "        for true_idx, true_dist, approx_idx in zip(true_indices, true_distances, approx_indices)\n",
    "    ]\n",
    "    mean_ndcg = np.mean(ndcg_scores)\n",
    "\n",
    "    return mean_ndcg, mean_time"
   ]
  },
  {
   "cell_type": "code",
   "execution_count": 29,
   "metadata": {},
   "outputs": [],
   "source": [
    "def calculate_disk_usage(index: faiss.Index, index_name: str):\n",
    "    file_name = \"../data/index/\" + index_name + \".index\"\n",
    "    faiss.write_index(index, file_name)\n",
    "\n",
    "    index_size = os.path.getsize(file_name)\n",
    "    os.remove(file_name)\n",
    "\n",
    "    index_size_mb = index_size / (1024 * 1024)\n",
    "\n",
    "    return index_size_mb"
   ]
  },
  {
   "cell_type": "code",
   "execution_count": 30,
   "metadata": {},
   "outputs": [],
   "source": [
    "def train_index(index: faiss.Index, data):\n",
    "    t0 = time.time()\n",
    "    index.train(data)\n",
    "    t1 = time.time()\n",
    "\n",
    "    return t1 - t0"
   ]
  },
  {
   "cell_type": "code",
   "execution_count": 31,
   "metadata": {},
   "outputs": [],
   "source": [
    "def construct_index(index: faiss.Index, data):\n",
    "    assert index.is_trained\n",
    "    t0 = time.time()\n",
    "    index.add(data)\n",
    "    t1 = time.time()\n",
    "\n",
    "    return t1 - t0"
   ]
  },
  {
   "cell_type": "code",
   "execution_count": 32,
   "metadata": {},
   "outputs": [],
   "source": [
    "def round_down(a: float):\n",
    "    return math.floor(a * 100)/100.0"
   ]
  },
  {
   "cell_type": "code",
   "execution_count": 33,
   "metadata": {},
   "outputs": [],
   "source": [
    "embeddings_np_train = chunks_base_emb[:20000]\n",
    "embeddings_np_test = questions_base_emb[:3000]"
   ]
  },
  {
   "cell_type": "code",
   "execution_count": 46,
   "metadata": {},
   "outputs": [
    {
     "name": "stdout",
     "output_type": "stream",
     "text": [
      "  index  NDCG  size_mb  mean_time_query_ms\n",
      "0  flat   1.0   433.01                5.24\n",
      "            index  NDCG  size_mb  mean_time_query_ms\n",
      "17  hnsw_64_64_64  0.96   488.84                0.43\n",
      "                 index  NDCG  size_mb  mean_time_query_ms\n",
      "68  hnsw_sq_64_64_64_0  0.96   164.09                0.12\n",
      "       index  NDCG  size_mb  mean_time_query_ms\n",
      "11  pq_32_10  0.63     8.22                4.04\n",
      "                    index  NDCG  size_mb  mean_time_query_ms\n",
      "18  hnsw_pq_32_9_64_32_64  0.61    12.76                0.02\n",
      "                   index  NDCG  size_mb  mean_time_query_ms\n",
      "1  ivf_IndexFlatIP_32_32   1.0     78.4                1.03\n",
      "                            index  NDCG  size_mb  mean_time_query_ms\n",
      "19  ivf_pq_IndexFlatIP_64_16_32_9  0.64     3.08                0.34\n",
      "                     index  NDCG  size_mb  mean_time_query_ms\n",
      "32  ivfHNSW_32_32_16_64_64   1.0     78.4                4.43\n"
     ]
    }
   ],
   "source": [
    "results: list[list] = list()\n",
    "\n",
    "for group_name in indexes_with_params.keys():\n",
    "    if os.path.exists(\"../data/index_res_base/\" + group_name + \".csv\"):\n",
    "        df = pd.read_csv(\"../data/index_res_base/\" + group_name + \".csv\", index_col=0)\n",
    "        best_row = df.iloc[[df.idxmax(axis=0)[\"NDCG\"]]]\n",
    "        print(best_row[[\"index\", \"NDCG\", \"size_mb\", \"mean_time_query_ms\"]])\n",
    "        continue\n",
    "\n",
    "    group_results: list[list] = list()\n",
    "    group_best: list = [\"\", -1, -1, -1, -1]\n",
    "\n",
    "    list_indexes = list(indexes_with_params[group_name].keys())\n",
    "    if len(list_indexes) > 50:\n",
    "        list_indexes = np.sort(np.random.choice(list_indexes, max(len(list_indexes)//5, 50), replace=False))\n",
    "    \n",
    "    pbar = tqdm(list_indexes)\n",
    "    for name in pbar:\n",
    "        index = indexes_with_params[group_name][name]\n",
    "        pbar.set_description(name)\n",
    "        train_time = -1 if index.is_trained else train_index(index, embeddings_np_train)*1000\n",
    "        assert index.is_trained\n",
    "        construct_time = construct_index(index, embeddings_np_train)*1000\n",
    "        assert index.ntotal > 0\n",
    "        flat_index_local = faiss.IndexFlatL2(embedding_dim)\n",
    "        flat_index_local.add(embeddings_np_train)\n",
    "        mean_ndcg, mean_time = calculate_mean_ndcg_mismatch(flat_index_local, index, embeddings_np_test, k)\n",
    "        index_size_mb = calculate_disk_usage(index, name)\n",
    "        if mean_ndcg > 1:\n",
    "            print(mean_ndcg)\n",
    "            assert 0\n",
    "        index.reset()\n",
    "\n",
    "        res = [\n",
    "            name,\n",
    "            round_down(mean_ndcg),\n",
    "            round_down(index_size_mb),\n",
    "            round_down(mean_time*1000),\n",
    "            round_down(train_time),\n",
    "            round_down(construct_time)\n",
    "        ]\n",
    "        group_results.append(res)\n",
    "        if res[1] > group_best[1]:\n",
    "            group_best = res\n",
    "            pbar.set_postfix({\"NDCG\": res[1], \"index\": name})\n",
    "\n",
    "    df = pd.DataFrame(group_results, columns=[\"index\", \"NDCG\", \"size_mb\", \"mean_time_query_ms\", \"time_train_ms\", \"time_construct_ms\"])\n",
    "    df.to_csv(\"../data/index_res_base/\" + group_name + \".csv\")\n",
    "    results.extend(group_results)\n",
    "    pbar.set_description(group_name)\n",
    "\n",
    "res_df = pd.DataFrame(results, columns=[\"index\", \"NDCG\", \"size_mb\", \"mean_time_query_ms\", \"time_train_ms\", \"time_construct_ms\"])\n",
    "res_df.to_csv(\"../data/index_res_base/all.csv\")"
   ]
  },
  {
   "cell_type": "markdown",
   "metadata": {},
   "source": [
    "---"
   ]
  },
  {
   "cell_type": "code",
   "execution_count": 47,
   "metadata": {},
   "outputs": [
    {
     "data": {
      "application/vnd.jupyter.widget-view+json": {
       "model_id": "8fab5681e33e4d1fa71b0803431b0eeb",
       "version_major": 2,
       "version_minor": 0
      },
      "text/plain": [
       "  0%|          | 0/8 [00:00<?, ?it/s]"
      ]
     },
     "metadata": {},
     "output_type": "display_data"
    },
    {
     "data": {
      "text/html": [
       "<div>\n",
       "<style scoped>\n",
       "    .dataframe tbody tr th:only-of-type {\n",
       "        vertical-align: middle;\n",
       "    }\n",
       "\n",
       "    .dataframe tbody tr th {\n",
       "        vertical-align: top;\n",
       "    }\n",
       "\n",
       "    .dataframe thead th {\n",
       "        text-align: right;\n",
       "    }\n",
       "</style>\n",
       "<table border=\"1\" class=\"dataframe\">\n",
       "  <thead>\n",
       "    <tr style=\"text-align: right;\">\n",
       "      <th></th>\n",
       "      <th>index</th>\n",
       "      <th>NDCG</th>\n",
       "      <th>size_mb</th>\n",
       "      <th>mean_time_query_ms</th>\n",
       "      <th>time_train_ms</th>\n",
       "      <th>time_construct_ms</th>\n",
       "      <th>group</th>\n",
       "    </tr>\n",
       "  </thead>\n",
       "  <tbody>\n",
       "    <tr>\n",
       "      <th>0</th>\n",
       "      <td>flat</td>\n",
       "      <td>1.00</td>\n",
       "      <td>433.01</td>\n",
       "      <td>5.24</td>\n",
       "      <td>-1.0</td>\n",
       "      <td>1095.86</td>\n",
       "      <td>flat</td>\n",
       "    </tr>\n",
       "    <tr>\n",
       "      <th>0</th>\n",
       "      <td>hnsw_16_16_16</td>\n",
       "      <td>0.57</td>\n",
       "      <td>448.27</td>\n",
       "      <td>0.04</td>\n",
       "      <td>-1.0</td>\n",
       "      <td>6000.28</td>\n",
       "      <td>hnsw</td>\n",
       "    </tr>\n",
       "    <tr>\n",
       "      <th>1</th>\n",
       "      <td>hnsw_16_16_32</td>\n",
       "      <td>0.66</td>\n",
       "      <td>448.27</td>\n",
       "      <td>0.04</td>\n",
       "      <td>-1.0</td>\n",
       "      <td>5702.87</td>\n",
       "      <td>hnsw</td>\n",
       "    </tr>\n",
       "    <tr>\n",
       "      <th>2</th>\n",
       "      <td>hnsw_16_16_64</td>\n",
       "      <td>0.77</td>\n",
       "      <td>448.27</td>\n",
       "      <td>0.06</td>\n",
       "      <td>-1.0</td>\n",
       "      <td>18830.79</td>\n",
       "      <td>hnsw</td>\n",
       "    </tr>\n",
       "    <tr>\n",
       "      <th>3</th>\n",
       "      <td>hnsw_16_32_32</td>\n",
       "      <td>0.77</td>\n",
       "      <td>448.27</td>\n",
       "      <td>0.08</td>\n",
       "      <td>-1.0</td>\n",
       "      <td>9084.90</td>\n",
       "      <td>hnsw</td>\n",
       "    </tr>\n",
       "  </tbody>\n",
       "</table>\n",
       "</div>"
      ],
      "text/plain": [
       "           index  NDCG  size_mb  mean_time_query_ms  time_train_ms  \\\n",
       "0           flat  1.00   433.01                5.24           -1.0   \n",
       "0  hnsw_16_16_16  0.57   448.27                0.04           -1.0   \n",
       "1  hnsw_16_16_32  0.66   448.27                0.04           -1.0   \n",
       "2  hnsw_16_16_64  0.77   448.27                0.06           -1.0   \n",
       "3  hnsw_16_32_32  0.77   448.27                0.08           -1.0   \n",
       "\n",
       "   time_construct_ms group  \n",
       "0            1095.86  flat  \n",
       "0            6000.28  hnsw  \n",
       "1            5702.87  hnsw  \n",
       "2           18830.79  hnsw  \n",
       "3            9084.90  hnsw  "
      ]
     },
     "execution_count": 47,
     "metadata": {},
     "output_type": "execute_result"
    }
   ],
   "source": [
    "indexes = indexes_with_params.keys()\n",
    "group_names = []\n",
    "\n",
    "results_df = []\n",
    "\n",
    "for group_name in tqdm(indexes_with_params.keys()):\n",
    "    group_df = pd.read_csv(\"../data/index_res_base/\" + group_name + \".csv\", index_col=0)\n",
    "    results_df.append(group_df)\n",
    "\n",
    "    n = group_df.shape[0]\n",
    "    group_names += [group_name] * n\n",
    "\n",
    "results_df = pd.concat(results_df)\n",
    "results_df[\"group\"] = group_names\n",
    "results_df.head()"
   ]
  },
  {
   "cell_type": "code",
   "execution_count": 48,
   "metadata": {},
   "outputs": [],
   "source": [
    "import plotly.express as px"
   ]
  },
  {
   "cell_type": "code",
   "execution_count": 51,
   "metadata": {},
   "outputs": [
    {
     "data": {
      "application/vnd.plotly.v1+json": {
       "config": {
        "plotlyServerURL": "https://plot.ly"
       },
       "data": [
        {
         "hovertemplate": "<b>%{hovertext}</b><br><br>group=flat<br>NDCG=%{x}<br>size_mb=%{y}<extra></extra>",
         "hovertext": [
          "flat"
         ],
         "legendgroup": "flat",
         "marker": {
          "color": "#636efa",
          "symbol": "circle"
         },
         "mode": "markers",
         "name": "flat",
         "orientation": "v",
         "showlegend": true,
         "type": "scatter",
         "x": [
          1
         ],
         "xaxis": "x",
         "y": [
          433.01
         ],
         "yaxis": "y"
        },
        {
         "hovertemplate": "<b>%{hovertext}</b><br><br>group=hnsw<br>NDCG=%{x}<br>size_mb=%{y}<extra></extra>",
         "hovertext": [
          "hnsw_16_16_16",
          "hnsw_16_16_32",
          "hnsw_16_16_64",
          "hnsw_16_32_32",
          "hnsw_16_32_64",
          "hnsw_16_64_64",
          "hnsw_32_16_16",
          "hnsw_32_16_32",
          "hnsw_32_16_64",
          "hnsw_32_32_32",
          "hnsw_32_32_64",
          "hnsw_32_64_64",
          "hnsw_64_16_16",
          "hnsw_64_16_32",
          "hnsw_64_16_64",
          "hnsw_64_32_32",
          "hnsw_64_32_64",
          "hnsw_64_64_64"
         ],
         "legendgroup": "hnsw",
         "marker": {
          "color": "#EF553B",
          "symbol": "circle"
         },
         "mode": "markers",
         "name": "hnsw",
         "orientation": "v",
         "showlegend": true,
         "type": "scatter",
         "x": [
          0.57,
          0.66,
          0.77,
          0.77,
          0.85,
          0.92,
          0.68,
          0.78,
          0.8,
          0.86,
          0.88,
          0.93,
          0.73,
          0.83,
          0.89,
          0.89,
          0.94,
          0.96
         ],
         "xaxis": "x",
         "y": [
          448.27,
          448.27,
          448.27,
          448.27,
          448.27,
          448.27,
          461.79,
          461.79,
          461.79,
          461.79,
          461.79,
          461.79,
          488.84,
          488.84,
          488.84,
          488.84,
          488.84,
          488.84
         ],
         "yaxis": "y"
        },
        {
         "hovertemplate": "<b>%{hovertext}</b><br><br>group=hnsw_sq<br>NDCG=%{x}<br>size_mb=%{y}<extra></extra>",
         "hovertext": [
          "hnsw_sq_16_16_16_0",
          "hnsw_sq_16_16_16_1",
          "hnsw_sq_16_16_16_2",
          "hnsw_sq_16_16_16_3",
          "hnsw_sq_16_16_32_0",
          "hnsw_sq_16_16_32_1",
          "hnsw_sq_16_16_32_2",
          "hnsw_sq_16_16_32_3",
          "hnsw_sq_16_16_64_0",
          "hnsw_sq_16_16_64_1",
          "hnsw_sq_16_16_64_2",
          "hnsw_sq_16_16_64_3",
          "hnsw_sq_16_32_32_0",
          "hnsw_sq_16_32_32_1",
          "hnsw_sq_16_32_32_2",
          "hnsw_sq_16_32_32_3",
          "hnsw_sq_16_32_64_0",
          "hnsw_sq_16_32_64_1",
          "hnsw_sq_16_32_64_2",
          "hnsw_sq_16_32_64_3",
          "hnsw_sq_16_64_64_0",
          "hnsw_sq_16_64_64_1",
          "hnsw_sq_16_64_64_2",
          "hnsw_sq_16_64_64_3",
          "hnsw_sq_32_16_16_0",
          "hnsw_sq_32_16_16_1",
          "hnsw_sq_32_16_16_2",
          "hnsw_sq_32_16_16_3",
          "hnsw_sq_32_16_32_0",
          "hnsw_sq_32_16_32_1",
          "hnsw_sq_32_16_32_2",
          "hnsw_sq_32_16_32_3",
          "hnsw_sq_32_16_64_0",
          "hnsw_sq_32_16_64_1",
          "hnsw_sq_32_16_64_2",
          "hnsw_sq_32_16_64_3",
          "hnsw_sq_32_32_32_0",
          "hnsw_sq_32_32_32_1",
          "hnsw_sq_32_32_32_2",
          "hnsw_sq_32_32_32_3",
          "hnsw_sq_32_32_64_0",
          "hnsw_sq_32_32_64_1",
          "hnsw_sq_32_32_64_2",
          "hnsw_sq_32_32_64_3",
          "hnsw_sq_32_64_64_0",
          "hnsw_sq_32_64_64_1",
          "hnsw_sq_32_64_64_2",
          "hnsw_sq_32_64_64_3",
          "hnsw_sq_64_16_16_0",
          "hnsw_sq_64_16_16_1",
          "hnsw_sq_64_16_16_2",
          "hnsw_sq_64_16_16_3",
          "hnsw_sq_64_16_32_0",
          "hnsw_sq_64_16_32_1",
          "hnsw_sq_64_16_32_2",
          "hnsw_sq_64_16_32_3",
          "hnsw_sq_64_16_64_0",
          "hnsw_sq_64_16_64_1",
          "hnsw_sq_64_16_64_2",
          "hnsw_sq_64_16_64_3",
          "hnsw_sq_64_32_32_0",
          "hnsw_sq_64_32_32_1",
          "hnsw_sq_64_32_32_2",
          "hnsw_sq_64_32_32_3",
          "hnsw_sq_64_32_64_0",
          "hnsw_sq_64_32_64_1",
          "hnsw_sq_64_32_64_2",
          "hnsw_sq_64_32_64_3",
          "hnsw_sq_64_64_64_0",
          "hnsw_sq_64_64_64_1",
          "hnsw_sq_64_64_64_2",
          "hnsw_sq_64_64_64_3"
         ],
         "legendgroup": "hnsw_sq",
         "marker": {
          "color": "#00cc96",
          "symbol": "circle"
         },
         "mode": "markers",
         "name": "hnsw_sq",
         "orientation": "v",
         "showlegend": true,
         "type": "scatter",
         "x": [
          0.58,
          0.56,
          0.59,
          0.57,
          0.67,
          0.66,
          0.68,
          0.71,
          0.76,
          0.77,
          0.77,
          0.77,
          0.77,
          0.77,
          0.78,
          0.78,
          0.86,
          0.85,
          0.85,
          0.84,
          0.91,
          0.89,
          0.91,
          0.86,
          0.68,
          0.68,
          0.66,
          0.65,
          0.78,
          0.76,
          0.77,
          0.74,
          0.8,
          0.81,
          0.8,
          0.81,
          0.86,
          0.83,
          0.86,
          0.81,
          0.89,
          0.86,
          0.88,
          0.85,
          0.93,
          0.91,
          0.93,
          0.88,
          0.74,
          0.73,
          0.73,
          0.69,
          0.84,
          0.82,
          0.84,
          0.78,
          0.89,
          0.87,
          0.88,
          0.83,
          0.89,
          0.87,
          0.89,
          0.83,
          0.93,
          0.91,
          0.93,
          0.86,
          0.96,
          0.93,
          0.96,
          0.89
         ],
         "xaxis": "x",
         "y": [
          123.52,
          69.39,
          123.51,
          69.38,
          123.52,
          69.39,
          123.51,
          69.38,
          123.52,
          69.39,
          123.51,
          69.38,
          123.52,
          69.39,
          123.51,
          69.38,
          123.52,
          69.39,
          123.51,
          69.38,
          123.52,
          69.39,
          123.51,
          69.38,
          137.04,
          82.91,
          137.03,
          82.9,
          137.04,
          82.91,
          137.03,
          82.9,
          137.04,
          82.91,
          137.03,
          82.9,
          137.04,
          82.91,
          137.03,
          82.9,
          137.04,
          82.91,
          137.03,
          82.9,
          137.04,
          82.91,
          137.03,
          82.9,
          164.09,
          109.96,
          164.08,
          109.95,
          164.09,
          109.96,
          164.08,
          109.95,
          164.09,
          109.96,
          164.08,
          109.95,
          164.09,
          109.96,
          164.08,
          109.95,
          164.09,
          109.96,
          164.08,
          109.95,
          164.09,
          109.96,
          164.08,
          109.95
         ],
         "yaxis": "y"
        },
        {
         "hovertemplate": "<b>%{hovertext}</b><br><br>group=pq<br>NDCG=%{x}<br>size_mb=%{y}<extra></extra>",
         "hovertext": [
          "pq_4_6",
          "pq_4_8",
          "pq_4_10",
          "pq_8_6",
          "pq_8_8",
          "pq_8_10",
          "pq_16_6",
          "pq_16_8",
          "pq_16_10",
          "pq_32_6",
          "pq_32_8",
          "pq_32_10"
         ],
         "legendgroup": "pq",
         "marker": {
          "color": "#ab63fa",
          "symbol": "circle"
         },
         "mode": "markers",
         "name": "pq",
         "orientation": "v",
         "showlegend": true,
         "type": "scatter",
         "x": [
          0.05,
          0.09,
          0.2,
          0.1,
          0.21,
          0.32,
          0.27,
          0.37,
          0.48,
          0.44,
          0.53,
          0.63
         ],
         "xaxis": "x",
         "y": [
          0.56,
          1.42,
          4.52,
          0.88,
          1.84,
          5.05,
          1.51,
          2.69,
          6.11,
          2.78,
          4.38,
          8.22
         ],
         "yaxis": "y"
        },
        {
         "hovertemplate": "<b>%{hovertext}</b><br><br>group=hnsw_pq<br>NDCG=%{x}<br>size_mb=%{y}<extra></extra>",
         "hovertext": [
          "hnsw_pq_16_6_16_16_32",
          "hnsw_pq_16_6_16_16_64",
          "hnsw_pq_16_8_16_64_64",
          "hnsw_pq_16_8_32_16_16",
          "hnsw_pq_16_9_16_16_32",
          "hnsw_pq_16_9_64_16_32",
          "hnsw_pq_16_9_64_16_64",
          "hnsw_pq_32_6_64_32_64",
          "hnsw_pq_32_8_16_16_16",
          "hnsw_pq_32_8_16_32_32",
          "hnsw_pq_32_8_32_16_32",
          "hnsw_pq_32_8_32_32_32",
          "hnsw_pq_32_8_64_16_16",
          "hnsw_pq_32_9_16_16_64",
          "hnsw_pq_32_9_32_32_32",
          "hnsw_pq_32_9_32_32_64",
          "hnsw_pq_32_9_64_16_32",
          "hnsw_pq_32_9_64_32_32",
          "hnsw_pq_32_9_64_32_64",
          "hnsw_pq_4_6_16_16_16",
          "hnsw_pq_4_6_32_16_16",
          "hnsw_pq_4_6_32_16_32",
          "hnsw_pq_4_6_32_32_64",
          "hnsw_pq_4_6_32_64_64",
          "hnsw_pq_4_6_64_16_16",
          "hnsw_pq_4_8_16_16_16",
          "hnsw_pq_4_8_32_16_32",
          "hnsw_pq_4_8_64_16_16",
          "hnsw_pq_4_8_64_32_32",
          "hnsw_pq_4_8_64_32_64",
          "hnsw_pq_4_8_64_64_64",
          "hnsw_pq_4_9_16_16_64",
          "hnsw_pq_4_9_16_32_64",
          "hnsw_pq_4_9_64_16_32",
          "hnsw_pq_4_9_64_32_64",
          "hnsw_pq_8_6_16_16_16",
          "hnsw_pq_8_6_16_16_64",
          "hnsw_pq_8_6_64_64_64",
          "hnsw_pq_8_8_16_16_64",
          "hnsw_pq_8_8_16_32_32",
          "hnsw_pq_8_8_32_16_16",
          "hnsw_pq_8_8_32_16_32",
          "hnsw_pq_8_8_32_32_32",
          "hnsw_pq_8_8_64_16_16",
          "hnsw_pq_8_8_64_32_64",
          "hnsw_pq_8_9_16_16_64",
          "hnsw_pq_8_9_16_64_64",
          "hnsw_pq_8_9_32_16_16",
          "hnsw_pq_8_9_64_16_64",
          "hnsw_pq_8_9_64_32_32"
         ],
         "legendgroup": "hnsw_pq",
         "marker": {
          "color": "#FFA15A",
          "symbol": "circle"
         },
         "mode": "markers",
         "name": "hnsw_pq",
         "orientation": "v",
         "showlegend": true,
         "type": "scatter",
         "x": [
          0.12,
          0.11,
          0.2,
          0.39,
          0.19,
          0.48,
          0.49,
          0.43,
          0.48,
          0.2,
          0.53,
          0.54,
          0.5,
          0.18,
          0.59,
          0.26,
          0.58,
          0.6,
          0.61,
          0.06,
          0.07,
          0.07,
          0.05,
          0.07,
          0.07,
          0.14,
          0.2,
          0.21,
          0.22,
          0.22,
          0.22,
          0.1,
          0.12,
          0.27,
          0.27,
          0.13,
          0.08,
          0.15,
          0.13,
          0.16,
          0.27,
          0.29,
          0.29,
          0.29,
          0.31,
          0.14,
          0.2,
          0.35,
          0.39,
          0.39
         ],
         "xaxis": "x",
         "y": [
          3.22,
          3.22,
          4.05,
          6.49,
          5.09,
          12.41,
          12.41,
          10.78,
          4.36,
          4.36,
          6.8,
          6.8,
          11.68,
          5.43,
          7.87,
          7.87,
          12.76,
          12.76,
          12.76,
          3.05,
          5.49,
          5.49,
          5.49,
          5.49,
          10.38,
          3.82,
          6.26,
          11.15,
          11.15,
          11.15,
          11.15,
          4.84,
          4.84,
          12.16,
          12.16,
          3.11,
          3.11,
          10.43,
          3.9,
          3.9,
          6.34,
          6.34,
          6.34,
          11.22,
          11.22,
          4.92,
          4.92,
          7.36,
          12.24,
          12.24
         ],
         "yaxis": "y"
        },
        {
         "hovertemplate": "<b>%{hovertext}</b><br><br>group=ivf<br>NDCG=%{x}<br>size_mb=%{y}<extra></extra>",
         "hovertext": [
          "ivf_IndexFlatIP_32_16",
          "ivf_IndexFlatIP_32_32",
          "ivf_IndexFlatIP_64_16",
          "ivf_IndexFlatIP_64_32",
          "ivf_IndexFlatIP_64_64",
          "ivf_IndexFlatIP_128_16",
          "ivf_IndexFlatIP_128_32",
          "ivf_IndexFlatIP_128_64",
          "ivf_IndexFlatIP_256_16",
          "ivf_IndexFlatIP_256_32",
          "ivf_IndexFlatIP_256_64",
          "ivf_IndexFlatL2_32_16",
          "ivf_IndexFlatL2_32_32",
          "ivf_IndexFlatL2_64_16",
          "ivf_IndexFlatL2_64_32",
          "ivf_IndexFlatL2_64_64",
          "ivf_IndexFlatL2_128_16",
          "ivf_IndexFlatL2_128_32",
          "ivf_IndexFlatL2_128_64",
          "ivf_IndexFlatL2_256_16",
          "ivf_IndexFlatL2_256_32",
          "ivf_IndexFlatL2_256_64"
         ],
         "legendgroup": "ivf",
         "marker": {
          "color": "#19d3f3",
          "symbol": "circle"
         },
         "mode": "markers",
         "name": "ivf",
         "orientation": "v",
         "showlegend": true,
         "type": "scatter",
         "x": [
          0.97,
          1,
          0.96,
          0.98,
          1,
          0.93,
          0.97,
          0.99,
          0.9,
          0.94,
          0.97,
          0.98,
          1,
          0.95,
          0.98,
          1,
          0.92,
          0.96,
          0.99,
          0.9,
          0.94,
          0.97
         ],
         "xaxis": "x",
         "y": [
          78.4,
          78.4,
          78.52,
          78.52,
          78.52,
          78.77,
          78.77,
          78.77,
          79.27,
          79.27,
          79.27,
          78.4,
          78.4,
          78.52,
          78.52,
          78.52,
          78.77,
          78.77,
          78.77,
          79.27,
          79.27,
          79.27
         ],
         "yaxis": "y"
        },
        {
         "hovertemplate": "<b>%{hovertext}</b><br><br>group=ivf_pq<br>NDCG=%{x}<br>size_mb=%{y}<extra></extra>",
         "hovertext": [
          "ivf_pq_IndexFlatIP_128_16_32_6",
          "ivf_pq_IndexFlatIP_128_16_4_9",
          "ivf_pq_IndexFlatIP_128_16_8_6",
          "ivf_pq_IndexFlatIP_128_32_8_6",
          "ivf_pq_IndexFlatIP_128_64_32_8",
          "ivf_pq_IndexFlatIP_128_64_8_6",
          "ivf_pq_IndexFlatIP_128_64_8_8",
          "ivf_pq_IndexFlatIP_256_16_32_6",
          "ivf_pq_IndexFlatIP_256_16_4_6",
          "ivf_pq_IndexFlatIP_256_16_8_9",
          "ivf_pq_IndexFlatIP_256_32_16_8",
          "ivf_pq_IndexFlatIP_256_32_8_6",
          "ivf_pq_IndexFlatIP_256_64_32_8",
          "ivf_pq_IndexFlatIP_256_64_32_9",
          "ivf_pq_IndexFlatIP_32_16_16_8",
          "ivf_pq_IndexFlatIP_32_16_32_8",
          "ivf_pq_IndexFlatIP_32_16_8_8",
          "ivf_pq_IndexFlatIP_32_32_16_8",
          "ivf_pq_IndexFlatIP_64_16_16_6",
          "ivf_pq_IndexFlatIP_64_16_32_9",
          "ivf_pq_IndexFlatIP_64_16_4_6",
          "ivf_pq_IndexFlatIP_64_16_4_8",
          "ivf_pq_IndexFlatIP_64_16_4_9",
          "ivf_pq_IndexFlatIP_64_32_8_6",
          "ivf_pq_IndexFlatL2_128_16_16_8",
          "ivf_pq_IndexFlatL2_128_16_16_9",
          "ivf_pq_IndexFlatL2_128_16_4_6",
          "ivf_pq_IndexFlatL2_128_32_16_9",
          "ivf_pq_IndexFlatL2_128_32_32_9",
          "ivf_pq_IndexFlatL2_128_32_4_9",
          "ivf_pq_IndexFlatL2_128_64_16_8",
          "ivf_pq_IndexFlatL2_128_64_4_8",
          "ivf_pq_IndexFlatL2_128_64_8_9",
          "ivf_pq_IndexFlatL2_256_16_32_6",
          "ivf_pq_IndexFlatL2_256_16_4_9",
          "ivf_pq_IndexFlatL2_256_32_16_8",
          "ivf_pq_IndexFlatL2_256_32_32_9",
          "ivf_pq_IndexFlatL2_256_32_4_6",
          "ivf_pq_IndexFlatL2_256_32_4_8",
          "ivf_pq_IndexFlatL2_256_64_32_8",
          "ivf_pq_IndexFlatL2_256_64_8_6",
          "ivf_pq_IndexFlatL2_32_16_4_6",
          "ivf_pq_IndexFlatL2_32_16_8_8",
          "ivf_pq_IndexFlatL2_32_32_4_8",
          "ivf_pq_IndexFlatL2_64_16_16_6",
          "ivf_pq_IndexFlatL2_64_16_4_9",
          "ivf_pq_IndexFlatL2_64_32_32_6",
          "ivf_pq_IndexFlatL2_64_32_8_9",
          "ivf_pq_IndexFlatL2_64_64_16_8",
          "ivf_pq_IndexFlatL2_64_64_4_6",
          "ivf_pq_IndexFlatL2_64_64_4_9",
          "ivf_pq_IndexFlatL2_64_64_8_6"
         ],
         "legendgroup": "ivf_pq",
         "marker": {
          "color": "#FF6692",
          "symbol": "circle"
         },
         "mode": "markers",
         "name": "ivf_pq",
         "orientation": "v",
         "showlegend": true,
         "type": "scatter",
         "x": [
          0.53,
          0.39,
          0.36,
          0.36,
          0.59,
          0.36,
          0.44,
          0.52,
          0.3,
          0.47,
          0.52,
          0.37,
          0.59,
          0.63,
          0.48,
          0.59,
          0.36,
          0.48,
          0.42,
          0.64,
          0.26,
          0.33,
          0.39,
          0.33,
          0.51,
          0.54,
          0.25,
          0.55,
          0.63,
          0.38,
          0.51,
          0.33,
          0.45,
          0.53,
          0.37,
          0.52,
          0.64,
          0.3,
          0.36,
          0.59,
          0.37,
          0.2,
          0.37,
          0.28,
          0.4,
          0.36,
          0.51,
          0.45,
          0.48,
          0.22,
          0.36,
          0.3
         ],
         "xaxis": "x",
         "y": [
          1.36,
          2.74,
          1.01,
          1.01,
          2.26,
          1.01,
          1.8,
          1.86,
          1.46,
          3.32,
          2.45,
          1.51,
          2.76,
          3.84,
          1.58,
          1.88,
          1.43,
          1.58,
          0.88,
          3.08,
          0.71,
          1.47,
          2.49,
          0.76,
          1.95,
          2.99,
          0.96,
          2.99,
          3.34,
          2.74,
          1.95,
          1.73,
          2.82,
          1.86,
          3.25,
          2.45,
          3.84,
          1.46,
          2.23,
          2.76,
          1.51,
          0.58,
          1.43,
          1.35,
          0.88,
          2.49,
          1.11,
          2.57,
          1.7,
          0.71,
          2.49,
          0.76
         ],
         "yaxis": "y"
        },
        {
         "hovertemplate": "<b>%{hovertext}</b><br><br>group=ivfHNSW<br>NDCG=%{x}<br>size_mb=%{y}<extra></extra>",
         "hovertext": [
          "ivfHNSW_128_16_16_16_64",
          "ivfHNSW_128_16_16_32_64",
          "ivfHNSW_128_16_64_16_32",
          "ivfHNSW_128_16_64_32_32",
          "ivfHNSW_128_16_64_64_64",
          "ivfHNSW_128_32_16_16_64",
          "ivfHNSW_128_32_32_16_16",
          "ivfHNSW_128_32_64_16_16",
          "ivfHNSW_128_32_64_16_64",
          "ivfHNSW_128_32_64_64_64",
          "ivfHNSW_128_64_16_16_64",
          "ivfHNSW_128_64_16_32_64",
          "ivfHNSW_128_64_32_16_32",
          "ivfHNSW_128_64_32_64_64",
          "ivfHNSW_128_64_64_16_16",
          "ivfHNSW_256_16_16_16_32",
          "ivfHNSW_256_16_16_64_64",
          "ivfHNSW_256_16_32_32_64",
          "ivfHNSW_256_16_32_64_64",
          "ivfHNSW_256_32_16_16_16",
          "ivfHNSW_256_32_32_16_32",
          "ivfHNSW_256_32_64_16_32",
          "ivfHNSW_256_32_64_16_64",
          "ivfHNSW_256_32_64_32_64",
          "ivfHNSW_256_64_16_64_64",
          "ivfHNSW_256_64_32_16_64",
          "ivfHNSW_256_64_64_16_16",
          "ivfHNSW_256_64_64_64_64",
          "ivfHNSW_32_16_16_32_64",
          "ivfHNSW_32_16_32_16_64",
          "ivfHNSW_32_16_32_32_64",
          "ivfHNSW_32_16_64_16_64",
          "ivfHNSW_32_32_16_64_64",
          "ivfHNSW_32_32_64_16_64",
          "ivfHNSW_64_16_16_16_32",
          "ivfHNSW_64_16_16_32_32",
          "ivfHNSW_64_16_16_32_64",
          "ivfHNSW_64_16_32_16_32",
          "ivfHNSW_64_16_32_32_32",
          "ivfHNSW_64_16_32_64_64",
          "ivfHNSW_64_32_16_32_32",
          "ivfHNSW_64_32_16_64_64",
          "ivfHNSW_64_32_32_16_16",
          "ivfHNSW_64_32_32_16_32",
          "ivfHNSW_64_32_64_16_16",
          "ivfHNSW_64_64_16_16_16",
          "ivfHNSW_64_64_16_32_32",
          "ivfHNSW_64_64_32_32_64",
          "ivfHNSW_64_64_64_32_64",
          "ivfHNSW_64_64_64_64_64"
         ],
         "legendgroup": "ivfHNSW",
         "marker": {
          "color": "#B6E880",
          "symbol": "circle"
         },
         "mode": "markers",
         "name": "ivfHNSW",
         "orientation": "v",
         "showlegend": true,
         "type": "scatter",
         "x": [
          0.91,
          0.92,
          0.92,
          0.92,
          0.92,
          0.95,
          0.95,
          0.96,
          0.96,
          0.96,
          0.96,
          0.99,
          0.99,
          0.99,
          0.99,
          0.89,
          0.9,
          0.9,
          0.9,
          0.93,
          0.94,
          0.94,
          0.94,
          0.94,
          0.97,
          0.95,
          0.97,
          0.97,
          0.98,
          0.98,
          0.98,
          0.98,
          1,
          1,
          0.95,
          0.95,
          0.95,
          0.95,
          0.95,
          0.95,
          0.98,
          0.98,
          0.98,
          0.98,
          0.98,
          0.99,
          0.99,
          1,
          1,
          1
         ],
         "xaxis": "x",
         "y": [
          78.79,
          78.79,
          78.84,
          78.84,
          78.84,
          78.79,
          78.81,
          78.84,
          78.84,
          78.84,
          78.79,
          78.79,
          78.81,
          78.81,
          78.84,
          79.31,
          79.31,
          79.34,
          79.34,
          79.31,
          79.34,
          79.4,
          79.4,
          79.4,
          79.31,
          79.34,
          79.4,
          79.4,
          78.4,
          78.41,
          78.41,
          78.41,
          78.4,
          78.41,
          78.53,
          78.53,
          78.53,
          78.54,
          78.54,
          78.54,
          78.53,
          78.53,
          78.54,
          78.54,
          78.56,
          78.53,
          78.53,
          78.54,
          78.56,
          78.56
         ],
         "yaxis": "y"
        }
       ],
       "layout": {
        "legend": {
         "title": {
          "text": "group"
         },
         "tracegroupgap": 0
        },
        "margin": {
         "t": 60
        },
        "template": {
         "data": {
          "bar": [
           {
            "error_x": {
             "color": "#2a3f5f"
            },
            "error_y": {
             "color": "#2a3f5f"
            },
            "marker": {
             "line": {
              "color": "#E5ECF6",
              "width": 0.5
             },
             "pattern": {
              "fillmode": "overlay",
              "size": 10,
              "solidity": 0.2
             }
            },
            "type": "bar"
           }
          ],
          "barpolar": [
           {
            "marker": {
             "line": {
              "color": "#E5ECF6",
              "width": 0.5
             },
             "pattern": {
              "fillmode": "overlay",
              "size": 10,
              "solidity": 0.2
             }
            },
            "type": "barpolar"
           }
          ],
          "carpet": [
           {
            "aaxis": {
             "endlinecolor": "#2a3f5f",
             "gridcolor": "white",
             "linecolor": "white",
             "minorgridcolor": "white",
             "startlinecolor": "#2a3f5f"
            },
            "baxis": {
             "endlinecolor": "#2a3f5f",
             "gridcolor": "white",
             "linecolor": "white",
             "minorgridcolor": "white",
             "startlinecolor": "#2a3f5f"
            },
            "type": "carpet"
           }
          ],
          "choropleth": [
           {
            "colorbar": {
             "outlinewidth": 0,
             "ticks": ""
            },
            "type": "choropleth"
           }
          ],
          "contour": [
           {
            "colorbar": {
             "outlinewidth": 0,
             "ticks": ""
            },
            "colorscale": [
             [
              0,
              "#0d0887"
             ],
             [
              0.1111111111111111,
              "#46039f"
             ],
             [
              0.2222222222222222,
              "#7201a8"
             ],
             [
              0.3333333333333333,
              "#9c179e"
             ],
             [
              0.4444444444444444,
              "#bd3786"
             ],
             [
              0.5555555555555556,
              "#d8576b"
             ],
             [
              0.6666666666666666,
              "#ed7953"
             ],
             [
              0.7777777777777778,
              "#fb9f3a"
             ],
             [
              0.8888888888888888,
              "#fdca26"
             ],
             [
              1,
              "#f0f921"
             ]
            ],
            "type": "contour"
           }
          ],
          "contourcarpet": [
           {
            "colorbar": {
             "outlinewidth": 0,
             "ticks": ""
            },
            "type": "contourcarpet"
           }
          ],
          "heatmap": [
           {
            "colorbar": {
             "outlinewidth": 0,
             "ticks": ""
            },
            "colorscale": [
             [
              0,
              "#0d0887"
             ],
             [
              0.1111111111111111,
              "#46039f"
             ],
             [
              0.2222222222222222,
              "#7201a8"
             ],
             [
              0.3333333333333333,
              "#9c179e"
             ],
             [
              0.4444444444444444,
              "#bd3786"
             ],
             [
              0.5555555555555556,
              "#d8576b"
             ],
             [
              0.6666666666666666,
              "#ed7953"
             ],
             [
              0.7777777777777778,
              "#fb9f3a"
             ],
             [
              0.8888888888888888,
              "#fdca26"
             ],
             [
              1,
              "#f0f921"
             ]
            ],
            "type": "heatmap"
           }
          ],
          "heatmapgl": [
           {
            "colorbar": {
             "outlinewidth": 0,
             "ticks": ""
            },
            "colorscale": [
             [
              0,
              "#0d0887"
             ],
             [
              0.1111111111111111,
              "#46039f"
             ],
             [
              0.2222222222222222,
              "#7201a8"
             ],
             [
              0.3333333333333333,
              "#9c179e"
             ],
             [
              0.4444444444444444,
              "#bd3786"
             ],
             [
              0.5555555555555556,
              "#d8576b"
             ],
             [
              0.6666666666666666,
              "#ed7953"
             ],
             [
              0.7777777777777778,
              "#fb9f3a"
             ],
             [
              0.8888888888888888,
              "#fdca26"
             ],
             [
              1,
              "#f0f921"
             ]
            ],
            "type": "heatmapgl"
           }
          ],
          "histogram": [
           {
            "marker": {
             "pattern": {
              "fillmode": "overlay",
              "size": 10,
              "solidity": 0.2
             }
            },
            "type": "histogram"
           }
          ],
          "histogram2d": [
           {
            "colorbar": {
             "outlinewidth": 0,
             "ticks": ""
            },
            "colorscale": [
             [
              0,
              "#0d0887"
             ],
             [
              0.1111111111111111,
              "#46039f"
             ],
             [
              0.2222222222222222,
              "#7201a8"
             ],
             [
              0.3333333333333333,
              "#9c179e"
             ],
             [
              0.4444444444444444,
              "#bd3786"
             ],
             [
              0.5555555555555556,
              "#d8576b"
             ],
             [
              0.6666666666666666,
              "#ed7953"
             ],
             [
              0.7777777777777778,
              "#fb9f3a"
             ],
             [
              0.8888888888888888,
              "#fdca26"
             ],
             [
              1,
              "#f0f921"
             ]
            ],
            "type": "histogram2d"
           }
          ],
          "histogram2dcontour": [
           {
            "colorbar": {
             "outlinewidth": 0,
             "ticks": ""
            },
            "colorscale": [
             [
              0,
              "#0d0887"
             ],
             [
              0.1111111111111111,
              "#46039f"
             ],
             [
              0.2222222222222222,
              "#7201a8"
             ],
             [
              0.3333333333333333,
              "#9c179e"
             ],
             [
              0.4444444444444444,
              "#bd3786"
             ],
             [
              0.5555555555555556,
              "#d8576b"
             ],
             [
              0.6666666666666666,
              "#ed7953"
             ],
             [
              0.7777777777777778,
              "#fb9f3a"
             ],
             [
              0.8888888888888888,
              "#fdca26"
             ],
             [
              1,
              "#f0f921"
             ]
            ],
            "type": "histogram2dcontour"
           }
          ],
          "mesh3d": [
           {
            "colorbar": {
             "outlinewidth": 0,
             "ticks": ""
            },
            "type": "mesh3d"
           }
          ],
          "parcoords": [
           {
            "line": {
             "colorbar": {
              "outlinewidth": 0,
              "ticks": ""
             }
            },
            "type": "parcoords"
           }
          ],
          "pie": [
           {
            "automargin": true,
            "type": "pie"
           }
          ],
          "scatter": [
           {
            "fillpattern": {
             "fillmode": "overlay",
             "size": 10,
             "solidity": 0.2
            },
            "type": "scatter"
           }
          ],
          "scatter3d": [
           {
            "line": {
             "colorbar": {
              "outlinewidth": 0,
              "ticks": ""
             }
            },
            "marker": {
             "colorbar": {
              "outlinewidth": 0,
              "ticks": ""
             }
            },
            "type": "scatter3d"
           }
          ],
          "scattercarpet": [
           {
            "marker": {
             "colorbar": {
              "outlinewidth": 0,
              "ticks": ""
             }
            },
            "type": "scattercarpet"
           }
          ],
          "scattergeo": [
           {
            "marker": {
             "colorbar": {
              "outlinewidth": 0,
              "ticks": ""
             }
            },
            "type": "scattergeo"
           }
          ],
          "scattergl": [
           {
            "marker": {
             "colorbar": {
              "outlinewidth": 0,
              "ticks": ""
             }
            },
            "type": "scattergl"
           }
          ],
          "scattermapbox": [
           {
            "marker": {
             "colorbar": {
              "outlinewidth": 0,
              "ticks": ""
             }
            },
            "type": "scattermapbox"
           }
          ],
          "scatterpolar": [
           {
            "marker": {
             "colorbar": {
              "outlinewidth": 0,
              "ticks": ""
             }
            },
            "type": "scatterpolar"
           }
          ],
          "scatterpolargl": [
           {
            "marker": {
             "colorbar": {
              "outlinewidth": 0,
              "ticks": ""
             }
            },
            "type": "scatterpolargl"
           }
          ],
          "scatterternary": [
           {
            "marker": {
             "colorbar": {
              "outlinewidth": 0,
              "ticks": ""
             }
            },
            "type": "scatterternary"
           }
          ],
          "surface": [
           {
            "colorbar": {
             "outlinewidth": 0,
             "ticks": ""
            },
            "colorscale": [
             [
              0,
              "#0d0887"
             ],
             [
              0.1111111111111111,
              "#46039f"
             ],
             [
              0.2222222222222222,
              "#7201a8"
             ],
             [
              0.3333333333333333,
              "#9c179e"
             ],
             [
              0.4444444444444444,
              "#bd3786"
             ],
             [
              0.5555555555555556,
              "#d8576b"
             ],
             [
              0.6666666666666666,
              "#ed7953"
             ],
             [
              0.7777777777777778,
              "#fb9f3a"
             ],
             [
              0.8888888888888888,
              "#fdca26"
             ],
             [
              1,
              "#f0f921"
             ]
            ],
            "type": "surface"
           }
          ],
          "table": [
           {
            "cells": {
             "fill": {
              "color": "#EBF0F8"
             },
             "line": {
              "color": "white"
             }
            },
            "header": {
             "fill": {
              "color": "#C8D4E3"
             },
             "line": {
              "color": "white"
             }
            },
            "type": "table"
           }
          ]
         },
         "layout": {
          "annotationdefaults": {
           "arrowcolor": "#2a3f5f",
           "arrowhead": 0,
           "arrowwidth": 1
          },
          "autotypenumbers": "strict",
          "coloraxis": {
           "colorbar": {
            "outlinewidth": 0,
            "ticks": ""
           }
          },
          "colorscale": {
           "diverging": [
            [
             0,
             "#8e0152"
            ],
            [
             0.1,
             "#c51b7d"
            ],
            [
             0.2,
             "#de77ae"
            ],
            [
             0.3,
             "#f1b6da"
            ],
            [
             0.4,
             "#fde0ef"
            ],
            [
             0.5,
             "#f7f7f7"
            ],
            [
             0.6,
             "#e6f5d0"
            ],
            [
             0.7,
             "#b8e186"
            ],
            [
             0.8,
             "#7fbc41"
            ],
            [
             0.9,
             "#4d9221"
            ],
            [
             1,
             "#276419"
            ]
           ],
           "sequential": [
            [
             0,
             "#0d0887"
            ],
            [
             0.1111111111111111,
             "#46039f"
            ],
            [
             0.2222222222222222,
             "#7201a8"
            ],
            [
             0.3333333333333333,
             "#9c179e"
            ],
            [
             0.4444444444444444,
             "#bd3786"
            ],
            [
             0.5555555555555556,
             "#d8576b"
            ],
            [
             0.6666666666666666,
             "#ed7953"
            ],
            [
             0.7777777777777778,
             "#fb9f3a"
            ],
            [
             0.8888888888888888,
             "#fdca26"
            ],
            [
             1,
             "#f0f921"
            ]
           ],
           "sequentialminus": [
            [
             0,
             "#0d0887"
            ],
            [
             0.1111111111111111,
             "#46039f"
            ],
            [
             0.2222222222222222,
             "#7201a8"
            ],
            [
             0.3333333333333333,
             "#9c179e"
            ],
            [
             0.4444444444444444,
             "#bd3786"
            ],
            [
             0.5555555555555556,
             "#d8576b"
            ],
            [
             0.6666666666666666,
             "#ed7953"
            ],
            [
             0.7777777777777778,
             "#fb9f3a"
            ],
            [
             0.8888888888888888,
             "#fdca26"
            ],
            [
             1,
             "#f0f921"
            ]
           ]
          },
          "colorway": [
           "#636efa",
           "#EF553B",
           "#00cc96",
           "#ab63fa",
           "#FFA15A",
           "#19d3f3",
           "#FF6692",
           "#B6E880",
           "#FF97FF",
           "#FECB52"
          ],
          "font": {
           "color": "#2a3f5f"
          },
          "geo": {
           "bgcolor": "white",
           "lakecolor": "white",
           "landcolor": "#E5ECF6",
           "showlakes": true,
           "showland": true,
           "subunitcolor": "white"
          },
          "hoverlabel": {
           "align": "left"
          },
          "hovermode": "closest",
          "mapbox": {
           "style": "light"
          },
          "paper_bgcolor": "white",
          "plot_bgcolor": "#E5ECF6",
          "polar": {
           "angularaxis": {
            "gridcolor": "white",
            "linecolor": "white",
            "ticks": ""
           },
           "bgcolor": "#E5ECF6",
           "radialaxis": {
            "gridcolor": "white",
            "linecolor": "white",
            "ticks": ""
           }
          },
          "scene": {
           "xaxis": {
            "backgroundcolor": "#E5ECF6",
            "gridcolor": "white",
            "gridwidth": 2,
            "linecolor": "white",
            "showbackground": true,
            "ticks": "",
            "zerolinecolor": "white"
           },
           "yaxis": {
            "backgroundcolor": "#E5ECF6",
            "gridcolor": "white",
            "gridwidth": 2,
            "linecolor": "white",
            "showbackground": true,
            "ticks": "",
            "zerolinecolor": "white"
           },
           "zaxis": {
            "backgroundcolor": "#E5ECF6",
            "gridcolor": "white",
            "gridwidth": 2,
            "linecolor": "white",
            "showbackground": true,
            "ticks": "",
            "zerolinecolor": "white"
           }
          },
          "shapedefaults": {
           "line": {
            "color": "#2a3f5f"
           }
          },
          "ternary": {
           "aaxis": {
            "gridcolor": "white",
            "linecolor": "white",
            "ticks": ""
           },
           "baxis": {
            "gridcolor": "white",
            "linecolor": "white",
            "ticks": ""
           },
           "bgcolor": "#E5ECF6",
           "caxis": {
            "gridcolor": "white",
            "linecolor": "white",
            "ticks": ""
           }
          },
          "title": {
           "x": 0.05
          },
          "xaxis": {
           "automargin": true,
           "gridcolor": "white",
           "linecolor": "white",
           "ticks": "",
           "title": {
            "standoff": 15
           },
           "zerolinecolor": "white",
           "zerolinewidth": 2
          },
          "yaxis": {
           "automargin": true,
           "gridcolor": "white",
           "linecolor": "white",
           "ticks": "",
           "title": {
            "standoff": 15
           },
           "zerolinecolor": "white",
           "zerolinewidth": 2
          }
         }
        },
        "xaxis": {
         "anchor": "y",
         "domain": [
          0,
          1
         ],
         "title": {
          "text": "NDCG"
         }
        },
        "yaxis": {
         "anchor": "x",
         "domain": [
          0,
          1
         ],
         "title": {
          "text": "index size MB"
         }
        }
       }
      },
      "text/html": [
       "<div>                            <div id=\"cd5c4927-0908-4da5-83b9-f09b2d1967ef\" class=\"plotly-graph-div\" style=\"height:525px; width:100%;\"></div>            <script type=\"text/javascript\">                require([\"plotly\"], function(Plotly) {                    window.PLOTLYENV=window.PLOTLYENV || {};                                    if (document.getElementById(\"cd5c4927-0908-4da5-83b9-f09b2d1967ef\")) {                    Plotly.newPlot(                        \"cd5c4927-0908-4da5-83b9-f09b2d1967ef\",                        [{\"hovertemplate\":\"\\u003cb\\u003e%{hovertext}\\u003c\\u002fb\\u003e\\u003cbr\\u003e\\u003cbr\\u003egroup=flat\\u003cbr\\u003eNDCG=%{x}\\u003cbr\\u003esize_mb=%{y}\\u003cextra\\u003e\\u003c\\u002fextra\\u003e\",\"hovertext\":[\"flat\"],\"legendgroup\":\"flat\",\"marker\":{\"color\":\"#636efa\",\"symbol\":\"circle\"},\"mode\":\"markers\",\"name\":\"flat\",\"orientation\":\"v\",\"showlegend\":true,\"x\":[1.0],\"xaxis\":\"x\",\"y\":[433.01],\"yaxis\":\"y\",\"type\":\"scatter\"},{\"hovertemplate\":\"\\u003cb\\u003e%{hovertext}\\u003c\\u002fb\\u003e\\u003cbr\\u003e\\u003cbr\\u003egroup=hnsw\\u003cbr\\u003eNDCG=%{x}\\u003cbr\\u003esize_mb=%{y}\\u003cextra\\u003e\\u003c\\u002fextra\\u003e\",\"hovertext\":[\"hnsw_16_16_16\",\"hnsw_16_16_32\",\"hnsw_16_16_64\",\"hnsw_16_32_32\",\"hnsw_16_32_64\",\"hnsw_16_64_64\",\"hnsw_32_16_16\",\"hnsw_32_16_32\",\"hnsw_32_16_64\",\"hnsw_32_32_32\",\"hnsw_32_32_64\",\"hnsw_32_64_64\",\"hnsw_64_16_16\",\"hnsw_64_16_32\",\"hnsw_64_16_64\",\"hnsw_64_32_32\",\"hnsw_64_32_64\",\"hnsw_64_64_64\"],\"legendgroup\":\"hnsw\",\"marker\":{\"color\":\"#EF553B\",\"symbol\":\"circle\"},\"mode\":\"markers\",\"name\":\"hnsw\",\"orientation\":\"v\",\"showlegend\":true,\"x\":[0.57,0.66,0.77,0.77,0.85,0.92,0.68,0.78,0.8,0.86,0.88,0.93,0.73,0.83,0.89,0.89,0.94,0.96],\"xaxis\":\"x\",\"y\":[448.27,448.27,448.27,448.27,448.27,448.27,461.79,461.79,461.79,461.79,461.79,461.79,488.84,488.84,488.84,488.84,488.84,488.84],\"yaxis\":\"y\",\"type\":\"scatter\"},{\"hovertemplate\":\"\\u003cb\\u003e%{hovertext}\\u003c\\u002fb\\u003e\\u003cbr\\u003e\\u003cbr\\u003egroup=hnsw_sq\\u003cbr\\u003eNDCG=%{x}\\u003cbr\\u003esize_mb=%{y}\\u003cextra\\u003e\\u003c\\u002fextra\\u003e\",\"hovertext\":[\"hnsw_sq_16_16_16_0\",\"hnsw_sq_16_16_16_1\",\"hnsw_sq_16_16_16_2\",\"hnsw_sq_16_16_16_3\",\"hnsw_sq_16_16_32_0\",\"hnsw_sq_16_16_32_1\",\"hnsw_sq_16_16_32_2\",\"hnsw_sq_16_16_32_3\",\"hnsw_sq_16_16_64_0\",\"hnsw_sq_16_16_64_1\",\"hnsw_sq_16_16_64_2\",\"hnsw_sq_16_16_64_3\",\"hnsw_sq_16_32_32_0\",\"hnsw_sq_16_32_32_1\",\"hnsw_sq_16_32_32_2\",\"hnsw_sq_16_32_32_3\",\"hnsw_sq_16_32_64_0\",\"hnsw_sq_16_32_64_1\",\"hnsw_sq_16_32_64_2\",\"hnsw_sq_16_32_64_3\",\"hnsw_sq_16_64_64_0\",\"hnsw_sq_16_64_64_1\",\"hnsw_sq_16_64_64_2\",\"hnsw_sq_16_64_64_3\",\"hnsw_sq_32_16_16_0\",\"hnsw_sq_32_16_16_1\",\"hnsw_sq_32_16_16_2\",\"hnsw_sq_32_16_16_3\",\"hnsw_sq_32_16_32_0\",\"hnsw_sq_32_16_32_1\",\"hnsw_sq_32_16_32_2\",\"hnsw_sq_32_16_32_3\",\"hnsw_sq_32_16_64_0\",\"hnsw_sq_32_16_64_1\",\"hnsw_sq_32_16_64_2\",\"hnsw_sq_32_16_64_3\",\"hnsw_sq_32_32_32_0\",\"hnsw_sq_32_32_32_1\",\"hnsw_sq_32_32_32_2\",\"hnsw_sq_32_32_32_3\",\"hnsw_sq_32_32_64_0\",\"hnsw_sq_32_32_64_1\",\"hnsw_sq_32_32_64_2\",\"hnsw_sq_32_32_64_3\",\"hnsw_sq_32_64_64_0\",\"hnsw_sq_32_64_64_1\",\"hnsw_sq_32_64_64_2\",\"hnsw_sq_32_64_64_3\",\"hnsw_sq_64_16_16_0\",\"hnsw_sq_64_16_16_1\",\"hnsw_sq_64_16_16_2\",\"hnsw_sq_64_16_16_3\",\"hnsw_sq_64_16_32_0\",\"hnsw_sq_64_16_32_1\",\"hnsw_sq_64_16_32_2\",\"hnsw_sq_64_16_32_3\",\"hnsw_sq_64_16_64_0\",\"hnsw_sq_64_16_64_1\",\"hnsw_sq_64_16_64_2\",\"hnsw_sq_64_16_64_3\",\"hnsw_sq_64_32_32_0\",\"hnsw_sq_64_32_32_1\",\"hnsw_sq_64_32_32_2\",\"hnsw_sq_64_32_32_3\",\"hnsw_sq_64_32_64_0\",\"hnsw_sq_64_32_64_1\",\"hnsw_sq_64_32_64_2\",\"hnsw_sq_64_32_64_3\",\"hnsw_sq_64_64_64_0\",\"hnsw_sq_64_64_64_1\",\"hnsw_sq_64_64_64_2\",\"hnsw_sq_64_64_64_3\"],\"legendgroup\":\"hnsw_sq\",\"marker\":{\"color\":\"#00cc96\",\"symbol\":\"circle\"},\"mode\":\"markers\",\"name\":\"hnsw_sq\",\"orientation\":\"v\",\"showlegend\":true,\"x\":[0.58,0.56,0.59,0.57,0.67,0.66,0.68,0.71,0.76,0.77,0.77,0.77,0.77,0.77,0.78,0.78,0.86,0.85,0.85,0.84,0.91,0.89,0.91,0.86,0.68,0.68,0.66,0.65,0.78,0.76,0.77,0.74,0.8,0.81,0.8,0.81,0.86,0.83,0.86,0.81,0.89,0.86,0.88,0.85,0.93,0.91,0.93,0.88,0.74,0.73,0.73,0.69,0.84,0.82,0.84,0.78,0.89,0.87,0.88,0.83,0.89,0.87,0.89,0.83,0.93,0.91,0.93,0.86,0.96,0.93,0.96,0.89],\"xaxis\":\"x\",\"y\":[123.52,69.39,123.51,69.38,123.52,69.39,123.51,69.38,123.52,69.39,123.51,69.38,123.52,69.39,123.51,69.38,123.52,69.39,123.51,69.38,123.52,69.39,123.51,69.38,137.04,82.91,137.03,82.9,137.04,82.91,137.03,82.9,137.04,82.91,137.03,82.9,137.04,82.91,137.03,82.9,137.04,82.91,137.03,82.9,137.04,82.91,137.03,82.9,164.09,109.96,164.08,109.95,164.09,109.96,164.08,109.95,164.09,109.96,164.08,109.95,164.09,109.96,164.08,109.95,164.09,109.96,164.08,109.95,164.09,109.96,164.08,109.95],\"yaxis\":\"y\",\"type\":\"scatter\"},{\"hovertemplate\":\"\\u003cb\\u003e%{hovertext}\\u003c\\u002fb\\u003e\\u003cbr\\u003e\\u003cbr\\u003egroup=pq\\u003cbr\\u003eNDCG=%{x}\\u003cbr\\u003esize_mb=%{y}\\u003cextra\\u003e\\u003c\\u002fextra\\u003e\",\"hovertext\":[\"pq_4_6\",\"pq_4_8\",\"pq_4_10\",\"pq_8_6\",\"pq_8_8\",\"pq_8_10\",\"pq_16_6\",\"pq_16_8\",\"pq_16_10\",\"pq_32_6\",\"pq_32_8\",\"pq_32_10\"],\"legendgroup\":\"pq\",\"marker\":{\"color\":\"#ab63fa\",\"symbol\":\"circle\"},\"mode\":\"markers\",\"name\":\"pq\",\"orientation\":\"v\",\"showlegend\":true,\"x\":[0.05,0.09,0.2,0.1,0.21,0.32,0.27,0.37,0.48,0.44,0.53,0.63],\"xaxis\":\"x\",\"y\":[0.56,1.42,4.52,0.88,1.84,5.05,1.51,2.69,6.11,2.78,4.38,8.22],\"yaxis\":\"y\",\"type\":\"scatter\"},{\"hovertemplate\":\"\\u003cb\\u003e%{hovertext}\\u003c\\u002fb\\u003e\\u003cbr\\u003e\\u003cbr\\u003egroup=hnsw_pq\\u003cbr\\u003eNDCG=%{x}\\u003cbr\\u003esize_mb=%{y}\\u003cextra\\u003e\\u003c\\u002fextra\\u003e\",\"hovertext\":[\"hnsw_pq_16_6_16_16_32\",\"hnsw_pq_16_6_16_16_64\",\"hnsw_pq_16_8_16_64_64\",\"hnsw_pq_16_8_32_16_16\",\"hnsw_pq_16_9_16_16_32\",\"hnsw_pq_16_9_64_16_32\",\"hnsw_pq_16_9_64_16_64\",\"hnsw_pq_32_6_64_32_64\",\"hnsw_pq_32_8_16_16_16\",\"hnsw_pq_32_8_16_32_32\",\"hnsw_pq_32_8_32_16_32\",\"hnsw_pq_32_8_32_32_32\",\"hnsw_pq_32_8_64_16_16\",\"hnsw_pq_32_9_16_16_64\",\"hnsw_pq_32_9_32_32_32\",\"hnsw_pq_32_9_32_32_64\",\"hnsw_pq_32_9_64_16_32\",\"hnsw_pq_32_9_64_32_32\",\"hnsw_pq_32_9_64_32_64\",\"hnsw_pq_4_6_16_16_16\",\"hnsw_pq_4_6_32_16_16\",\"hnsw_pq_4_6_32_16_32\",\"hnsw_pq_4_6_32_32_64\",\"hnsw_pq_4_6_32_64_64\",\"hnsw_pq_4_6_64_16_16\",\"hnsw_pq_4_8_16_16_16\",\"hnsw_pq_4_8_32_16_32\",\"hnsw_pq_4_8_64_16_16\",\"hnsw_pq_4_8_64_32_32\",\"hnsw_pq_4_8_64_32_64\",\"hnsw_pq_4_8_64_64_64\",\"hnsw_pq_4_9_16_16_64\",\"hnsw_pq_4_9_16_32_64\",\"hnsw_pq_4_9_64_16_32\",\"hnsw_pq_4_9_64_32_64\",\"hnsw_pq_8_6_16_16_16\",\"hnsw_pq_8_6_16_16_64\",\"hnsw_pq_8_6_64_64_64\",\"hnsw_pq_8_8_16_16_64\",\"hnsw_pq_8_8_16_32_32\",\"hnsw_pq_8_8_32_16_16\",\"hnsw_pq_8_8_32_16_32\",\"hnsw_pq_8_8_32_32_32\",\"hnsw_pq_8_8_64_16_16\",\"hnsw_pq_8_8_64_32_64\",\"hnsw_pq_8_9_16_16_64\",\"hnsw_pq_8_9_16_64_64\",\"hnsw_pq_8_9_32_16_16\",\"hnsw_pq_8_9_64_16_64\",\"hnsw_pq_8_9_64_32_32\"],\"legendgroup\":\"hnsw_pq\",\"marker\":{\"color\":\"#FFA15A\",\"symbol\":\"circle\"},\"mode\":\"markers\",\"name\":\"hnsw_pq\",\"orientation\":\"v\",\"showlegend\":true,\"x\":[0.12,0.11,0.2,0.39,0.19,0.48,0.49,0.43,0.48,0.2,0.53,0.54,0.5,0.18,0.59,0.26,0.58,0.6,0.61,0.06,0.07,0.07,0.05,0.07,0.07,0.14,0.2,0.21,0.22,0.22,0.22,0.1,0.12,0.27,0.27,0.13,0.08,0.15,0.13,0.16,0.27,0.29,0.29,0.29,0.31,0.14,0.2,0.35,0.39,0.39],\"xaxis\":\"x\",\"y\":[3.22,3.22,4.05,6.49,5.09,12.41,12.41,10.78,4.36,4.36,6.8,6.8,11.68,5.43,7.87,7.87,12.76,12.76,12.76,3.05,5.49,5.49,5.49,5.49,10.38,3.82,6.26,11.15,11.15,11.15,11.15,4.84,4.84,12.16,12.16,3.11,3.11,10.43,3.9,3.9,6.34,6.34,6.34,11.22,11.22,4.92,4.92,7.36,12.24,12.24],\"yaxis\":\"y\",\"type\":\"scatter\"},{\"hovertemplate\":\"\\u003cb\\u003e%{hovertext}\\u003c\\u002fb\\u003e\\u003cbr\\u003e\\u003cbr\\u003egroup=ivf\\u003cbr\\u003eNDCG=%{x}\\u003cbr\\u003esize_mb=%{y}\\u003cextra\\u003e\\u003c\\u002fextra\\u003e\",\"hovertext\":[\"ivf_IndexFlatIP_32_16\",\"ivf_IndexFlatIP_32_32\",\"ivf_IndexFlatIP_64_16\",\"ivf_IndexFlatIP_64_32\",\"ivf_IndexFlatIP_64_64\",\"ivf_IndexFlatIP_128_16\",\"ivf_IndexFlatIP_128_32\",\"ivf_IndexFlatIP_128_64\",\"ivf_IndexFlatIP_256_16\",\"ivf_IndexFlatIP_256_32\",\"ivf_IndexFlatIP_256_64\",\"ivf_IndexFlatL2_32_16\",\"ivf_IndexFlatL2_32_32\",\"ivf_IndexFlatL2_64_16\",\"ivf_IndexFlatL2_64_32\",\"ivf_IndexFlatL2_64_64\",\"ivf_IndexFlatL2_128_16\",\"ivf_IndexFlatL2_128_32\",\"ivf_IndexFlatL2_128_64\",\"ivf_IndexFlatL2_256_16\",\"ivf_IndexFlatL2_256_32\",\"ivf_IndexFlatL2_256_64\"],\"legendgroup\":\"ivf\",\"marker\":{\"color\":\"#19d3f3\",\"symbol\":\"circle\"},\"mode\":\"markers\",\"name\":\"ivf\",\"orientation\":\"v\",\"showlegend\":true,\"x\":[0.97,1.0,0.96,0.98,1.0,0.93,0.97,0.99,0.9,0.94,0.97,0.98,1.0,0.95,0.98,1.0,0.92,0.96,0.99,0.9,0.94,0.97],\"xaxis\":\"x\",\"y\":[78.4,78.4,78.52,78.52,78.52,78.77,78.77,78.77,79.27,79.27,79.27,78.4,78.4,78.52,78.52,78.52,78.77,78.77,78.77,79.27,79.27,79.27],\"yaxis\":\"y\",\"type\":\"scatter\"},{\"hovertemplate\":\"\\u003cb\\u003e%{hovertext}\\u003c\\u002fb\\u003e\\u003cbr\\u003e\\u003cbr\\u003egroup=ivf_pq\\u003cbr\\u003eNDCG=%{x}\\u003cbr\\u003esize_mb=%{y}\\u003cextra\\u003e\\u003c\\u002fextra\\u003e\",\"hovertext\":[\"ivf_pq_IndexFlatIP_128_16_32_6\",\"ivf_pq_IndexFlatIP_128_16_4_9\",\"ivf_pq_IndexFlatIP_128_16_8_6\",\"ivf_pq_IndexFlatIP_128_32_8_6\",\"ivf_pq_IndexFlatIP_128_64_32_8\",\"ivf_pq_IndexFlatIP_128_64_8_6\",\"ivf_pq_IndexFlatIP_128_64_8_8\",\"ivf_pq_IndexFlatIP_256_16_32_6\",\"ivf_pq_IndexFlatIP_256_16_4_6\",\"ivf_pq_IndexFlatIP_256_16_8_9\",\"ivf_pq_IndexFlatIP_256_32_16_8\",\"ivf_pq_IndexFlatIP_256_32_8_6\",\"ivf_pq_IndexFlatIP_256_64_32_8\",\"ivf_pq_IndexFlatIP_256_64_32_9\",\"ivf_pq_IndexFlatIP_32_16_16_8\",\"ivf_pq_IndexFlatIP_32_16_32_8\",\"ivf_pq_IndexFlatIP_32_16_8_8\",\"ivf_pq_IndexFlatIP_32_32_16_8\",\"ivf_pq_IndexFlatIP_64_16_16_6\",\"ivf_pq_IndexFlatIP_64_16_32_9\",\"ivf_pq_IndexFlatIP_64_16_4_6\",\"ivf_pq_IndexFlatIP_64_16_4_8\",\"ivf_pq_IndexFlatIP_64_16_4_9\",\"ivf_pq_IndexFlatIP_64_32_8_6\",\"ivf_pq_IndexFlatL2_128_16_16_8\",\"ivf_pq_IndexFlatL2_128_16_16_9\",\"ivf_pq_IndexFlatL2_128_16_4_6\",\"ivf_pq_IndexFlatL2_128_32_16_9\",\"ivf_pq_IndexFlatL2_128_32_32_9\",\"ivf_pq_IndexFlatL2_128_32_4_9\",\"ivf_pq_IndexFlatL2_128_64_16_8\",\"ivf_pq_IndexFlatL2_128_64_4_8\",\"ivf_pq_IndexFlatL2_128_64_8_9\",\"ivf_pq_IndexFlatL2_256_16_32_6\",\"ivf_pq_IndexFlatL2_256_16_4_9\",\"ivf_pq_IndexFlatL2_256_32_16_8\",\"ivf_pq_IndexFlatL2_256_32_32_9\",\"ivf_pq_IndexFlatL2_256_32_4_6\",\"ivf_pq_IndexFlatL2_256_32_4_8\",\"ivf_pq_IndexFlatL2_256_64_32_8\",\"ivf_pq_IndexFlatL2_256_64_8_6\",\"ivf_pq_IndexFlatL2_32_16_4_6\",\"ivf_pq_IndexFlatL2_32_16_8_8\",\"ivf_pq_IndexFlatL2_32_32_4_8\",\"ivf_pq_IndexFlatL2_64_16_16_6\",\"ivf_pq_IndexFlatL2_64_16_4_9\",\"ivf_pq_IndexFlatL2_64_32_32_6\",\"ivf_pq_IndexFlatL2_64_32_8_9\",\"ivf_pq_IndexFlatL2_64_64_16_8\",\"ivf_pq_IndexFlatL2_64_64_4_6\",\"ivf_pq_IndexFlatL2_64_64_4_9\",\"ivf_pq_IndexFlatL2_64_64_8_6\"],\"legendgroup\":\"ivf_pq\",\"marker\":{\"color\":\"#FF6692\",\"symbol\":\"circle\"},\"mode\":\"markers\",\"name\":\"ivf_pq\",\"orientation\":\"v\",\"showlegend\":true,\"x\":[0.53,0.39,0.36,0.36,0.59,0.36,0.44,0.52,0.3,0.47,0.52,0.37,0.59,0.63,0.48,0.59,0.36,0.48,0.42,0.64,0.26,0.33,0.39,0.33,0.51,0.54,0.25,0.55,0.63,0.38,0.51,0.33,0.45,0.53,0.37,0.52,0.64,0.3,0.36,0.59,0.37,0.2,0.37,0.28,0.4,0.36,0.51,0.45,0.48,0.22,0.36,0.3],\"xaxis\":\"x\",\"y\":[1.36,2.74,1.01,1.01,2.26,1.01,1.8,1.86,1.46,3.32,2.45,1.51,2.76,3.84,1.58,1.88,1.43,1.58,0.88,3.08,0.71,1.47,2.49,0.76,1.95,2.99,0.96,2.99,3.34,2.74,1.95,1.73,2.82,1.86,3.25,2.45,3.84,1.46,2.23,2.76,1.51,0.58,1.43,1.35,0.88,2.49,1.11,2.57,1.7,0.71,2.49,0.76],\"yaxis\":\"y\",\"type\":\"scatter\"},{\"hovertemplate\":\"\\u003cb\\u003e%{hovertext}\\u003c\\u002fb\\u003e\\u003cbr\\u003e\\u003cbr\\u003egroup=ivfHNSW\\u003cbr\\u003eNDCG=%{x}\\u003cbr\\u003esize_mb=%{y}\\u003cextra\\u003e\\u003c\\u002fextra\\u003e\",\"hovertext\":[\"ivfHNSW_128_16_16_16_64\",\"ivfHNSW_128_16_16_32_64\",\"ivfHNSW_128_16_64_16_32\",\"ivfHNSW_128_16_64_32_32\",\"ivfHNSW_128_16_64_64_64\",\"ivfHNSW_128_32_16_16_64\",\"ivfHNSW_128_32_32_16_16\",\"ivfHNSW_128_32_64_16_16\",\"ivfHNSW_128_32_64_16_64\",\"ivfHNSW_128_32_64_64_64\",\"ivfHNSW_128_64_16_16_64\",\"ivfHNSW_128_64_16_32_64\",\"ivfHNSW_128_64_32_16_32\",\"ivfHNSW_128_64_32_64_64\",\"ivfHNSW_128_64_64_16_16\",\"ivfHNSW_256_16_16_16_32\",\"ivfHNSW_256_16_16_64_64\",\"ivfHNSW_256_16_32_32_64\",\"ivfHNSW_256_16_32_64_64\",\"ivfHNSW_256_32_16_16_16\",\"ivfHNSW_256_32_32_16_32\",\"ivfHNSW_256_32_64_16_32\",\"ivfHNSW_256_32_64_16_64\",\"ivfHNSW_256_32_64_32_64\",\"ivfHNSW_256_64_16_64_64\",\"ivfHNSW_256_64_32_16_64\",\"ivfHNSW_256_64_64_16_16\",\"ivfHNSW_256_64_64_64_64\",\"ivfHNSW_32_16_16_32_64\",\"ivfHNSW_32_16_32_16_64\",\"ivfHNSW_32_16_32_32_64\",\"ivfHNSW_32_16_64_16_64\",\"ivfHNSW_32_32_16_64_64\",\"ivfHNSW_32_32_64_16_64\",\"ivfHNSW_64_16_16_16_32\",\"ivfHNSW_64_16_16_32_32\",\"ivfHNSW_64_16_16_32_64\",\"ivfHNSW_64_16_32_16_32\",\"ivfHNSW_64_16_32_32_32\",\"ivfHNSW_64_16_32_64_64\",\"ivfHNSW_64_32_16_32_32\",\"ivfHNSW_64_32_16_64_64\",\"ivfHNSW_64_32_32_16_16\",\"ivfHNSW_64_32_32_16_32\",\"ivfHNSW_64_32_64_16_16\",\"ivfHNSW_64_64_16_16_16\",\"ivfHNSW_64_64_16_32_32\",\"ivfHNSW_64_64_32_32_64\",\"ivfHNSW_64_64_64_32_64\",\"ivfHNSW_64_64_64_64_64\"],\"legendgroup\":\"ivfHNSW\",\"marker\":{\"color\":\"#B6E880\",\"symbol\":\"circle\"},\"mode\":\"markers\",\"name\":\"ivfHNSW\",\"orientation\":\"v\",\"showlegend\":true,\"x\":[0.91,0.92,0.92,0.92,0.92,0.95,0.95,0.96,0.96,0.96,0.96,0.99,0.99,0.99,0.99,0.89,0.9,0.9,0.9,0.93,0.94,0.94,0.94,0.94,0.97,0.95,0.97,0.97,0.98,0.98,0.98,0.98,1.0,1.0,0.95,0.95,0.95,0.95,0.95,0.95,0.98,0.98,0.98,0.98,0.98,0.99,0.99,1.0,1.0,1.0],\"xaxis\":\"x\",\"y\":[78.79,78.79,78.84,78.84,78.84,78.79,78.81,78.84,78.84,78.84,78.79,78.79,78.81,78.81,78.84,79.31,79.31,79.34,79.34,79.31,79.34,79.4,79.4,79.4,79.31,79.34,79.4,79.4,78.4,78.41,78.41,78.41,78.4,78.41,78.53,78.53,78.53,78.54,78.54,78.54,78.53,78.53,78.54,78.54,78.56,78.53,78.53,78.54,78.56,78.56],\"yaxis\":\"y\",\"type\":\"scatter\"}],                        {\"template\":{\"data\":{\"histogram2dcontour\":[{\"type\":\"histogram2dcontour\",\"colorbar\":{\"outlinewidth\":0,\"ticks\":\"\"},\"colorscale\":[[0.0,\"#0d0887\"],[0.1111111111111111,\"#46039f\"],[0.2222222222222222,\"#7201a8\"],[0.3333333333333333,\"#9c179e\"],[0.4444444444444444,\"#bd3786\"],[0.5555555555555556,\"#d8576b\"],[0.6666666666666666,\"#ed7953\"],[0.7777777777777778,\"#fb9f3a\"],[0.8888888888888888,\"#fdca26\"],[1.0,\"#f0f921\"]]}],\"choropleth\":[{\"type\":\"choropleth\",\"colorbar\":{\"outlinewidth\":0,\"ticks\":\"\"}}],\"histogram2d\":[{\"type\":\"histogram2d\",\"colorbar\":{\"outlinewidth\":0,\"ticks\":\"\"},\"colorscale\":[[0.0,\"#0d0887\"],[0.1111111111111111,\"#46039f\"],[0.2222222222222222,\"#7201a8\"],[0.3333333333333333,\"#9c179e\"],[0.4444444444444444,\"#bd3786\"],[0.5555555555555556,\"#d8576b\"],[0.6666666666666666,\"#ed7953\"],[0.7777777777777778,\"#fb9f3a\"],[0.8888888888888888,\"#fdca26\"],[1.0,\"#f0f921\"]]}],\"heatmap\":[{\"type\":\"heatmap\",\"colorbar\":{\"outlinewidth\":0,\"ticks\":\"\"},\"colorscale\":[[0.0,\"#0d0887\"],[0.1111111111111111,\"#46039f\"],[0.2222222222222222,\"#7201a8\"],[0.3333333333333333,\"#9c179e\"],[0.4444444444444444,\"#bd3786\"],[0.5555555555555556,\"#d8576b\"],[0.6666666666666666,\"#ed7953\"],[0.7777777777777778,\"#fb9f3a\"],[0.8888888888888888,\"#fdca26\"],[1.0,\"#f0f921\"]]}],\"heatmapgl\":[{\"type\":\"heatmapgl\",\"colorbar\":{\"outlinewidth\":0,\"ticks\":\"\"},\"colorscale\":[[0.0,\"#0d0887\"],[0.1111111111111111,\"#46039f\"],[0.2222222222222222,\"#7201a8\"],[0.3333333333333333,\"#9c179e\"],[0.4444444444444444,\"#bd3786\"],[0.5555555555555556,\"#d8576b\"],[0.6666666666666666,\"#ed7953\"],[0.7777777777777778,\"#fb9f3a\"],[0.8888888888888888,\"#fdca26\"],[1.0,\"#f0f921\"]]}],\"contourcarpet\":[{\"type\":\"contourcarpet\",\"colorbar\":{\"outlinewidth\":0,\"ticks\":\"\"}}],\"contour\":[{\"type\":\"contour\",\"colorbar\":{\"outlinewidth\":0,\"ticks\":\"\"},\"colorscale\":[[0.0,\"#0d0887\"],[0.1111111111111111,\"#46039f\"],[0.2222222222222222,\"#7201a8\"],[0.3333333333333333,\"#9c179e\"],[0.4444444444444444,\"#bd3786\"],[0.5555555555555556,\"#d8576b\"],[0.6666666666666666,\"#ed7953\"],[0.7777777777777778,\"#fb9f3a\"],[0.8888888888888888,\"#fdca26\"],[1.0,\"#f0f921\"]]}],\"surface\":[{\"type\":\"surface\",\"colorbar\":{\"outlinewidth\":0,\"ticks\":\"\"},\"colorscale\":[[0.0,\"#0d0887\"],[0.1111111111111111,\"#46039f\"],[0.2222222222222222,\"#7201a8\"],[0.3333333333333333,\"#9c179e\"],[0.4444444444444444,\"#bd3786\"],[0.5555555555555556,\"#d8576b\"],[0.6666666666666666,\"#ed7953\"],[0.7777777777777778,\"#fb9f3a\"],[0.8888888888888888,\"#fdca26\"],[1.0,\"#f0f921\"]]}],\"mesh3d\":[{\"type\":\"mesh3d\",\"colorbar\":{\"outlinewidth\":0,\"ticks\":\"\"}}],\"scatter\":[{\"fillpattern\":{\"fillmode\":\"overlay\",\"size\":10,\"solidity\":0.2},\"type\":\"scatter\"}],\"parcoords\":[{\"type\":\"parcoords\",\"line\":{\"colorbar\":{\"outlinewidth\":0,\"ticks\":\"\"}}}],\"scatterpolargl\":[{\"type\":\"scatterpolargl\",\"marker\":{\"colorbar\":{\"outlinewidth\":0,\"ticks\":\"\"}}}],\"bar\":[{\"error_x\":{\"color\":\"#2a3f5f\"},\"error_y\":{\"color\":\"#2a3f5f\"},\"marker\":{\"line\":{\"color\":\"#E5ECF6\",\"width\":0.5},\"pattern\":{\"fillmode\":\"overlay\",\"size\":10,\"solidity\":0.2}},\"type\":\"bar\"}],\"scattergeo\":[{\"type\":\"scattergeo\",\"marker\":{\"colorbar\":{\"outlinewidth\":0,\"ticks\":\"\"}}}],\"scatterpolar\":[{\"type\":\"scatterpolar\",\"marker\":{\"colorbar\":{\"outlinewidth\":0,\"ticks\":\"\"}}}],\"histogram\":[{\"marker\":{\"pattern\":{\"fillmode\":\"overlay\",\"size\":10,\"solidity\":0.2}},\"type\":\"histogram\"}],\"scattergl\":[{\"type\":\"scattergl\",\"marker\":{\"colorbar\":{\"outlinewidth\":0,\"ticks\":\"\"}}}],\"scatter3d\":[{\"type\":\"scatter3d\",\"line\":{\"colorbar\":{\"outlinewidth\":0,\"ticks\":\"\"}},\"marker\":{\"colorbar\":{\"outlinewidth\":0,\"ticks\":\"\"}}}],\"scattermapbox\":[{\"type\":\"scattermapbox\",\"marker\":{\"colorbar\":{\"outlinewidth\":0,\"ticks\":\"\"}}}],\"scatterternary\":[{\"type\":\"scatterternary\",\"marker\":{\"colorbar\":{\"outlinewidth\":0,\"ticks\":\"\"}}}],\"scattercarpet\":[{\"type\":\"scattercarpet\",\"marker\":{\"colorbar\":{\"outlinewidth\":0,\"ticks\":\"\"}}}],\"carpet\":[{\"aaxis\":{\"endlinecolor\":\"#2a3f5f\",\"gridcolor\":\"white\",\"linecolor\":\"white\",\"minorgridcolor\":\"white\",\"startlinecolor\":\"#2a3f5f\"},\"baxis\":{\"endlinecolor\":\"#2a3f5f\",\"gridcolor\":\"white\",\"linecolor\":\"white\",\"minorgridcolor\":\"white\",\"startlinecolor\":\"#2a3f5f\"},\"type\":\"carpet\"}],\"table\":[{\"cells\":{\"fill\":{\"color\":\"#EBF0F8\"},\"line\":{\"color\":\"white\"}},\"header\":{\"fill\":{\"color\":\"#C8D4E3\"},\"line\":{\"color\":\"white\"}},\"type\":\"table\"}],\"barpolar\":[{\"marker\":{\"line\":{\"color\":\"#E5ECF6\",\"width\":0.5},\"pattern\":{\"fillmode\":\"overlay\",\"size\":10,\"solidity\":0.2}},\"type\":\"barpolar\"}],\"pie\":[{\"automargin\":true,\"type\":\"pie\"}]},\"layout\":{\"autotypenumbers\":\"strict\",\"colorway\":[\"#636efa\",\"#EF553B\",\"#00cc96\",\"#ab63fa\",\"#FFA15A\",\"#19d3f3\",\"#FF6692\",\"#B6E880\",\"#FF97FF\",\"#FECB52\"],\"font\":{\"color\":\"#2a3f5f\"},\"hovermode\":\"closest\",\"hoverlabel\":{\"align\":\"left\"},\"paper_bgcolor\":\"white\",\"plot_bgcolor\":\"#E5ECF6\",\"polar\":{\"bgcolor\":\"#E5ECF6\",\"angularaxis\":{\"gridcolor\":\"white\",\"linecolor\":\"white\",\"ticks\":\"\"},\"radialaxis\":{\"gridcolor\":\"white\",\"linecolor\":\"white\",\"ticks\":\"\"}},\"ternary\":{\"bgcolor\":\"#E5ECF6\",\"aaxis\":{\"gridcolor\":\"white\",\"linecolor\":\"white\",\"ticks\":\"\"},\"baxis\":{\"gridcolor\":\"white\",\"linecolor\":\"white\",\"ticks\":\"\"},\"caxis\":{\"gridcolor\":\"white\",\"linecolor\":\"white\",\"ticks\":\"\"}},\"coloraxis\":{\"colorbar\":{\"outlinewidth\":0,\"ticks\":\"\"}},\"colorscale\":{\"sequential\":[[0.0,\"#0d0887\"],[0.1111111111111111,\"#46039f\"],[0.2222222222222222,\"#7201a8\"],[0.3333333333333333,\"#9c179e\"],[0.4444444444444444,\"#bd3786\"],[0.5555555555555556,\"#d8576b\"],[0.6666666666666666,\"#ed7953\"],[0.7777777777777778,\"#fb9f3a\"],[0.8888888888888888,\"#fdca26\"],[1.0,\"#f0f921\"]],\"sequentialminus\":[[0.0,\"#0d0887\"],[0.1111111111111111,\"#46039f\"],[0.2222222222222222,\"#7201a8\"],[0.3333333333333333,\"#9c179e\"],[0.4444444444444444,\"#bd3786\"],[0.5555555555555556,\"#d8576b\"],[0.6666666666666666,\"#ed7953\"],[0.7777777777777778,\"#fb9f3a\"],[0.8888888888888888,\"#fdca26\"],[1.0,\"#f0f921\"]],\"diverging\":[[0,\"#8e0152\"],[0.1,\"#c51b7d\"],[0.2,\"#de77ae\"],[0.3,\"#f1b6da\"],[0.4,\"#fde0ef\"],[0.5,\"#f7f7f7\"],[0.6,\"#e6f5d0\"],[0.7,\"#b8e186\"],[0.8,\"#7fbc41\"],[0.9,\"#4d9221\"],[1,\"#276419\"]]},\"xaxis\":{\"gridcolor\":\"white\",\"linecolor\":\"white\",\"ticks\":\"\",\"title\":{\"standoff\":15},\"zerolinecolor\":\"white\",\"automargin\":true,\"zerolinewidth\":2},\"yaxis\":{\"gridcolor\":\"white\",\"linecolor\":\"white\",\"ticks\":\"\",\"title\":{\"standoff\":15},\"zerolinecolor\":\"white\",\"automargin\":true,\"zerolinewidth\":2},\"scene\":{\"xaxis\":{\"backgroundcolor\":\"#E5ECF6\",\"gridcolor\":\"white\",\"linecolor\":\"white\",\"showbackground\":true,\"ticks\":\"\",\"zerolinecolor\":\"white\",\"gridwidth\":2},\"yaxis\":{\"backgroundcolor\":\"#E5ECF6\",\"gridcolor\":\"white\",\"linecolor\":\"white\",\"showbackground\":true,\"ticks\":\"\",\"zerolinecolor\":\"white\",\"gridwidth\":2},\"zaxis\":{\"backgroundcolor\":\"#E5ECF6\",\"gridcolor\":\"white\",\"linecolor\":\"white\",\"showbackground\":true,\"ticks\":\"\",\"zerolinecolor\":\"white\",\"gridwidth\":2}},\"shapedefaults\":{\"line\":{\"color\":\"#2a3f5f\"}},\"annotationdefaults\":{\"arrowcolor\":\"#2a3f5f\",\"arrowhead\":0,\"arrowwidth\":1},\"geo\":{\"bgcolor\":\"white\",\"landcolor\":\"#E5ECF6\",\"subunitcolor\":\"white\",\"showland\":true,\"showlakes\":true,\"lakecolor\":\"white\"},\"title\":{\"x\":0.05},\"mapbox\":{\"style\":\"light\"}}},\"xaxis\":{\"anchor\":\"y\",\"domain\":[0.0,1.0],\"title\":{\"text\":\"NDCG\"}},\"yaxis\":{\"anchor\":\"x\",\"domain\":[0.0,1.0],\"title\":{\"text\":\"index size MB\"}},\"legend\":{\"title\":{\"text\":\"group\"},\"tracegroupgap\":0},\"margin\":{\"t\":60}},                        {\"responsive\": true}                    ).then(function(){\n",
       "                            \n",
       "var gd = document.getElementById('cd5c4927-0908-4da5-83b9-f09b2d1967ef');\n",
       "var x = new MutationObserver(function (mutations, observer) {{\n",
       "        var display = window.getComputedStyle(gd).display;\n",
       "        if (!display || display === 'none') {{\n",
       "            console.log([gd, 'removed!']);\n",
       "            Plotly.purge(gd);\n",
       "            observer.disconnect();\n",
       "        }}\n",
       "}});\n",
       "\n",
       "// Listen for the removal of the full notebook cells\n",
       "var notebookContainer = gd.closest('#notebook-container');\n",
       "if (notebookContainer) {{\n",
       "    x.observe(notebookContainer, {childList: true});\n",
       "}}\n",
       "\n",
       "// Listen for the clearing of the current output cell\n",
       "var outputEl = gd.closest('.output');\n",
       "if (outputEl) {{\n",
       "    x.observe(outputEl, {childList: true});\n",
       "}}\n",
       "\n",
       "                        })                };                });            </script>        </div>"
      ]
     },
     "metadata": {},
     "output_type": "display_data"
    }
   ],
   "source": [
    "fig = px.scatter(results_df,  # загружаем данные\n",
    "                 x='NDCG',  # указываем столбец с данными для оси X\n",
    "                 y='size_mb',  # указываем столбец с данными для оси Y\n",
    "                 color='group',  # обозначаем категорию для разделения цветом\n",
    "                 hover_name='index',)\n",
    "# оформляем график\n",
    "fig.update_layout(xaxis_title='NDCG',\n",
    "                  yaxis_title='index size MB')\n",
    "fig.show()  # выводим график"
   ]
  },
  {
   "cell_type": "code",
   "execution_count": 52,
   "metadata": {},
   "outputs": [
    {
     "data": {
      "application/vnd.plotly.v1+json": {
       "config": {
        "plotlyServerURL": "https://plot.ly"
       },
       "data": [
        {
         "hovertemplate": "<b>%{hovertext}</b><br><br>group=flat<br>NDCG=%{x}<br>mean_time_query_ms=%{y}<extra></extra>",
         "hovertext": [
          "flat"
         ],
         "legendgroup": "flat",
         "marker": {
          "color": "#636efa",
          "symbol": "circle"
         },
         "mode": "markers",
         "name": "flat",
         "orientation": "v",
         "showlegend": true,
         "type": "scatter",
         "x": [
          1
         ],
         "xaxis": "x",
         "y": [
          5.24
         ],
         "yaxis": "y"
        },
        {
         "hovertemplate": "<b>%{hovertext}</b><br><br>group=hnsw<br>NDCG=%{x}<br>mean_time_query_ms=%{y}<extra></extra>",
         "hovertext": [
          "hnsw_16_16_16",
          "hnsw_16_16_32",
          "hnsw_16_16_64",
          "hnsw_16_32_32",
          "hnsw_16_32_64",
          "hnsw_16_64_64",
          "hnsw_32_16_16",
          "hnsw_32_16_32",
          "hnsw_32_16_64",
          "hnsw_32_32_32",
          "hnsw_32_32_64",
          "hnsw_32_64_64",
          "hnsw_64_16_16",
          "hnsw_64_16_32",
          "hnsw_64_16_64",
          "hnsw_64_32_32",
          "hnsw_64_32_64",
          "hnsw_64_64_64"
         ],
         "legendgroup": "hnsw",
         "marker": {
          "color": "#EF553B",
          "symbol": "circle"
         },
         "mode": "markers",
         "name": "hnsw",
         "orientation": "v",
         "showlegend": true,
         "type": "scatter",
         "x": [
          0.57,
          0.66,
          0.77,
          0.77,
          0.85,
          0.92,
          0.68,
          0.78,
          0.8,
          0.86,
          0.88,
          0.93,
          0.73,
          0.83,
          0.89,
          0.89,
          0.94,
          0.96
         ],
         "xaxis": "x",
         "y": [
          0.04,
          0.04,
          0.06,
          0.08,
          0.09,
          0.16,
          0.06,
          0.08,
          0.07,
          0.1,
          0.11,
          0.2,
          0.1,
          0.12,
          0.16,
          0.18,
          0.25,
          0.43
         ],
         "yaxis": "y"
        },
        {
         "hovertemplate": "<b>%{hovertext}</b><br><br>group=hnsw_sq<br>NDCG=%{x}<br>mean_time_query_ms=%{y}<extra></extra>",
         "hovertext": [
          "hnsw_sq_16_16_16_0",
          "hnsw_sq_16_16_16_1",
          "hnsw_sq_16_16_16_2",
          "hnsw_sq_16_16_16_3",
          "hnsw_sq_16_16_32_0",
          "hnsw_sq_16_16_32_1",
          "hnsw_sq_16_16_32_2",
          "hnsw_sq_16_16_32_3",
          "hnsw_sq_16_16_64_0",
          "hnsw_sq_16_16_64_1",
          "hnsw_sq_16_16_64_2",
          "hnsw_sq_16_16_64_3",
          "hnsw_sq_16_32_32_0",
          "hnsw_sq_16_32_32_1",
          "hnsw_sq_16_32_32_2",
          "hnsw_sq_16_32_32_3",
          "hnsw_sq_16_32_64_0",
          "hnsw_sq_16_32_64_1",
          "hnsw_sq_16_32_64_2",
          "hnsw_sq_16_32_64_3",
          "hnsw_sq_16_64_64_0",
          "hnsw_sq_16_64_64_1",
          "hnsw_sq_16_64_64_2",
          "hnsw_sq_16_64_64_3",
          "hnsw_sq_32_16_16_0",
          "hnsw_sq_32_16_16_1",
          "hnsw_sq_32_16_16_2",
          "hnsw_sq_32_16_16_3",
          "hnsw_sq_32_16_32_0",
          "hnsw_sq_32_16_32_1",
          "hnsw_sq_32_16_32_2",
          "hnsw_sq_32_16_32_3",
          "hnsw_sq_32_16_64_0",
          "hnsw_sq_32_16_64_1",
          "hnsw_sq_32_16_64_2",
          "hnsw_sq_32_16_64_3",
          "hnsw_sq_32_32_32_0",
          "hnsw_sq_32_32_32_1",
          "hnsw_sq_32_32_32_2",
          "hnsw_sq_32_32_32_3",
          "hnsw_sq_32_32_64_0",
          "hnsw_sq_32_32_64_1",
          "hnsw_sq_32_32_64_2",
          "hnsw_sq_32_32_64_3",
          "hnsw_sq_32_64_64_0",
          "hnsw_sq_32_64_64_1",
          "hnsw_sq_32_64_64_2",
          "hnsw_sq_32_64_64_3",
          "hnsw_sq_64_16_16_0",
          "hnsw_sq_64_16_16_1",
          "hnsw_sq_64_16_16_2",
          "hnsw_sq_64_16_16_3",
          "hnsw_sq_64_16_32_0",
          "hnsw_sq_64_16_32_1",
          "hnsw_sq_64_16_32_2",
          "hnsw_sq_64_16_32_3",
          "hnsw_sq_64_16_64_0",
          "hnsw_sq_64_16_64_1",
          "hnsw_sq_64_16_64_2",
          "hnsw_sq_64_16_64_3",
          "hnsw_sq_64_32_32_0",
          "hnsw_sq_64_32_32_1",
          "hnsw_sq_64_32_32_2",
          "hnsw_sq_64_32_32_3",
          "hnsw_sq_64_32_64_0",
          "hnsw_sq_64_32_64_1",
          "hnsw_sq_64_32_64_2",
          "hnsw_sq_64_32_64_3",
          "hnsw_sq_64_64_64_0",
          "hnsw_sq_64_64_64_1",
          "hnsw_sq_64_64_64_2",
          "hnsw_sq_64_64_64_3"
         ],
         "legendgroup": "hnsw_sq",
         "marker": {
          "color": "#00cc96",
          "symbol": "circle"
         },
         "mode": "markers",
         "name": "hnsw_sq",
         "orientation": "v",
         "showlegend": true,
         "type": "scatter",
         "x": [
          0.58,
          0.56,
          0.59,
          0.57,
          0.67,
          0.66,
          0.68,
          0.71,
          0.76,
          0.77,
          0.77,
          0.77,
          0.77,
          0.77,
          0.78,
          0.78,
          0.86,
          0.85,
          0.85,
          0.84,
          0.91,
          0.89,
          0.91,
          0.86,
          0.68,
          0.68,
          0.66,
          0.65,
          0.78,
          0.76,
          0.77,
          0.74,
          0.8,
          0.81,
          0.8,
          0.81,
          0.86,
          0.83,
          0.86,
          0.81,
          0.89,
          0.86,
          0.88,
          0.85,
          0.93,
          0.91,
          0.93,
          0.88,
          0.74,
          0.73,
          0.73,
          0.69,
          0.84,
          0.82,
          0.84,
          0.78,
          0.89,
          0.87,
          0.88,
          0.83,
          0.89,
          0.87,
          0.89,
          0.83,
          0.93,
          0.91,
          0.93,
          0.86,
          0.96,
          0.93,
          0.96,
          0.89
         ],
         "xaxis": "x",
         "y": [
          0.01,
          0.02,
          0.01,
          0.02,
          0.02,
          0.01,
          0.01,
          0.02,
          0.02,
          0.02,
          0.01,
          0.02,
          0.02,
          0.02,
          0.02,
          0.02,
          0.03,
          0.03,
          0.12,
          0.03,
          0.22,
          0.23,
          0.21,
          0.24,
          0.02,
          0.02,
          0.02,
          0.03,
          0.07,
          0.09,
          0.05,
          0.07,
          0.06,
          0.09,
          0.06,
          0.08,
          0.14,
          0.11,
          0.09,
          0.14,
          0.03,
          0.21,
          0.02,
          0.03,
          0.05,
          0.05,
          0.05,
          0.06,
          0.02,
          0.03,
          0.02,
          0.02,
          0.03,
          0.03,
          0.03,
          0.03,
          0.04,
          0.04,
          0.04,
          0.04,
          0.05,
          0.04,
          0.05,
          0.03,
          0.08,
          0.05,
          0.07,
          0.05,
          0.12,
          0.08,
          0.12,
          0.07
         ],
         "yaxis": "y"
        },
        {
         "hovertemplate": "<b>%{hovertext}</b><br><br>group=pq<br>NDCG=%{x}<br>mean_time_query_ms=%{y}<extra></extra>",
         "hovertext": [
          "pq_4_6",
          "pq_4_8",
          "pq_4_10",
          "pq_8_6",
          "pq_8_8",
          "pq_8_10",
          "pq_16_6",
          "pq_16_8",
          "pq_16_10",
          "pq_32_6",
          "pq_32_8",
          "pq_32_10"
         ],
         "legendgroup": "pq",
         "marker": {
          "color": "#ab63fa",
          "symbol": "circle"
         },
         "mode": "markers",
         "name": "pq",
         "orientation": "v",
         "showlegend": true,
         "type": "scatter",
         "x": [
          0.05,
          0.09,
          0.2,
          0.1,
          0.21,
          0.32,
          0.27,
          0.37,
          0.48,
          0.44,
          0.53,
          0.63
         ],
         "xaxis": "x",
         "y": [
          0.22,
          0.06,
          0.41,
          0.4,
          0.1,
          0.61,
          0.72,
          0.78,
          2.88,
          3.81,
          1.28,
          4.04
         ],
         "yaxis": "y"
        },
        {
         "hovertemplate": "<b>%{hovertext}</b><br><br>group=hnsw_pq<br>NDCG=%{x}<br>mean_time_query_ms=%{y}<extra></extra>",
         "hovertext": [
          "hnsw_pq_16_6_16_16_32",
          "hnsw_pq_16_6_16_16_64",
          "hnsw_pq_16_8_16_64_64",
          "hnsw_pq_16_8_32_16_16",
          "hnsw_pq_16_9_16_16_32",
          "hnsw_pq_16_9_64_16_32",
          "hnsw_pq_16_9_64_16_64",
          "hnsw_pq_32_6_64_32_64",
          "hnsw_pq_32_8_16_16_16",
          "hnsw_pq_32_8_16_32_32",
          "hnsw_pq_32_8_32_16_32",
          "hnsw_pq_32_8_32_32_32",
          "hnsw_pq_32_8_64_16_16",
          "hnsw_pq_32_9_16_16_64",
          "hnsw_pq_32_9_32_32_32",
          "hnsw_pq_32_9_32_32_64",
          "hnsw_pq_32_9_64_16_32",
          "hnsw_pq_32_9_64_32_32",
          "hnsw_pq_32_9_64_32_64",
          "hnsw_pq_4_6_16_16_16",
          "hnsw_pq_4_6_32_16_16",
          "hnsw_pq_4_6_32_16_32",
          "hnsw_pq_4_6_32_32_64",
          "hnsw_pq_4_6_32_64_64",
          "hnsw_pq_4_6_64_16_16",
          "hnsw_pq_4_8_16_16_16",
          "hnsw_pq_4_8_32_16_32",
          "hnsw_pq_4_8_64_16_16",
          "hnsw_pq_4_8_64_32_32",
          "hnsw_pq_4_8_64_32_64",
          "hnsw_pq_4_8_64_64_64",
          "hnsw_pq_4_9_16_16_64",
          "hnsw_pq_4_9_16_32_64",
          "hnsw_pq_4_9_64_16_32",
          "hnsw_pq_4_9_64_32_64",
          "hnsw_pq_8_6_16_16_16",
          "hnsw_pq_8_6_16_16_64",
          "hnsw_pq_8_6_64_64_64",
          "hnsw_pq_8_8_16_16_64",
          "hnsw_pq_8_8_16_32_32",
          "hnsw_pq_8_8_32_16_16",
          "hnsw_pq_8_8_32_16_32",
          "hnsw_pq_8_8_32_32_32",
          "hnsw_pq_8_8_64_16_16",
          "hnsw_pq_8_8_64_32_64",
          "hnsw_pq_8_9_16_16_64",
          "hnsw_pq_8_9_16_64_64",
          "hnsw_pq_8_9_32_16_16",
          "hnsw_pq_8_9_64_16_64",
          "hnsw_pq_8_9_64_32_32"
         ],
         "legendgroup": "hnsw_pq",
         "marker": {
          "color": "#FFA15A",
          "symbol": "circle"
         },
         "mode": "markers",
         "name": "hnsw_pq",
         "orientation": "v",
         "showlegend": true,
         "type": "scatter",
         "x": [
          0.12,
          0.11,
          0.2,
          0.39,
          0.19,
          0.48,
          0.49,
          0.43,
          0.48,
          0.2,
          0.53,
          0.54,
          0.5,
          0.18,
          0.59,
          0.26,
          0.58,
          0.6,
          0.61,
          0.06,
          0.07,
          0.07,
          0.05,
          0.07,
          0.07,
          0.14,
          0.2,
          0.21,
          0.22,
          0.22,
          0.22,
          0.1,
          0.12,
          0.27,
          0.27,
          0.13,
          0.08,
          0.15,
          0.13,
          0.16,
          0.27,
          0.29,
          0.29,
          0.29,
          0.31,
          0.14,
          0.2,
          0.35,
          0.39,
          0.39
         ],
         "xaxis": "x",
         "y": [
          0,
          0,
          0.01,
          0,
          0.01,
          0.02,
          0.01,
          0.01,
          0.01,
          0.01,
          0.01,
          0.01,
          0.01,
          0.02,
          0.03,
          0.01,
          0.02,
          0.04,
          0.02,
          0,
          0,
          0,
          0,
          0,
          0,
          0,
          0,
          0,
          0,
          0,
          0.01,
          0.01,
          0.01,
          0.01,
          0,
          0,
          0,
          0,
          0,
          0,
          0,
          0,
          0.01,
          0,
          0.01,
          0.01,
          0.01,
          0.01,
          0.01,
          0.02
         ],
         "yaxis": "y"
        },
        {
         "hovertemplate": "<b>%{hovertext}</b><br><br>group=ivf<br>NDCG=%{x}<br>mean_time_query_ms=%{y}<extra></extra>",
         "hovertext": [
          "ivf_IndexFlatIP_32_16",
          "ivf_IndexFlatIP_32_32",
          "ivf_IndexFlatIP_64_16",
          "ivf_IndexFlatIP_64_32",
          "ivf_IndexFlatIP_64_64",
          "ivf_IndexFlatIP_128_16",
          "ivf_IndexFlatIP_128_32",
          "ivf_IndexFlatIP_128_64",
          "ivf_IndexFlatIP_256_16",
          "ivf_IndexFlatIP_256_32",
          "ivf_IndexFlatIP_256_64",
          "ivf_IndexFlatL2_32_16",
          "ivf_IndexFlatL2_32_32",
          "ivf_IndexFlatL2_64_16",
          "ivf_IndexFlatL2_64_32",
          "ivf_IndexFlatL2_64_64",
          "ivf_IndexFlatL2_128_16",
          "ivf_IndexFlatL2_128_32",
          "ivf_IndexFlatL2_128_64",
          "ivf_IndexFlatL2_256_16",
          "ivf_IndexFlatL2_256_32",
          "ivf_IndexFlatL2_256_64"
         ],
         "legendgroup": "ivf",
         "marker": {
          "color": "#19d3f3",
          "symbol": "circle"
         },
         "mode": "markers",
         "name": "ivf",
         "orientation": "v",
         "showlegend": true,
         "type": "scatter",
         "x": [
          0.97,
          1,
          0.96,
          0.98,
          1,
          0.93,
          0.97,
          0.99,
          0.9,
          0.94,
          0.97,
          0.98,
          1,
          0.95,
          0.98,
          1,
          0.92,
          0.96,
          0.99,
          0.9,
          0.94,
          0.97
         ],
         "xaxis": "x",
         "y": [
          1.24,
          1.03,
          0.28,
          0.56,
          1.13,
          0.13,
          0.34,
          0.69,
          0.06,
          0.14,
          0.33,
          0.55,
          1.05,
          0.24,
          0.55,
          1.12,
          0.13,
          0.29,
          0.69,
          0.06,
          0.13,
          0.31
         ],
         "yaxis": "y"
        },
        {
         "hovertemplate": "<b>%{hovertext}</b><br><br>group=ivf_pq<br>NDCG=%{x}<br>mean_time_query_ms=%{y}<extra></extra>",
         "hovertext": [
          "ivf_pq_IndexFlatIP_128_16_32_6",
          "ivf_pq_IndexFlatIP_128_16_4_9",
          "ivf_pq_IndexFlatIP_128_16_8_6",
          "ivf_pq_IndexFlatIP_128_32_8_6",
          "ivf_pq_IndexFlatIP_128_64_32_8",
          "ivf_pq_IndexFlatIP_128_64_8_6",
          "ivf_pq_IndexFlatIP_128_64_8_8",
          "ivf_pq_IndexFlatIP_256_16_32_6",
          "ivf_pq_IndexFlatIP_256_16_4_6",
          "ivf_pq_IndexFlatIP_256_16_8_9",
          "ivf_pq_IndexFlatIP_256_32_16_8",
          "ivf_pq_IndexFlatIP_256_32_8_6",
          "ivf_pq_IndexFlatIP_256_64_32_8",
          "ivf_pq_IndexFlatIP_256_64_32_9",
          "ivf_pq_IndexFlatIP_32_16_16_8",
          "ivf_pq_IndexFlatIP_32_16_32_8",
          "ivf_pq_IndexFlatIP_32_16_8_8",
          "ivf_pq_IndexFlatIP_32_32_16_8",
          "ivf_pq_IndexFlatIP_64_16_16_6",
          "ivf_pq_IndexFlatIP_64_16_32_9",
          "ivf_pq_IndexFlatIP_64_16_4_6",
          "ivf_pq_IndexFlatIP_64_16_4_8",
          "ivf_pq_IndexFlatIP_64_16_4_9",
          "ivf_pq_IndexFlatIP_64_32_8_6",
          "ivf_pq_IndexFlatL2_128_16_16_8",
          "ivf_pq_IndexFlatL2_128_16_16_9",
          "ivf_pq_IndexFlatL2_128_16_4_6",
          "ivf_pq_IndexFlatL2_128_32_16_9",
          "ivf_pq_IndexFlatL2_128_32_32_9",
          "ivf_pq_IndexFlatL2_128_32_4_9",
          "ivf_pq_IndexFlatL2_128_64_16_8",
          "ivf_pq_IndexFlatL2_128_64_4_8",
          "ivf_pq_IndexFlatL2_128_64_8_9",
          "ivf_pq_IndexFlatL2_256_16_32_6",
          "ivf_pq_IndexFlatL2_256_16_4_9",
          "ivf_pq_IndexFlatL2_256_32_16_8",
          "ivf_pq_IndexFlatL2_256_32_32_9",
          "ivf_pq_IndexFlatL2_256_32_4_6",
          "ivf_pq_IndexFlatL2_256_32_4_8",
          "ivf_pq_IndexFlatL2_256_64_32_8",
          "ivf_pq_IndexFlatL2_256_64_8_6",
          "ivf_pq_IndexFlatL2_32_16_4_6",
          "ivf_pq_IndexFlatL2_32_16_8_8",
          "ivf_pq_IndexFlatL2_32_32_4_8",
          "ivf_pq_IndexFlatL2_64_16_16_6",
          "ivf_pq_IndexFlatL2_64_16_4_9",
          "ivf_pq_IndexFlatL2_64_32_32_6",
          "ivf_pq_IndexFlatL2_64_32_8_9",
          "ivf_pq_IndexFlatL2_64_64_16_8",
          "ivf_pq_IndexFlatL2_64_64_4_6",
          "ivf_pq_IndexFlatL2_64_64_4_9",
          "ivf_pq_IndexFlatL2_64_64_8_6"
         ],
         "legendgroup": "ivf_pq",
         "marker": {
          "color": "#FF6692",
          "symbol": "circle"
         },
         "mode": "markers",
         "name": "ivf_pq",
         "orientation": "v",
         "showlegend": true,
         "type": "scatter",
         "x": [
          0.53,
          0.39,
          0.36,
          0.36,
          0.59,
          0.36,
          0.44,
          0.52,
          0.3,
          0.47,
          0.52,
          0.37,
          0.59,
          0.63,
          0.48,
          0.59,
          0.36,
          0.48,
          0.42,
          0.64,
          0.26,
          0.33,
          0.39,
          0.33,
          0.51,
          0.54,
          0.25,
          0.55,
          0.63,
          0.38,
          0.51,
          0.33,
          0.45,
          0.53,
          0.37,
          0.52,
          0.64,
          0.3,
          0.36,
          0.59,
          0.37,
          0.2,
          0.37,
          0.28,
          0.4,
          0.36,
          0.51,
          0.45,
          0.48,
          0.22,
          0.36,
          0.3
         ],
         "xaxis": "x",
         "y": [
          0.07,
          0.09,
          0.04,
          0.06,
          0.3,
          0.08,
          0.17,
          0.05,
          0.02,
          0.09,
          0.11,
          0.03,
          0.29,
          0.62,
          0.1,
          0.12,
          0.05,
          0.12,
          0.05,
          0.34,
          0.04,
          0.08,
          0.1,
          0.05,
          0.02,
          0.04,
          0.01,
          0.08,
          0.12,
          0.03,
          0.05,
          0.03,
          0.07,
          0.03,
          0.02,
          0.03,
          0.08,
          0.02,
          0.02,
          0.06,
          0.04,
          0.04,
          0.03,
          0.04,
          0.05,
          0.03,
          0.15,
          0.06,
          0.07,
          0.06,
          0.07,
          0.09
         ],
         "yaxis": "y"
        },
        {
         "hovertemplate": "<b>%{hovertext}</b><br><br>group=ivfHNSW<br>NDCG=%{x}<br>mean_time_query_ms=%{y}<extra></extra>",
         "hovertext": [
          "ivfHNSW_128_16_16_16_64",
          "ivfHNSW_128_16_16_32_64",
          "ivfHNSW_128_16_64_16_32",
          "ivfHNSW_128_16_64_32_32",
          "ivfHNSW_128_16_64_64_64",
          "ivfHNSW_128_32_16_16_64",
          "ivfHNSW_128_32_32_16_16",
          "ivfHNSW_128_32_64_16_16",
          "ivfHNSW_128_32_64_16_64",
          "ivfHNSW_128_32_64_64_64",
          "ivfHNSW_128_64_16_16_64",
          "ivfHNSW_128_64_16_32_64",
          "ivfHNSW_128_64_32_16_32",
          "ivfHNSW_128_64_32_64_64",
          "ivfHNSW_128_64_64_16_16",
          "ivfHNSW_256_16_16_16_32",
          "ivfHNSW_256_16_16_64_64",
          "ivfHNSW_256_16_32_32_64",
          "ivfHNSW_256_16_32_64_64",
          "ivfHNSW_256_32_16_16_16",
          "ivfHNSW_256_32_32_16_32",
          "ivfHNSW_256_32_64_16_32",
          "ivfHNSW_256_32_64_16_64",
          "ivfHNSW_256_32_64_32_64",
          "ivfHNSW_256_64_16_64_64",
          "ivfHNSW_256_64_32_16_64",
          "ivfHNSW_256_64_64_16_16",
          "ivfHNSW_256_64_64_64_64",
          "ivfHNSW_32_16_16_32_64",
          "ivfHNSW_32_16_32_16_64",
          "ivfHNSW_32_16_32_32_64",
          "ivfHNSW_32_16_64_16_64",
          "ivfHNSW_32_32_16_64_64",
          "ivfHNSW_32_32_64_16_64",
          "ivfHNSW_64_16_16_16_32",
          "ivfHNSW_64_16_16_32_32",
          "ivfHNSW_64_16_16_32_64",
          "ivfHNSW_64_16_32_16_32",
          "ivfHNSW_64_16_32_32_32",
          "ivfHNSW_64_16_32_64_64",
          "ivfHNSW_64_32_16_32_32",
          "ivfHNSW_64_32_16_64_64",
          "ivfHNSW_64_32_32_16_16",
          "ivfHNSW_64_32_32_16_32",
          "ivfHNSW_64_32_64_16_16",
          "ivfHNSW_64_64_16_16_16",
          "ivfHNSW_64_64_16_32_32",
          "ivfHNSW_64_64_32_32_64",
          "ivfHNSW_64_64_64_32_64",
          "ivfHNSW_64_64_64_64_64"
         ],
         "legendgroup": "ivfHNSW",
         "marker": {
          "color": "#B6E880",
          "symbol": "circle"
         },
         "mode": "markers",
         "name": "ivfHNSW",
         "orientation": "v",
         "showlegend": true,
         "type": "scatter",
         "x": [
          0.91,
          0.92,
          0.92,
          0.92,
          0.92,
          0.95,
          0.95,
          0.96,
          0.96,
          0.96,
          0.96,
          0.99,
          0.99,
          0.99,
          0.99,
          0.89,
          0.9,
          0.9,
          0.9,
          0.93,
          0.94,
          0.94,
          0.94,
          0.94,
          0.97,
          0.95,
          0.97,
          0.97,
          0.98,
          0.98,
          0.98,
          0.98,
          1,
          1,
          0.95,
          0.95,
          0.95,
          0.95,
          0.95,
          0.95,
          0.98,
          0.98,
          0.98,
          0.98,
          0.98,
          0.99,
          0.99,
          1,
          1,
          1
         ],
         "xaxis": "x",
         "y": [
          0.53,
          0.52,
          0.52,
          0.51,
          0.52,
          1.1,
          1.08,
          1.09,
          1.09,
          1.09,
          2.12,
          2.24,
          2.2,
          2.27,
          2.17,
          0.27,
          0.27,
          0.28,
          0.27,
          0.57,
          0.57,
          0.56,
          0.57,
          0.57,
          1.17,
          1.17,
          1.2,
          1.2,
          2.08,
          2.05,
          2.07,
          2.09,
          4.43,
          4.43,
          1.07,
          1.05,
          1.05,
          1.07,
          1.07,
          1.07,
          2.17,
          2.1,
          2.13,
          2.1,
          2.14,
          3.93,
          4.18,
          4.45,
          4.43,
          4.43
         ],
         "yaxis": "y"
        }
       ],
       "layout": {
        "legend": {
         "title": {
          "text": "group"
         },
         "tracegroupgap": 0
        },
        "margin": {
         "t": 60
        },
        "template": {
         "data": {
          "bar": [
           {
            "error_x": {
             "color": "#2a3f5f"
            },
            "error_y": {
             "color": "#2a3f5f"
            },
            "marker": {
             "line": {
              "color": "#E5ECF6",
              "width": 0.5
             },
             "pattern": {
              "fillmode": "overlay",
              "size": 10,
              "solidity": 0.2
             }
            },
            "type": "bar"
           }
          ],
          "barpolar": [
           {
            "marker": {
             "line": {
              "color": "#E5ECF6",
              "width": 0.5
             },
             "pattern": {
              "fillmode": "overlay",
              "size": 10,
              "solidity": 0.2
             }
            },
            "type": "barpolar"
           }
          ],
          "carpet": [
           {
            "aaxis": {
             "endlinecolor": "#2a3f5f",
             "gridcolor": "white",
             "linecolor": "white",
             "minorgridcolor": "white",
             "startlinecolor": "#2a3f5f"
            },
            "baxis": {
             "endlinecolor": "#2a3f5f",
             "gridcolor": "white",
             "linecolor": "white",
             "minorgridcolor": "white",
             "startlinecolor": "#2a3f5f"
            },
            "type": "carpet"
           }
          ],
          "choropleth": [
           {
            "colorbar": {
             "outlinewidth": 0,
             "ticks": ""
            },
            "type": "choropleth"
           }
          ],
          "contour": [
           {
            "colorbar": {
             "outlinewidth": 0,
             "ticks": ""
            },
            "colorscale": [
             [
              0,
              "#0d0887"
             ],
             [
              0.1111111111111111,
              "#46039f"
             ],
             [
              0.2222222222222222,
              "#7201a8"
             ],
             [
              0.3333333333333333,
              "#9c179e"
             ],
             [
              0.4444444444444444,
              "#bd3786"
             ],
             [
              0.5555555555555556,
              "#d8576b"
             ],
             [
              0.6666666666666666,
              "#ed7953"
             ],
             [
              0.7777777777777778,
              "#fb9f3a"
             ],
             [
              0.8888888888888888,
              "#fdca26"
             ],
             [
              1,
              "#f0f921"
             ]
            ],
            "type": "contour"
           }
          ],
          "contourcarpet": [
           {
            "colorbar": {
             "outlinewidth": 0,
             "ticks": ""
            },
            "type": "contourcarpet"
           }
          ],
          "heatmap": [
           {
            "colorbar": {
             "outlinewidth": 0,
             "ticks": ""
            },
            "colorscale": [
             [
              0,
              "#0d0887"
             ],
             [
              0.1111111111111111,
              "#46039f"
             ],
             [
              0.2222222222222222,
              "#7201a8"
             ],
             [
              0.3333333333333333,
              "#9c179e"
             ],
             [
              0.4444444444444444,
              "#bd3786"
             ],
             [
              0.5555555555555556,
              "#d8576b"
             ],
             [
              0.6666666666666666,
              "#ed7953"
             ],
             [
              0.7777777777777778,
              "#fb9f3a"
             ],
             [
              0.8888888888888888,
              "#fdca26"
             ],
             [
              1,
              "#f0f921"
             ]
            ],
            "type": "heatmap"
           }
          ],
          "heatmapgl": [
           {
            "colorbar": {
             "outlinewidth": 0,
             "ticks": ""
            },
            "colorscale": [
             [
              0,
              "#0d0887"
             ],
             [
              0.1111111111111111,
              "#46039f"
             ],
             [
              0.2222222222222222,
              "#7201a8"
             ],
             [
              0.3333333333333333,
              "#9c179e"
             ],
             [
              0.4444444444444444,
              "#bd3786"
             ],
             [
              0.5555555555555556,
              "#d8576b"
             ],
             [
              0.6666666666666666,
              "#ed7953"
             ],
             [
              0.7777777777777778,
              "#fb9f3a"
             ],
             [
              0.8888888888888888,
              "#fdca26"
             ],
             [
              1,
              "#f0f921"
             ]
            ],
            "type": "heatmapgl"
           }
          ],
          "histogram": [
           {
            "marker": {
             "pattern": {
              "fillmode": "overlay",
              "size": 10,
              "solidity": 0.2
             }
            },
            "type": "histogram"
           }
          ],
          "histogram2d": [
           {
            "colorbar": {
             "outlinewidth": 0,
             "ticks": ""
            },
            "colorscale": [
             [
              0,
              "#0d0887"
             ],
             [
              0.1111111111111111,
              "#46039f"
             ],
             [
              0.2222222222222222,
              "#7201a8"
             ],
             [
              0.3333333333333333,
              "#9c179e"
             ],
             [
              0.4444444444444444,
              "#bd3786"
             ],
             [
              0.5555555555555556,
              "#d8576b"
             ],
             [
              0.6666666666666666,
              "#ed7953"
             ],
             [
              0.7777777777777778,
              "#fb9f3a"
             ],
             [
              0.8888888888888888,
              "#fdca26"
             ],
             [
              1,
              "#f0f921"
             ]
            ],
            "type": "histogram2d"
           }
          ],
          "histogram2dcontour": [
           {
            "colorbar": {
             "outlinewidth": 0,
             "ticks": ""
            },
            "colorscale": [
             [
              0,
              "#0d0887"
             ],
             [
              0.1111111111111111,
              "#46039f"
             ],
             [
              0.2222222222222222,
              "#7201a8"
             ],
             [
              0.3333333333333333,
              "#9c179e"
             ],
             [
              0.4444444444444444,
              "#bd3786"
             ],
             [
              0.5555555555555556,
              "#d8576b"
             ],
             [
              0.6666666666666666,
              "#ed7953"
             ],
             [
              0.7777777777777778,
              "#fb9f3a"
             ],
             [
              0.8888888888888888,
              "#fdca26"
             ],
             [
              1,
              "#f0f921"
             ]
            ],
            "type": "histogram2dcontour"
           }
          ],
          "mesh3d": [
           {
            "colorbar": {
             "outlinewidth": 0,
             "ticks": ""
            },
            "type": "mesh3d"
           }
          ],
          "parcoords": [
           {
            "line": {
             "colorbar": {
              "outlinewidth": 0,
              "ticks": ""
             }
            },
            "type": "parcoords"
           }
          ],
          "pie": [
           {
            "automargin": true,
            "type": "pie"
           }
          ],
          "scatter": [
           {
            "fillpattern": {
             "fillmode": "overlay",
             "size": 10,
             "solidity": 0.2
            },
            "type": "scatter"
           }
          ],
          "scatter3d": [
           {
            "line": {
             "colorbar": {
              "outlinewidth": 0,
              "ticks": ""
             }
            },
            "marker": {
             "colorbar": {
              "outlinewidth": 0,
              "ticks": ""
             }
            },
            "type": "scatter3d"
           }
          ],
          "scattercarpet": [
           {
            "marker": {
             "colorbar": {
              "outlinewidth": 0,
              "ticks": ""
             }
            },
            "type": "scattercarpet"
           }
          ],
          "scattergeo": [
           {
            "marker": {
             "colorbar": {
              "outlinewidth": 0,
              "ticks": ""
             }
            },
            "type": "scattergeo"
           }
          ],
          "scattergl": [
           {
            "marker": {
             "colorbar": {
              "outlinewidth": 0,
              "ticks": ""
             }
            },
            "type": "scattergl"
           }
          ],
          "scattermapbox": [
           {
            "marker": {
             "colorbar": {
              "outlinewidth": 0,
              "ticks": ""
             }
            },
            "type": "scattermapbox"
           }
          ],
          "scatterpolar": [
           {
            "marker": {
             "colorbar": {
              "outlinewidth": 0,
              "ticks": ""
             }
            },
            "type": "scatterpolar"
           }
          ],
          "scatterpolargl": [
           {
            "marker": {
             "colorbar": {
              "outlinewidth": 0,
              "ticks": ""
             }
            },
            "type": "scatterpolargl"
           }
          ],
          "scatterternary": [
           {
            "marker": {
             "colorbar": {
              "outlinewidth": 0,
              "ticks": ""
             }
            },
            "type": "scatterternary"
           }
          ],
          "surface": [
           {
            "colorbar": {
             "outlinewidth": 0,
             "ticks": ""
            },
            "colorscale": [
             [
              0,
              "#0d0887"
             ],
             [
              0.1111111111111111,
              "#46039f"
             ],
             [
              0.2222222222222222,
              "#7201a8"
             ],
             [
              0.3333333333333333,
              "#9c179e"
             ],
             [
              0.4444444444444444,
              "#bd3786"
             ],
             [
              0.5555555555555556,
              "#d8576b"
             ],
             [
              0.6666666666666666,
              "#ed7953"
             ],
             [
              0.7777777777777778,
              "#fb9f3a"
             ],
             [
              0.8888888888888888,
              "#fdca26"
             ],
             [
              1,
              "#f0f921"
             ]
            ],
            "type": "surface"
           }
          ],
          "table": [
           {
            "cells": {
             "fill": {
              "color": "#EBF0F8"
             },
             "line": {
              "color": "white"
             }
            },
            "header": {
             "fill": {
              "color": "#C8D4E3"
             },
             "line": {
              "color": "white"
             }
            },
            "type": "table"
           }
          ]
         },
         "layout": {
          "annotationdefaults": {
           "arrowcolor": "#2a3f5f",
           "arrowhead": 0,
           "arrowwidth": 1
          },
          "autotypenumbers": "strict",
          "coloraxis": {
           "colorbar": {
            "outlinewidth": 0,
            "ticks": ""
           }
          },
          "colorscale": {
           "diverging": [
            [
             0,
             "#8e0152"
            ],
            [
             0.1,
             "#c51b7d"
            ],
            [
             0.2,
             "#de77ae"
            ],
            [
             0.3,
             "#f1b6da"
            ],
            [
             0.4,
             "#fde0ef"
            ],
            [
             0.5,
             "#f7f7f7"
            ],
            [
             0.6,
             "#e6f5d0"
            ],
            [
             0.7,
             "#b8e186"
            ],
            [
             0.8,
             "#7fbc41"
            ],
            [
             0.9,
             "#4d9221"
            ],
            [
             1,
             "#276419"
            ]
           ],
           "sequential": [
            [
             0,
             "#0d0887"
            ],
            [
             0.1111111111111111,
             "#46039f"
            ],
            [
             0.2222222222222222,
             "#7201a8"
            ],
            [
             0.3333333333333333,
             "#9c179e"
            ],
            [
             0.4444444444444444,
             "#bd3786"
            ],
            [
             0.5555555555555556,
             "#d8576b"
            ],
            [
             0.6666666666666666,
             "#ed7953"
            ],
            [
             0.7777777777777778,
             "#fb9f3a"
            ],
            [
             0.8888888888888888,
             "#fdca26"
            ],
            [
             1,
             "#f0f921"
            ]
           ],
           "sequentialminus": [
            [
             0,
             "#0d0887"
            ],
            [
             0.1111111111111111,
             "#46039f"
            ],
            [
             0.2222222222222222,
             "#7201a8"
            ],
            [
             0.3333333333333333,
             "#9c179e"
            ],
            [
             0.4444444444444444,
             "#bd3786"
            ],
            [
             0.5555555555555556,
             "#d8576b"
            ],
            [
             0.6666666666666666,
             "#ed7953"
            ],
            [
             0.7777777777777778,
             "#fb9f3a"
            ],
            [
             0.8888888888888888,
             "#fdca26"
            ],
            [
             1,
             "#f0f921"
            ]
           ]
          },
          "colorway": [
           "#636efa",
           "#EF553B",
           "#00cc96",
           "#ab63fa",
           "#FFA15A",
           "#19d3f3",
           "#FF6692",
           "#B6E880",
           "#FF97FF",
           "#FECB52"
          ],
          "font": {
           "color": "#2a3f5f"
          },
          "geo": {
           "bgcolor": "white",
           "lakecolor": "white",
           "landcolor": "#E5ECF6",
           "showlakes": true,
           "showland": true,
           "subunitcolor": "white"
          },
          "hoverlabel": {
           "align": "left"
          },
          "hovermode": "closest",
          "mapbox": {
           "style": "light"
          },
          "paper_bgcolor": "white",
          "plot_bgcolor": "#E5ECF6",
          "polar": {
           "angularaxis": {
            "gridcolor": "white",
            "linecolor": "white",
            "ticks": ""
           },
           "bgcolor": "#E5ECF6",
           "radialaxis": {
            "gridcolor": "white",
            "linecolor": "white",
            "ticks": ""
           }
          },
          "scene": {
           "xaxis": {
            "backgroundcolor": "#E5ECF6",
            "gridcolor": "white",
            "gridwidth": 2,
            "linecolor": "white",
            "showbackground": true,
            "ticks": "",
            "zerolinecolor": "white"
           },
           "yaxis": {
            "backgroundcolor": "#E5ECF6",
            "gridcolor": "white",
            "gridwidth": 2,
            "linecolor": "white",
            "showbackground": true,
            "ticks": "",
            "zerolinecolor": "white"
           },
           "zaxis": {
            "backgroundcolor": "#E5ECF6",
            "gridcolor": "white",
            "gridwidth": 2,
            "linecolor": "white",
            "showbackground": true,
            "ticks": "",
            "zerolinecolor": "white"
           }
          },
          "shapedefaults": {
           "line": {
            "color": "#2a3f5f"
           }
          },
          "ternary": {
           "aaxis": {
            "gridcolor": "white",
            "linecolor": "white",
            "ticks": ""
           },
           "baxis": {
            "gridcolor": "white",
            "linecolor": "white",
            "ticks": ""
           },
           "bgcolor": "#E5ECF6",
           "caxis": {
            "gridcolor": "white",
            "linecolor": "white",
            "ticks": ""
           }
          },
          "title": {
           "x": 0.05
          },
          "xaxis": {
           "automargin": true,
           "gridcolor": "white",
           "linecolor": "white",
           "ticks": "",
           "title": {
            "standoff": 15
           },
           "zerolinecolor": "white",
           "zerolinewidth": 2
          },
          "yaxis": {
           "automargin": true,
           "gridcolor": "white",
           "linecolor": "white",
           "ticks": "",
           "title": {
            "standoff": 15
           },
           "zerolinecolor": "white",
           "zerolinewidth": 2
          }
         }
        },
        "xaxis": {
         "anchor": "y",
         "domain": [
          0,
          1
         ],
         "title": {
          "text": "NDCG"
         }
        },
        "yaxis": {
         "anchor": "x",
         "domain": [
          0,
          1
         ],
         "title": {
          "text": "mean query time"
         }
        }
       }
      },
      "text/html": [
       "<div>                            <div id=\"3f8f0b32-f7ee-48c0-b8ee-b0f362728f06\" class=\"plotly-graph-div\" style=\"height:525px; width:100%;\"></div>            <script type=\"text/javascript\">                require([\"plotly\"], function(Plotly) {                    window.PLOTLYENV=window.PLOTLYENV || {};                                    if (document.getElementById(\"3f8f0b32-f7ee-48c0-b8ee-b0f362728f06\")) {                    Plotly.newPlot(                        \"3f8f0b32-f7ee-48c0-b8ee-b0f362728f06\",                        [{\"hovertemplate\":\"\\u003cb\\u003e%{hovertext}\\u003c\\u002fb\\u003e\\u003cbr\\u003e\\u003cbr\\u003egroup=flat\\u003cbr\\u003eNDCG=%{x}\\u003cbr\\u003emean_time_query_ms=%{y}\\u003cextra\\u003e\\u003c\\u002fextra\\u003e\",\"hovertext\":[\"flat\"],\"legendgroup\":\"flat\",\"marker\":{\"color\":\"#636efa\",\"symbol\":\"circle\"},\"mode\":\"markers\",\"name\":\"flat\",\"orientation\":\"v\",\"showlegend\":true,\"x\":[1.0],\"xaxis\":\"x\",\"y\":[5.24],\"yaxis\":\"y\",\"type\":\"scatter\"},{\"hovertemplate\":\"\\u003cb\\u003e%{hovertext}\\u003c\\u002fb\\u003e\\u003cbr\\u003e\\u003cbr\\u003egroup=hnsw\\u003cbr\\u003eNDCG=%{x}\\u003cbr\\u003emean_time_query_ms=%{y}\\u003cextra\\u003e\\u003c\\u002fextra\\u003e\",\"hovertext\":[\"hnsw_16_16_16\",\"hnsw_16_16_32\",\"hnsw_16_16_64\",\"hnsw_16_32_32\",\"hnsw_16_32_64\",\"hnsw_16_64_64\",\"hnsw_32_16_16\",\"hnsw_32_16_32\",\"hnsw_32_16_64\",\"hnsw_32_32_32\",\"hnsw_32_32_64\",\"hnsw_32_64_64\",\"hnsw_64_16_16\",\"hnsw_64_16_32\",\"hnsw_64_16_64\",\"hnsw_64_32_32\",\"hnsw_64_32_64\",\"hnsw_64_64_64\"],\"legendgroup\":\"hnsw\",\"marker\":{\"color\":\"#EF553B\",\"symbol\":\"circle\"},\"mode\":\"markers\",\"name\":\"hnsw\",\"orientation\":\"v\",\"showlegend\":true,\"x\":[0.57,0.66,0.77,0.77,0.85,0.92,0.68,0.78,0.8,0.86,0.88,0.93,0.73,0.83,0.89,0.89,0.94,0.96],\"xaxis\":\"x\",\"y\":[0.04,0.04,0.06,0.08,0.09,0.16,0.06,0.08,0.07,0.1,0.11,0.2,0.1,0.12,0.16,0.18,0.25,0.43],\"yaxis\":\"y\",\"type\":\"scatter\"},{\"hovertemplate\":\"\\u003cb\\u003e%{hovertext}\\u003c\\u002fb\\u003e\\u003cbr\\u003e\\u003cbr\\u003egroup=hnsw_sq\\u003cbr\\u003eNDCG=%{x}\\u003cbr\\u003emean_time_query_ms=%{y}\\u003cextra\\u003e\\u003c\\u002fextra\\u003e\",\"hovertext\":[\"hnsw_sq_16_16_16_0\",\"hnsw_sq_16_16_16_1\",\"hnsw_sq_16_16_16_2\",\"hnsw_sq_16_16_16_3\",\"hnsw_sq_16_16_32_0\",\"hnsw_sq_16_16_32_1\",\"hnsw_sq_16_16_32_2\",\"hnsw_sq_16_16_32_3\",\"hnsw_sq_16_16_64_0\",\"hnsw_sq_16_16_64_1\",\"hnsw_sq_16_16_64_2\",\"hnsw_sq_16_16_64_3\",\"hnsw_sq_16_32_32_0\",\"hnsw_sq_16_32_32_1\",\"hnsw_sq_16_32_32_2\",\"hnsw_sq_16_32_32_3\",\"hnsw_sq_16_32_64_0\",\"hnsw_sq_16_32_64_1\",\"hnsw_sq_16_32_64_2\",\"hnsw_sq_16_32_64_3\",\"hnsw_sq_16_64_64_0\",\"hnsw_sq_16_64_64_1\",\"hnsw_sq_16_64_64_2\",\"hnsw_sq_16_64_64_3\",\"hnsw_sq_32_16_16_0\",\"hnsw_sq_32_16_16_1\",\"hnsw_sq_32_16_16_2\",\"hnsw_sq_32_16_16_3\",\"hnsw_sq_32_16_32_0\",\"hnsw_sq_32_16_32_1\",\"hnsw_sq_32_16_32_2\",\"hnsw_sq_32_16_32_3\",\"hnsw_sq_32_16_64_0\",\"hnsw_sq_32_16_64_1\",\"hnsw_sq_32_16_64_2\",\"hnsw_sq_32_16_64_3\",\"hnsw_sq_32_32_32_0\",\"hnsw_sq_32_32_32_1\",\"hnsw_sq_32_32_32_2\",\"hnsw_sq_32_32_32_3\",\"hnsw_sq_32_32_64_0\",\"hnsw_sq_32_32_64_1\",\"hnsw_sq_32_32_64_2\",\"hnsw_sq_32_32_64_3\",\"hnsw_sq_32_64_64_0\",\"hnsw_sq_32_64_64_1\",\"hnsw_sq_32_64_64_2\",\"hnsw_sq_32_64_64_3\",\"hnsw_sq_64_16_16_0\",\"hnsw_sq_64_16_16_1\",\"hnsw_sq_64_16_16_2\",\"hnsw_sq_64_16_16_3\",\"hnsw_sq_64_16_32_0\",\"hnsw_sq_64_16_32_1\",\"hnsw_sq_64_16_32_2\",\"hnsw_sq_64_16_32_3\",\"hnsw_sq_64_16_64_0\",\"hnsw_sq_64_16_64_1\",\"hnsw_sq_64_16_64_2\",\"hnsw_sq_64_16_64_3\",\"hnsw_sq_64_32_32_0\",\"hnsw_sq_64_32_32_1\",\"hnsw_sq_64_32_32_2\",\"hnsw_sq_64_32_32_3\",\"hnsw_sq_64_32_64_0\",\"hnsw_sq_64_32_64_1\",\"hnsw_sq_64_32_64_2\",\"hnsw_sq_64_32_64_3\",\"hnsw_sq_64_64_64_0\",\"hnsw_sq_64_64_64_1\",\"hnsw_sq_64_64_64_2\",\"hnsw_sq_64_64_64_3\"],\"legendgroup\":\"hnsw_sq\",\"marker\":{\"color\":\"#00cc96\",\"symbol\":\"circle\"},\"mode\":\"markers\",\"name\":\"hnsw_sq\",\"orientation\":\"v\",\"showlegend\":true,\"x\":[0.58,0.56,0.59,0.57,0.67,0.66,0.68,0.71,0.76,0.77,0.77,0.77,0.77,0.77,0.78,0.78,0.86,0.85,0.85,0.84,0.91,0.89,0.91,0.86,0.68,0.68,0.66,0.65,0.78,0.76,0.77,0.74,0.8,0.81,0.8,0.81,0.86,0.83,0.86,0.81,0.89,0.86,0.88,0.85,0.93,0.91,0.93,0.88,0.74,0.73,0.73,0.69,0.84,0.82,0.84,0.78,0.89,0.87,0.88,0.83,0.89,0.87,0.89,0.83,0.93,0.91,0.93,0.86,0.96,0.93,0.96,0.89],\"xaxis\":\"x\",\"y\":[0.01,0.02,0.01,0.02,0.02,0.01,0.01,0.02,0.02,0.02,0.01,0.02,0.02,0.02,0.02,0.02,0.03,0.03,0.12,0.03,0.22,0.23,0.21,0.24,0.02,0.02,0.02,0.03,0.07,0.09,0.05,0.07,0.06,0.09,0.06,0.08,0.14,0.11,0.09,0.14,0.03,0.21,0.02,0.03,0.05,0.05,0.05,0.06,0.02,0.03,0.02,0.02,0.03,0.03,0.03,0.03,0.04,0.04,0.04,0.04,0.05,0.04,0.05,0.03,0.08,0.05,0.07,0.05,0.12,0.08,0.12,0.07],\"yaxis\":\"y\",\"type\":\"scatter\"},{\"hovertemplate\":\"\\u003cb\\u003e%{hovertext}\\u003c\\u002fb\\u003e\\u003cbr\\u003e\\u003cbr\\u003egroup=pq\\u003cbr\\u003eNDCG=%{x}\\u003cbr\\u003emean_time_query_ms=%{y}\\u003cextra\\u003e\\u003c\\u002fextra\\u003e\",\"hovertext\":[\"pq_4_6\",\"pq_4_8\",\"pq_4_10\",\"pq_8_6\",\"pq_8_8\",\"pq_8_10\",\"pq_16_6\",\"pq_16_8\",\"pq_16_10\",\"pq_32_6\",\"pq_32_8\",\"pq_32_10\"],\"legendgroup\":\"pq\",\"marker\":{\"color\":\"#ab63fa\",\"symbol\":\"circle\"},\"mode\":\"markers\",\"name\":\"pq\",\"orientation\":\"v\",\"showlegend\":true,\"x\":[0.05,0.09,0.2,0.1,0.21,0.32,0.27,0.37,0.48,0.44,0.53,0.63],\"xaxis\":\"x\",\"y\":[0.22,0.06,0.41,0.4,0.1,0.61,0.72,0.78,2.88,3.81,1.28,4.04],\"yaxis\":\"y\",\"type\":\"scatter\"},{\"hovertemplate\":\"\\u003cb\\u003e%{hovertext}\\u003c\\u002fb\\u003e\\u003cbr\\u003e\\u003cbr\\u003egroup=hnsw_pq\\u003cbr\\u003eNDCG=%{x}\\u003cbr\\u003emean_time_query_ms=%{y}\\u003cextra\\u003e\\u003c\\u002fextra\\u003e\",\"hovertext\":[\"hnsw_pq_16_6_16_16_32\",\"hnsw_pq_16_6_16_16_64\",\"hnsw_pq_16_8_16_64_64\",\"hnsw_pq_16_8_32_16_16\",\"hnsw_pq_16_9_16_16_32\",\"hnsw_pq_16_9_64_16_32\",\"hnsw_pq_16_9_64_16_64\",\"hnsw_pq_32_6_64_32_64\",\"hnsw_pq_32_8_16_16_16\",\"hnsw_pq_32_8_16_32_32\",\"hnsw_pq_32_8_32_16_32\",\"hnsw_pq_32_8_32_32_32\",\"hnsw_pq_32_8_64_16_16\",\"hnsw_pq_32_9_16_16_64\",\"hnsw_pq_32_9_32_32_32\",\"hnsw_pq_32_9_32_32_64\",\"hnsw_pq_32_9_64_16_32\",\"hnsw_pq_32_9_64_32_32\",\"hnsw_pq_32_9_64_32_64\",\"hnsw_pq_4_6_16_16_16\",\"hnsw_pq_4_6_32_16_16\",\"hnsw_pq_4_6_32_16_32\",\"hnsw_pq_4_6_32_32_64\",\"hnsw_pq_4_6_32_64_64\",\"hnsw_pq_4_6_64_16_16\",\"hnsw_pq_4_8_16_16_16\",\"hnsw_pq_4_8_32_16_32\",\"hnsw_pq_4_8_64_16_16\",\"hnsw_pq_4_8_64_32_32\",\"hnsw_pq_4_8_64_32_64\",\"hnsw_pq_4_8_64_64_64\",\"hnsw_pq_4_9_16_16_64\",\"hnsw_pq_4_9_16_32_64\",\"hnsw_pq_4_9_64_16_32\",\"hnsw_pq_4_9_64_32_64\",\"hnsw_pq_8_6_16_16_16\",\"hnsw_pq_8_6_16_16_64\",\"hnsw_pq_8_6_64_64_64\",\"hnsw_pq_8_8_16_16_64\",\"hnsw_pq_8_8_16_32_32\",\"hnsw_pq_8_8_32_16_16\",\"hnsw_pq_8_8_32_16_32\",\"hnsw_pq_8_8_32_32_32\",\"hnsw_pq_8_8_64_16_16\",\"hnsw_pq_8_8_64_32_64\",\"hnsw_pq_8_9_16_16_64\",\"hnsw_pq_8_9_16_64_64\",\"hnsw_pq_8_9_32_16_16\",\"hnsw_pq_8_9_64_16_64\",\"hnsw_pq_8_9_64_32_32\"],\"legendgroup\":\"hnsw_pq\",\"marker\":{\"color\":\"#FFA15A\",\"symbol\":\"circle\"},\"mode\":\"markers\",\"name\":\"hnsw_pq\",\"orientation\":\"v\",\"showlegend\":true,\"x\":[0.12,0.11,0.2,0.39,0.19,0.48,0.49,0.43,0.48,0.2,0.53,0.54,0.5,0.18,0.59,0.26,0.58,0.6,0.61,0.06,0.07,0.07,0.05,0.07,0.07,0.14,0.2,0.21,0.22,0.22,0.22,0.1,0.12,0.27,0.27,0.13,0.08,0.15,0.13,0.16,0.27,0.29,0.29,0.29,0.31,0.14,0.2,0.35,0.39,0.39],\"xaxis\":\"x\",\"y\":[0.0,0.0,0.01,0.0,0.01,0.02,0.01,0.01,0.01,0.01,0.01,0.01,0.01,0.02,0.03,0.01,0.02,0.04,0.02,0.0,0.0,0.0,0.0,0.0,0.0,0.0,0.0,0.0,0.0,0.0,0.01,0.01,0.01,0.01,0.0,0.0,0.0,0.0,0.0,0.0,0.0,0.0,0.01,0.0,0.01,0.01,0.01,0.01,0.01,0.02],\"yaxis\":\"y\",\"type\":\"scatter\"},{\"hovertemplate\":\"\\u003cb\\u003e%{hovertext}\\u003c\\u002fb\\u003e\\u003cbr\\u003e\\u003cbr\\u003egroup=ivf\\u003cbr\\u003eNDCG=%{x}\\u003cbr\\u003emean_time_query_ms=%{y}\\u003cextra\\u003e\\u003c\\u002fextra\\u003e\",\"hovertext\":[\"ivf_IndexFlatIP_32_16\",\"ivf_IndexFlatIP_32_32\",\"ivf_IndexFlatIP_64_16\",\"ivf_IndexFlatIP_64_32\",\"ivf_IndexFlatIP_64_64\",\"ivf_IndexFlatIP_128_16\",\"ivf_IndexFlatIP_128_32\",\"ivf_IndexFlatIP_128_64\",\"ivf_IndexFlatIP_256_16\",\"ivf_IndexFlatIP_256_32\",\"ivf_IndexFlatIP_256_64\",\"ivf_IndexFlatL2_32_16\",\"ivf_IndexFlatL2_32_32\",\"ivf_IndexFlatL2_64_16\",\"ivf_IndexFlatL2_64_32\",\"ivf_IndexFlatL2_64_64\",\"ivf_IndexFlatL2_128_16\",\"ivf_IndexFlatL2_128_32\",\"ivf_IndexFlatL2_128_64\",\"ivf_IndexFlatL2_256_16\",\"ivf_IndexFlatL2_256_32\",\"ivf_IndexFlatL2_256_64\"],\"legendgroup\":\"ivf\",\"marker\":{\"color\":\"#19d3f3\",\"symbol\":\"circle\"},\"mode\":\"markers\",\"name\":\"ivf\",\"orientation\":\"v\",\"showlegend\":true,\"x\":[0.97,1.0,0.96,0.98,1.0,0.93,0.97,0.99,0.9,0.94,0.97,0.98,1.0,0.95,0.98,1.0,0.92,0.96,0.99,0.9,0.94,0.97],\"xaxis\":\"x\",\"y\":[1.24,1.03,0.28,0.56,1.13,0.13,0.34,0.69,0.06,0.14,0.33,0.55,1.05,0.24,0.55,1.12,0.13,0.29,0.69,0.06,0.13,0.31],\"yaxis\":\"y\",\"type\":\"scatter\"},{\"hovertemplate\":\"\\u003cb\\u003e%{hovertext}\\u003c\\u002fb\\u003e\\u003cbr\\u003e\\u003cbr\\u003egroup=ivf_pq\\u003cbr\\u003eNDCG=%{x}\\u003cbr\\u003emean_time_query_ms=%{y}\\u003cextra\\u003e\\u003c\\u002fextra\\u003e\",\"hovertext\":[\"ivf_pq_IndexFlatIP_128_16_32_6\",\"ivf_pq_IndexFlatIP_128_16_4_9\",\"ivf_pq_IndexFlatIP_128_16_8_6\",\"ivf_pq_IndexFlatIP_128_32_8_6\",\"ivf_pq_IndexFlatIP_128_64_32_8\",\"ivf_pq_IndexFlatIP_128_64_8_6\",\"ivf_pq_IndexFlatIP_128_64_8_8\",\"ivf_pq_IndexFlatIP_256_16_32_6\",\"ivf_pq_IndexFlatIP_256_16_4_6\",\"ivf_pq_IndexFlatIP_256_16_8_9\",\"ivf_pq_IndexFlatIP_256_32_16_8\",\"ivf_pq_IndexFlatIP_256_32_8_6\",\"ivf_pq_IndexFlatIP_256_64_32_8\",\"ivf_pq_IndexFlatIP_256_64_32_9\",\"ivf_pq_IndexFlatIP_32_16_16_8\",\"ivf_pq_IndexFlatIP_32_16_32_8\",\"ivf_pq_IndexFlatIP_32_16_8_8\",\"ivf_pq_IndexFlatIP_32_32_16_8\",\"ivf_pq_IndexFlatIP_64_16_16_6\",\"ivf_pq_IndexFlatIP_64_16_32_9\",\"ivf_pq_IndexFlatIP_64_16_4_6\",\"ivf_pq_IndexFlatIP_64_16_4_8\",\"ivf_pq_IndexFlatIP_64_16_4_9\",\"ivf_pq_IndexFlatIP_64_32_8_6\",\"ivf_pq_IndexFlatL2_128_16_16_8\",\"ivf_pq_IndexFlatL2_128_16_16_9\",\"ivf_pq_IndexFlatL2_128_16_4_6\",\"ivf_pq_IndexFlatL2_128_32_16_9\",\"ivf_pq_IndexFlatL2_128_32_32_9\",\"ivf_pq_IndexFlatL2_128_32_4_9\",\"ivf_pq_IndexFlatL2_128_64_16_8\",\"ivf_pq_IndexFlatL2_128_64_4_8\",\"ivf_pq_IndexFlatL2_128_64_8_9\",\"ivf_pq_IndexFlatL2_256_16_32_6\",\"ivf_pq_IndexFlatL2_256_16_4_9\",\"ivf_pq_IndexFlatL2_256_32_16_8\",\"ivf_pq_IndexFlatL2_256_32_32_9\",\"ivf_pq_IndexFlatL2_256_32_4_6\",\"ivf_pq_IndexFlatL2_256_32_4_8\",\"ivf_pq_IndexFlatL2_256_64_32_8\",\"ivf_pq_IndexFlatL2_256_64_8_6\",\"ivf_pq_IndexFlatL2_32_16_4_6\",\"ivf_pq_IndexFlatL2_32_16_8_8\",\"ivf_pq_IndexFlatL2_32_32_4_8\",\"ivf_pq_IndexFlatL2_64_16_16_6\",\"ivf_pq_IndexFlatL2_64_16_4_9\",\"ivf_pq_IndexFlatL2_64_32_32_6\",\"ivf_pq_IndexFlatL2_64_32_8_9\",\"ivf_pq_IndexFlatL2_64_64_16_8\",\"ivf_pq_IndexFlatL2_64_64_4_6\",\"ivf_pq_IndexFlatL2_64_64_4_9\",\"ivf_pq_IndexFlatL2_64_64_8_6\"],\"legendgroup\":\"ivf_pq\",\"marker\":{\"color\":\"#FF6692\",\"symbol\":\"circle\"},\"mode\":\"markers\",\"name\":\"ivf_pq\",\"orientation\":\"v\",\"showlegend\":true,\"x\":[0.53,0.39,0.36,0.36,0.59,0.36,0.44,0.52,0.3,0.47,0.52,0.37,0.59,0.63,0.48,0.59,0.36,0.48,0.42,0.64,0.26,0.33,0.39,0.33,0.51,0.54,0.25,0.55,0.63,0.38,0.51,0.33,0.45,0.53,0.37,0.52,0.64,0.3,0.36,0.59,0.37,0.2,0.37,0.28,0.4,0.36,0.51,0.45,0.48,0.22,0.36,0.3],\"xaxis\":\"x\",\"y\":[0.07,0.09,0.04,0.06,0.3,0.08,0.17,0.05,0.02,0.09,0.11,0.03,0.29,0.62,0.1,0.12,0.05,0.12,0.05,0.34,0.04,0.08,0.1,0.05,0.02,0.04,0.01,0.08,0.12,0.03,0.05,0.03,0.07,0.03,0.02,0.03,0.08,0.02,0.02,0.06,0.04,0.04,0.03,0.04,0.05,0.03,0.15,0.06,0.07,0.06,0.07,0.09],\"yaxis\":\"y\",\"type\":\"scatter\"},{\"hovertemplate\":\"\\u003cb\\u003e%{hovertext}\\u003c\\u002fb\\u003e\\u003cbr\\u003e\\u003cbr\\u003egroup=ivfHNSW\\u003cbr\\u003eNDCG=%{x}\\u003cbr\\u003emean_time_query_ms=%{y}\\u003cextra\\u003e\\u003c\\u002fextra\\u003e\",\"hovertext\":[\"ivfHNSW_128_16_16_16_64\",\"ivfHNSW_128_16_16_32_64\",\"ivfHNSW_128_16_64_16_32\",\"ivfHNSW_128_16_64_32_32\",\"ivfHNSW_128_16_64_64_64\",\"ivfHNSW_128_32_16_16_64\",\"ivfHNSW_128_32_32_16_16\",\"ivfHNSW_128_32_64_16_16\",\"ivfHNSW_128_32_64_16_64\",\"ivfHNSW_128_32_64_64_64\",\"ivfHNSW_128_64_16_16_64\",\"ivfHNSW_128_64_16_32_64\",\"ivfHNSW_128_64_32_16_32\",\"ivfHNSW_128_64_32_64_64\",\"ivfHNSW_128_64_64_16_16\",\"ivfHNSW_256_16_16_16_32\",\"ivfHNSW_256_16_16_64_64\",\"ivfHNSW_256_16_32_32_64\",\"ivfHNSW_256_16_32_64_64\",\"ivfHNSW_256_32_16_16_16\",\"ivfHNSW_256_32_32_16_32\",\"ivfHNSW_256_32_64_16_32\",\"ivfHNSW_256_32_64_16_64\",\"ivfHNSW_256_32_64_32_64\",\"ivfHNSW_256_64_16_64_64\",\"ivfHNSW_256_64_32_16_64\",\"ivfHNSW_256_64_64_16_16\",\"ivfHNSW_256_64_64_64_64\",\"ivfHNSW_32_16_16_32_64\",\"ivfHNSW_32_16_32_16_64\",\"ivfHNSW_32_16_32_32_64\",\"ivfHNSW_32_16_64_16_64\",\"ivfHNSW_32_32_16_64_64\",\"ivfHNSW_32_32_64_16_64\",\"ivfHNSW_64_16_16_16_32\",\"ivfHNSW_64_16_16_32_32\",\"ivfHNSW_64_16_16_32_64\",\"ivfHNSW_64_16_32_16_32\",\"ivfHNSW_64_16_32_32_32\",\"ivfHNSW_64_16_32_64_64\",\"ivfHNSW_64_32_16_32_32\",\"ivfHNSW_64_32_16_64_64\",\"ivfHNSW_64_32_32_16_16\",\"ivfHNSW_64_32_32_16_32\",\"ivfHNSW_64_32_64_16_16\",\"ivfHNSW_64_64_16_16_16\",\"ivfHNSW_64_64_16_32_32\",\"ivfHNSW_64_64_32_32_64\",\"ivfHNSW_64_64_64_32_64\",\"ivfHNSW_64_64_64_64_64\"],\"legendgroup\":\"ivfHNSW\",\"marker\":{\"color\":\"#B6E880\",\"symbol\":\"circle\"},\"mode\":\"markers\",\"name\":\"ivfHNSW\",\"orientation\":\"v\",\"showlegend\":true,\"x\":[0.91,0.92,0.92,0.92,0.92,0.95,0.95,0.96,0.96,0.96,0.96,0.99,0.99,0.99,0.99,0.89,0.9,0.9,0.9,0.93,0.94,0.94,0.94,0.94,0.97,0.95,0.97,0.97,0.98,0.98,0.98,0.98,1.0,1.0,0.95,0.95,0.95,0.95,0.95,0.95,0.98,0.98,0.98,0.98,0.98,0.99,0.99,1.0,1.0,1.0],\"xaxis\":\"x\",\"y\":[0.53,0.52,0.52,0.51,0.52,1.1,1.08,1.09,1.09,1.09,2.12,2.24,2.2,2.27,2.17,0.27,0.27,0.28,0.27,0.57,0.57,0.56,0.57,0.57,1.17,1.17,1.2,1.2,2.08,2.05,2.07,2.09,4.43,4.43,1.07,1.05,1.05,1.07,1.07,1.07,2.17,2.1,2.13,2.1,2.14,3.93,4.18,4.45,4.43,4.43],\"yaxis\":\"y\",\"type\":\"scatter\"}],                        {\"template\":{\"data\":{\"histogram2dcontour\":[{\"type\":\"histogram2dcontour\",\"colorbar\":{\"outlinewidth\":0,\"ticks\":\"\"},\"colorscale\":[[0.0,\"#0d0887\"],[0.1111111111111111,\"#46039f\"],[0.2222222222222222,\"#7201a8\"],[0.3333333333333333,\"#9c179e\"],[0.4444444444444444,\"#bd3786\"],[0.5555555555555556,\"#d8576b\"],[0.6666666666666666,\"#ed7953\"],[0.7777777777777778,\"#fb9f3a\"],[0.8888888888888888,\"#fdca26\"],[1.0,\"#f0f921\"]]}],\"choropleth\":[{\"type\":\"choropleth\",\"colorbar\":{\"outlinewidth\":0,\"ticks\":\"\"}}],\"histogram2d\":[{\"type\":\"histogram2d\",\"colorbar\":{\"outlinewidth\":0,\"ticks\":\"\"},\"colorscale\":[[0.0,\"#0d0887\"],[0.1111111111111111,\"#46039f\"],[0.2222222222222222,\"#7201a8\"],[0.3333333333333333,\"#9c179e\"],[0.4444444444444444,\"#bd3786\"],[0.5555555555555556,\"#d8576b\"],[0.6666666666666666,\"#ed7953\"],[0.7777777777777778,\"#fb9f3a\"],[0.8888888888888888,\"#fdca26\"],[1.0,\"#f0f921\"]]}],\"heatmap\":[{\"type\":\"heatmap\",\"colorbar\":{\"outlinewidth\":0,\"ticks\":\"\"},\"colorscale\":[[0.0,\"#0d0887\"],[0.1111111111111111,\"#46039f\"],[0.2222222222222222,\"#7201a8\"],[0.3333333333333333,\"#9c179e\"],[0.4444444444444444,\"#bd3786\"],[0.5555555555555556,\"#d8576b\"],[0.6666666666666666,\"#ed7953\"],[0.7777777777777778,\"#fb9f3a\"],[0.8888888888888888,\"#fdca26\"],[1.0,\"#f0f921\"]]}],\"heatmapgl\":[{\"type\":\"heatmapgl\",\"colorbar\":{\"outlinewidth\":0,\"ticks\":\"\"},\"colorscale\":[[0.0,\"#0d0887\"],[0.1111111111111111,\"#46039f\"],[0.2222222222222222,\"#7201a8\"],[0.3333333333333333,\"#9c179e\"],[0.4444444444444444,\"#bd3786\"],[0.5555555555555556,\"#d8576b\"],[0.6666666666666666,\"#ed7953\"],[0.7777777777777778,\"#fb9f3a\"],[0.8888888888888888,\"#fdca26\"],[1.0,\"#f0f921\"]]}],\"contourcarpet\":[{\"type\":\"contourcarpet\",\"colorbar\":{\"outlinewidth\":0,\"ticks\":\"\"}}],\"contour\":[{\"type\":\"contour\",\"colorbar\":{\"outlinewidth\":0,\"ticks\":\"\"},\"colorscale\":[[0.0,\"#0d0887\"],[0.1111111111111111,\"#46039f\"],[0.2222222222222222,\"#7201a8\"],[0.3333333333333333,\"#9c179e\"],[0.4444444444444444,\"#bd3786\"],[0.5555555555555556,\"#d8576b\"],[0.6666666666666666,\"#ed7953\"],[0.7777777777777778,\"#fb9f3a\"],[0.8888888888888888,\"#fdca26\"],[1.0,\"#f0f921\"]]}],\"surface\":[{\"type\":\"surface\",\"colorbar\":{\"outlinewidth\":0,\"ticks\":\"\"},\"colorscale\":[[0.0,\"#0d0887\"],[0.1111111111111111,\"#46039f\"],[0.2222222222222222,\"#7201a8\"],[0.3333333333333333,\"#9c179e\"],[0.4444444444444444,\"#bd3786\"],[0.5555555555555556,\"#d8576b\"],[0.6666666666666666,\"#ed7953\"],[0.7777777777777778,\"#fb9f3a\"],[0.8888888888888888,\"#fdca26\"],[1.0,\"#f0f921\"]]}],\"mesh3d\":[{\"type\":\"mesh3d\",\"colorbar\":{\"outlinewidth\":0,\"ticks\":\"\"}}],\"scatter\":[{\"fillpattern\":{\"fillmode\":\"overlay\",\"size\":10,\"solidity\":0.2},\"type\":\"scatter\"}],\"parcoords\":[{\"type\":\"parcoords\",\"line\":{\"colorbar\":{\"outlinewidth\":0,\"ticks\":\"\"}}}],\"scatterpolargl\":[{\"type\":\"scatterpolargl\",\"marker\":{\"colorbar\":{\"outlinewidth\":0,\"ticks\":\"\"}}}],\"bar\":[{\"error_x\":{\"color\":\"#2a3f5f\"},\"error_y\":{\"color\":\"#2a3f5f\"},\"marker\":{\"line\":{\"color\":\"#E5ECF6\",\"width\":0.5},\"pattern\":{\"fillmode\":\"overlay\",\"size\":10,\"solidity\":0.2}},\"type\":\"bar\"}],\"scattergeo\":[{\"type\":\"scattergeo\",\"marker\":{\"colorbar\":{\"outlinewidth\":0,\"ticks\":\"\"}}}],\"scatterpolar\":[{\"type\":\"scatterpolar\",\"marker\":{\"colorbar\":{\"outlinewidth\":0,\"ticks\":\"\"}}}],\"histogram\":[{\"marker\":{\"pattern\":{\"fillmode\":\"overlay\",\"size\":10,\"solidity\":0.2}},\"type\":\"histogram\"}],\"scattergl\":[{\"type\":\"scattergl\",\"marker\":{\"colorbar\":{\"outlinewidth\":0,\"ticks\":\"\"}}}],\"scatter3d\":[{\"type\":\"scatter3d\",\"line\":{\"colorbar\":{\"outlinewidth\":0,\"ticks\":\"\"}},\"marker\":{\"colorbar\":{\"outlinewidth\":0,\"ticks\":\"\"}}}],\"scattermapbox\":[{\"type\":\"scattermapbox\",\"marker\":{\"colorbar\":{\"outlinewidth\":0,\"ticks\":\"\"}}}],\"scatterternary\":[{\"type\":\"scatterternary\",\"marker\":{\"colorbar\":{\"outlinewidth\":0,\"ticks\":\"\"}}}],\"scattercarpet\":[{\"type\":\"scattercarpet\",\"marker\":{\"colorbar\":{\"outlinewidth\":0,\"ticks\":\"\"}}}],\"carpet\":[{\"aaxis\":{\"endlinecolor\":\"#2a3f5f\",\"gridcolor\":\"white\",\"linecolor\":\"white\",\"minorgridcolor\":\"white\",\"startlinecolor\":\"#2a3f5f\"},\"baxis\":{\"endlinecolor\":\"#2a3f5f\",\"gridcolor\":\"white\",\"linecolor\":\"white\",\"minorgridcolor\":\"white\",\"startlinecolor\":\"#2a3f5f\"},\"type\":\"carpet\"}],\"table\":[{\"cells\":{\"fill\":{\"color\":\"#EBF0F8\"},\"line\":{\"color\":\"white\"}},\"header\":{\"fill\":{\"color\":\"#C8D4E3\"},\"line\":{\"color\":\"white\"}},\"type\":\"table\"}],\"barpolar\":[{\"marker\":{\"line\":{\"color\":\"#E5ECF6\",\"width\":0.5},\"pattern\":{\"fillmode\":\"overlay\",\"size\":10,\"solidity\":0.2}},\"type\":\"barpolar\"}],\"pie\":[{\"automargin\":true,\"type\":\"pie\"}]},\"layout\":{\"autotypenumbers\":\"strict\",\"colorway\":[\"#636efa\",\"#EF553B\",\"#00cc96\",\"#ab63fa\",\"#FFA15A\",\"#19d3f3\",\"#FF6692\",\"#B6E880\",\"#FF97FF\",\"#FECB52\"],\"font\":{\"color\":\"#2a3f5f\"},\"hovermode\":\"closest\",\"hoverlabel\":{\"align\":\"left\"},\"paper_bgcolor\":\"white\",\"plot_bgcolor\":\"#E5ECF6\",\"polar\":{\"bgcolor\":\"#E5ECF6\",\"angularaxis\":{\"gridcolor\":\"white\",\"linecolor\":\"white\",\"ticks\":\"\"},\"radialaxis\":{\"gridcolor\":\"white\",\"linecolor\":\"white\",\"ticks\":\"\"}},\"ternary\":{\"bgcolor\":\"#E5ECF6\",\"aaxis\":{\"gridcolor\":\"white\",\"linecolor\":\"white\",\"ticks\":\"\"},\"baxis\":{\"gridcolor\":\"white\",\"linecolor\":\"white\",\"ticks\":\"\"},\"caxis\":{\"gridcolor\":\"white\",\"linecolor\":\"white\",\"ticks\":\"\"}},\"coloraxis\":{\"colorbar\":{\"outlinewidth\":0,\"ticks\":\"\"}},\"colorscale\":{\"sequential\":[[0.0,\"#0d0887\"],[0.1111111111111111,\"#46039f\"],[0.2222222222222222,\"#7201a8\"],[0.3333333333333333,\"#9c179e\"],[0.4444444444444444,\"#bd3786\"],[0.5555555555555556,\"#d8576b\"],[0.6666666666666666,\"#ed7953\"],[0.7777777777777778,\"#fb9f3a\"],[0.8888888888888888,\"#fdca26\"],[1.0,\"#f0f921\"]],\"sequentialminus\":[[0.0,\"#0d0887\"],[0.1111111111111111,\"#46039f\"],[0.2222222222222222,\"#7201a8\"],[0.3333333333333333,\"#9c179e\"],[0.4444444444444444,\"#bd3786\"],[0.5555555555555556,\"#d8576b\"],[0.6666666666666666,\"#ed7953\"],[0.7777777777777778,\"#fb9f3a\"],[0.8888888888888888,\"#fdca26\"],[1.0,\"#f0f921\"]],\"diverging\":[[0,\"#8e0152\"],[0.1,\"#c51b7d\"],[0.2,\"#de77ae\"],[0.3,\"#f1b6da\"],[0.4,\"#fde0ef\"],[0.5,\"#f7f7f7\"],[0.6,\"#e6f5d0\"],[0.7,\"#b8e186\"],[0.8,\"#7fbc41\"],[0.9,\"#4d9221\"],[1,\"#276419\"]]},\"xaxis\":{\"gridcolor\":\"white\",\"linecolor\":\"white\",\"ticks\":\"\",\"title\":{\"standoff\":15},\"zerolinecolor\":\"white\",\"automargin\":true,\"zerolinewidth\":2},\"yaxis\":{\"gridcolor\":\"white\",\"linecolor\":\"white\",\"ticks\":\"\",\"title\":{\"standoff\":15},\"zerolinecolor\":\"white\",\"automargin\":true,\"zerolinewidth\":2},\"scene\":{\"xaxis\":{\"backgroundcolor\":\"#E5ECF6\",\"gridcolor\":\"white\",\"linecolor\":\"white\",\"showbackground\":true,\"ticks\":\"\",\"zerolinecolor\":\"white\",\"gridwidth\":2},\"yaxis\":{\"backgroundcolor\":\"#E5ECF6\",\"gridcolor\":\"white\",\"linecolor\":\"white\",\"showbackground\":true,\"ticks\":\"\",\"zerolinecolor\":\"white\",\"gridwidth\":2},\"zaxis\":{\"backgroundcolor\":\"#E5ECF6\",\"gridcolor\":\"white\",\"linecolor\":\"white\",\"showbackground\":true,\"ticks\":\"\",\"zerolinecolor\":\"white\",\"gridwidth\":2}},\"shapedefaults\":{\"line\":{\"color\":\"#2a3f5f\"}},\"annotationdefaults\":{\"arrowcolor\":\"#2a3f5f\",\"arrowhead\":0,\"arrowwidth\":1},\"geo\":{\"bgcolor\":\"white\",\"landcolor\":\"#E5ECF6\",\"subunitcolor\":\"white\",\"showland\":true,\"showlakes\":true,\"lakecolor\":\"white\"},\"title\":{\"x\":0.05},\"mapbox\":{\"style\":\"light\"}}},\"xaxis\":{\"anchor\":\"y\",\"domain\":[0.0,1.0],\"title\":{\"text\":\"NDCG\"}},\"yaxis\":{\"anchor\":\"x\",\"domain\":[0.0,1.0],\"title\":{\"text\":\"mean query time\"}},\"legend\":{\"title\":{\"text\":\"group\"},\"tracegroupgap\":0},\"margin\":{\"t\":60}},                        {\"responsive\": true}                    ).then(function(){\n",
       "                            \n",
       "var gd = document.getElementById('3f8f0b32-f7ee-48c0-b8ee-b0f362728f06');\n",
       "var x = new MutationObserver(function (mutations, observer) {{\n",
       "        var display = window.getComputedStyle(gd).display;\n",
       "        if (!display || display === 'none') {{\n",
       "            console.log([gd, 'removed!']);\n",
       "            Plotly.purge(gd);\n",
       "            observer.disconnect();\n",
       "        }}\n",
       "}});\n",
       "\n",
       "// Listen for the removal of the full notebook cells\n",
       "var notebookContainer = gd.closest('#notebook-container');\n",
       "if (notebookContainer) {{\n",
       "    x.observe(notebookContainer, {childList: true});\n",
       "}}\n",
       "\n",
       "// Listen for the clearing of the current output cell\n",
       "var outputEl = gd.closest('.output');\n",
       "if (outputEl) {{\n",
       "    x.observe(outputEl, {childList: true});\n",
       "}}\n",
       "\n",
       "                        })                };                });            </script>        </div>"
      ]
     },
     "metadata": {},
     "output_type": "display_data"
    }
   ],
   "source": [
    "fig = px.scatter(results_df,  # загружаем данные\n",
    "                 x='NDCG',  # указываем столбец с данными для оси X\n",
    "                 y='mean_time_query_ms',  # указываем столбец с данными для оси Y\n",
    "                 color='group',  # обозначаем категорию для разделения цветом\n",
    "                 hover_name='index',)\n",
    "# оформляем график\n",
    "fig.update_layout(xaxis_title='NDCG',\n",
    "                  yaxis_title='mean query time')\n",
    "fig.show()  # выводим график"
   ]
  },
  {
   "cell_type": "code",
   "execution_count": 53,
   "metadata": {},
   "outputs": [
    {
     "data": {
      "application/vnd.plotly.v1+json": {
       "config": {
        "plotlyServerURL": "https://plot.ly"
       },
       "data": [
        {
         "hovertemplate": "<b>%{hovertext}</b><br><br>group=flat<br>size_mb=%{x}<br>mean_time_query_ms=%{y}<extra></extra>",
         "hovertext": [
          "flat"
         ],
         "legendgroup": "flat",
         "marker": {
          "color": "#636efa",
          "symbol": "circle"
         },
         "mode": "markers",
         "name": "flat",
         "orientation": "v",
         "showlegend": true,
         "type": "scatter",
         "x": [
          433.01
         ],
         "xaxis": "x",
         "y": [
          5.24
         ],
         "yaxis": "y"
        },
        {
         "hovertemplate": "<b>%{hovertext}</b><br><br>group=hnsw<br>size_mb=%{x}<br>mean_time_query_ms=%{y}<extra></extra>",
         "hovertext": [
          "hnsw_16_16_16",
          "hnsw_16_16_32",
          "hnsw_16_16_64",
          "hnsw_16_32_32",
          "hnsw_16_32_64",
          "hnsw_16_64_64",
          "hnsw_32_16_16",
          "hnsw_32_16_32",
          "hnsw_32_16_64",
          "hnsw_32_32_32",
          "hnsw_32_32_64",
          "hnsw_32_64_64",
          "hnsw_64_16_16",
          "hnsw_64_16_32",
          "hnsw_64_16_64",
          "hnsw_64_32_32",
          "hnsw_64_32_64",
          "hnsw_64_64_64"
         ],
         "legendgroup": "hnsw",
         "marker": {
          "color": "#EF553B",
          "symbol": "circle"
         },
         "mode": "markers",
         "name": "hnsw",
         "orientation": "v",
         "showlegend": true,
         "type": "scatter",
         "x": [
          448.27,
          448.27,
          448.27,
          448.27,
          448.27,
          448.27,
          461.79,
          461.79,
          461.79,
          461.79,
          461.79,
          461.79,
          488.84,
          488.84,
          488.84,
          488.84,
          488.84,
          488.84
         ],
         "xaxis": "x",
         "y": [
          0.04,
          0.04,
          0.06,
          0.08,
          0.09,
          0.16,
          0.06,
          0.08,
          0.07,
          0.1,
          0.11,
          0.2,
          0.1,
          0.12,
          0.16,
          0.18,
          0.25,
          0.43
         ],
         "yaxis": "y"
        },
        {
         "hovertemplate": "<b>%{hovertext}</b><br><br>group=hnsw_sq<br>size_mb=%{x}<br>mean_time_query_ms=%{y}<extra></extra>",
         "hovertext": [
          "hnsw_sq_16_16_16_0",
          "hnsw_sq_16_16_16_1",
          "hnsw_sq_16_16_16_2",
          "hnsw_sq_16_16_16_3",
          "hnsw_sq_16_16_32_0",
          "hnsw_sq_16_16_32_1",
          "hnsw_sq_16_16_32_2",
          "hnsw_sq_16_16_32_3",
          "hnsw_sq_16_16_64_0",
          "hnsw_sq_16_16_64_1",
          "hnsw_sq_16_16_64_2",
          "hnsw_sq_16_16_64_3",
          "hnsw_sq_16_32_32_0",
          "hnsw_sq_16_32_32_1",
          "hnsw_sq_16_32_32_2",
          "hnsw_sq_16_32_32_3",
          "hnsw_sq_16_32_64_0",
          "hnsw_sq_16_32_64_1",
          "hnsw_sq_16_32_64_2",
          "hnsw_sq_16_32_64_3",
          "hnsw_sq_16_64_64_0",
          "hnsw_sq_16_64_64_1",
          "hnsw_sq_16_64_64_2",
          "hnsw_sq_16_64_64_3",
          "hnsw_sq_32_16_16_0",
          "hnsw_sq_32_16_16_1",
          "hnsw_sq_32_16_16_2",
          "hnsw_sq_32_16_16_3",
          "hnsw_sq_32_16_32_0",
          "hnsw_sq_32_16_32_1",
          "hnsw_sq_32_16_32_2",
          "hnsw_sq_32_16_32_3",
          "hnsw_sq_32_16_64_0",
          "hnsw_sq_32_16_64_1",
          "hnsw_sq_32_16_64_2",
          "hnsw_sq_32_16_64_3",
          "hnsw_sq_32_32_32_0",
          "hnsw_sq_32_32_32_1",
          "hnsw_sq_32_32_32_2",
          "hnsw_sq_32_32_32_3",
          "hnsw_sq_32_32_64_0",
          "hnsw_sq_32_32_64_1",
          "hnsw_sq_32_32_64_2",
          "hnsw_sq_32_32_64_3",
          "hnsw_sq_32_64_64_0",
          "hnsw_sq_32_64_64_1",
          "hnsw_sq_32_64_64_2",
          "hnsw_sq_32_64_64_3",
          "hnsw_sq_64_16_16_0",
          "hnsw_sq_64_16_16_1",
          "hnsw_sq_64_16_16_2",
          "hnsw_sq_64_16_16_3",
          "hnsw_sq_64_16_32_0",
          "hnsw_sq_64_16_32_1",
          "hnsw_sq_64_16_32_2",
          "hnsw_sq_64_16_32_3",
          "hnsw_sq_64_16_64_0",
          "hnsw_sq_64_16_64_1",
          "hnsw_sq_64_16_64_2",
          "hnsw_sq_64_16_64_3",
          "hnsw_sq_64_32_32_0",
          "hnsw_sq_64_32_32_1",
          "hnsw_sq_64_32_32_2",
          "hnsw_sq_64_32_32_3",
          "hnsw_sq_64_32_64_0",
          "hnsw_sq_64_32_64_1",
          "hnsw_sq_64_32_64_2",
          "hnsw_sq_64_32_64_3",
          "hnsw_sq_64_64_64_0",
          "hnsw_sq_64_64_64_1",
          "hnsw_sq_64_64_64_2",
          "hnsw_sq_64_64_64_3"
         ],
         "legendgroup": "hnsw_sq",
         "marker": {
          "color": "#00cc96",
          "symbol": "circle"
         },
         "mode": "markers",
         "name": "hnsw_sq",
         "orientation": "v",
         "showlegend": true,
         "type": "scatter",
         "x": [
          123.52,
          69.39,
          123.51,
          69.38,
          123.52,
          69.39,
          123.51,
          69.38,
          123.52,
          69.39,
          123.51,
          69.38,
          123.52,
          69.39,
          123.51,
          69.38,
          123.52,
          69.39,
          123.51,
          69.38,
          123.52,
          69.39,
          123.51,
          69.38,
          137.04,
          82.91,
          137.03,
          82.9,
          137.04,
          82.91,
          137.03,
          82.9,
          137.04,
          82.91,
          137.03,
          82.9,
          137.04,
          82.91,
          137.03,
          82.9,
          137.04,
          82.91,
          137.03,
          82.9,
          137.04,
          82.91,
          137.03,
          82.9,
          164.09,
          109.96,
          164.08,
          109.95,
          164.09,
          109.96,
          164.08,
          109.95,
          164.09,
          109.96,
          164.08,
          109.95,
          164.09,
          109.96,
          164.08,
          109.95,
          164.09,
          109.96,
          164.08,
          109.95,
          164.09,
          109.96,
          164.08,
          109.95
         ],
         "xaxis": "x",
         "y": [
          0.01,
          0.02,
          0.01,
          0.02,
          0.02,
          0.01,
          0.01,
          0.02,
          0.02,
          0.02,
          0.01,
          0.02,
          0.02,
          0.02,
          0.02,
          0.02,
          0.03,
          0.03,
          0.12,
          0.03,
          0.22,
          0.23,
          0.21,
          0.24,
          0.02,
          0.02,
          0.02,
          0.03,
          0.07,
          0.09,
          0.05,
          0.07,
          0.06,
          0.09,
          0.06,
          0.08,
          0.14,
          0.11,
          0.09,
          0.14,
          0.03,
          0.21,
          0.02,
          0.03,
          0.05,
          0.05,
          0.05,
          0.06,
          0.02,
          0.03,
          0.02,
          0.02,
          0.03,
          0.03,
          0.03,
          0.03,
          0.04,
          0.04,
          0.04,
          0.04,
          0.05,
          0.04,
          0.05,
          0.03,
          0.08,
          0.05,
          0.07,
          0.05,
          0.12,
          0.08,
          0.12,
          0.07
         ],
         "yaxis": "y"
        },
        {
         "hovertemplate": "<b>%{hovertext}</b><br><br>group=pq<br>size_mb=%{x}<br>mean_time_query_ms=%{y}<extra></extra>",
         "hovertext": [
          "pq_4_6",
          "pq_4_8",
          "pq_4_10",
          "pq_8_6",
          "pq_8_8",
          "pq_8_10",
          "pq_16_6",
          "pq_16_8",
          "pq_16_10",
          "pq_32_6",
          "pq_32_8",
          "pq_32_10"
         ],
         "legendgroup": "pq",
         "marker": {
          "color": "#ab63fa",
          "symbol": "circle"
         },
         "mode": "markers",
         "name": "pq",
         "orientation": "v",
         "showlegend": true,
         "type": "scatter",
         "x": [
          0.56,
          1.42,
          4.52,
          0.88,
          1.84,
          5.05,
          1.51,
          2.69,
          6.11,
          2.78,
          4.38,
          8.22
         ],
         "xaxis": "x",
         "y": [
          0.22,
          0.06,
          0.41,
          0.4,
          0.1,
          0.61,
          0.72,
          0.78,
          2.88,
          3.81,
          1.28,
          4.04
         ],
         "yaxis": "y"
        },
        {
         "hovertemplate": "<b>%{hovertext}</b><br><br>group=hnsw_pq<br>size_mb=%{x}<br>mean_time_query_ms=%{y}<extra></extra>",
         "hovertext": [
          "hnsw_pq_16_6_16_16_32",
          "hnsw_pq_16_6_16_16_64",
          "hnsw_pq_16_8_16_64_64",
          "hnsw_pq_16_8_32_16_16",
          "hnsw_pq_16_9_16_16_32",
          "hnsw_pq_16_9_64_16_32",
          "hnsw_pq_16_9_64_16_64",
          "hnsw_pq_32_6_64_32_64",
          "hnsw_pq_32_8_16_16_16",
          "hnsw_pq_32_8_16_32_32",
          "hnsw_pq_32_8_32_16_32",
          "hnsw_pq_32_8_32_32_32",
          "hnsw_pq_32_8_64_16_16",
          "hnsw_pq_32_9_16_16_64",
          "hnsw_pq_32_9_32_32_32",
          "hnsw_pq_32_9_32_32_64",
          "hnsw_pq_32_9_64_16_32",
          "hnsw_pq_32_9_64_32_32",
          "hnsw_pq_32_9_64_32_64",
          "hnsw_pq_4_6_16_16_16",
          "hnsw_pq_4_6_32_16_16",
          "hnsw_pq_4_6_32_16_32",
          "hnsw_pq_4_6_32_32_64",
          "hnsw_pq_4_6_32_64_64",
          "hnsw_pq_4_6_64_16_16",
          "hnsw_pq_4_8_16_16_16",
          "hnsw_pq_4_8_32_16_32",
          "hnsw_pq_4_8_64_16_16",
          "hnsw_pq_4_8_64_32_32",
          "hnsw_pq_4_8_64_32_64",
          "hnsw_pq_4_8_64_64_64",
          "hnsw_pq_4_9_16_16_64",
          "hnsw_pq_4_9_16_32_64",
          "hnsw_pq_4_9_64_16_32",
          "hnsw_pq_4_9_64_32_64",
          "hnsw_pq_8_6_16_16_16",
          "hnsw_pq_8_6_16_16_64",
          "hnsw_pq_8_6_64_64_64",
          "hnsw_pq_8_8_16_16_64",
          "hnsw_pq_8_8_16_32_32",
          "hnsw_pq_8_8_32_16_16",
          "hnsw_pq_8_8_32_16_32",
          "hnsw_pq_8_8_32_32_32",
          "hnsw_pq_8_8_64_16_16",
          "hnsw_pq_8_8_64_32_64",
          "hnsw_pq_8_9_16_16_64",
          "hnsw_pq_8_9_16_64_64",
          "hnsw_pq_8_9_32_16_16",
          "hnsw_pq_8_9_64_16_64",
          "hnsw_pq_8_9_64_32_32"
         ],
         "legendgroup": "hnsw_pq",
         "marker": {
          "color": "#FFA15A",
          "symbol": "circle"
         },
         "mode": "markers",
         "name": "hnsw_pq",
         "orientation": "v",
         "showlegend": true,
         "type": "scatter",
         "x": [
          3.22,
          3.22,
          4.05,
          6.49,
          5.09,
          12.41,
          12.41,
          10.78,
          4.36,
          4.36,
          6.8,
          6.8,
          11.68,
          5.43,
          7.87,
          7.87,
          12.76,
          12.76,
          12.76,
          3.05,
          5.49,
          5.49,
          5.49,
          5.49,
          10.38,
          3.82,
          6.26,
          11.15,
          11.15,
          11.15,
          11.15,
          4.84,
          4.84,
          12.16,
          12.16,
          3.11,
          3.11,
          10.43,
          3.9,
          3.9,
          6.34,
          6.34,
          6.34,
          11.22,
          11.22,
          4.92,
          4.92,
          7.36,
          12.24,
          12.24
         ],
         "xaxis": "x",
         "y": [
          0,
          0,
          0.01,
          0,
          0.01,
          0.02,
          0.01,
          0.01,
          0.01,
          0.01,
          0.01,
          0.01,
          0.01,
          0.02,
          0.03,
          0.01,
          0.02,
          0.04,
          0.02,
          0,
          0,
          0,
          0,
          0,
          0,
          0,
          0,
          0,
          0,
          0,
          0.01,
          0.01,
          0.01,
          0.01,
          0,
          0,
          0,
          0,
          0,
          0,
          0,
          0,
          0.01,
          0,
          0.01,
          0.01,
          0.01,
          0.01,
          0.01,
          0.02
         ],
         "yaxis": "y"
        },
        {
         "hovertemplate": "<b>%{hovertext}</b><br><br>group=ivf<br>size_mb=%{x}<br>mean_time_query_ms=%{y}<extra></extra>",
         "hovertext": [
          "ivf_IndexFlatIP_32_16",
          "ivf_IndexFlatIP_32_32",
          "ivf_IndexFlatIP_64_16",
          "ivf_IndexFlatIP_64_32",
          "ivf_IndexFlatIP_64_64",
          "ivf_IndexFlatIP_128_16",
          "ivf_IndexFlatIP_128_32",
          "ivf_IndexFlatIP_128_64",
          "ivf_IndexFlatIP_256_16",
          "ivf_IndexFlatIP_256_32",
          "ivf_IndexFlatIP_256_64",
          "ivf_IndexFlatL2_32_16",
          "ivf_IndexFlatL2_32_32",
          "ivf_IndexFlatL2_64_16",
          "ivf_IndexFlatL2_64_32",
          "ivf_IndexFlatL2_64_64",
          "ivf_IndexFlatL2_128_16",
          "ivf_IndexFlatL2_128_32",
          "ivf_IndexFlatL2_128_64",
          "ivf_IndexFlatL2_256_16",
          "ivf_IndexFlatL2_256_32",
          "ivf_IndexFlatL2_256_64"
         ],
         "legendgroup": "ivf",
         "marker": {
          "color": "#19d3f3",
          "symbol": "circle"
         },
         "mode": "markers",
         "name": "ivf",
         "orientation": "v",
         "showlegend": true,
         "type": "scatter",
         "x": [
          78.4,
          78.4,
          78.52,
          78.52,
          78.52,
          78.77,
          78.77,
          78.77,
          79.27,
          79.27,
          79.27,
          78.4,
          78.4,
          78.52,
          78.52,
          78.52,
          78.77,
          78.77,
          78.77,
          79.27,
          79.27,
          79.27
         ],
         "xaxis": "x",
         "y": [
          1.24,
          1.03,
          0.28,
          0.56,
          1.13,
          0.13,
          0.34,
          0.69,
          0.06,
          0.14,
          0.33,
          0.55,
          1.05,
          0.24,
          0.55,
          1.12,
          0.13,
          0.29,
          0.69,
          0.06,
          0.13,
          0.31
         ],
         "yaxis": "y"
        },
        {
         "hovertemplate": "<b>%{hovertext}</b><br><br>group=ivf_pq<br>size_mb=%{x}<br>mean_time_query_ms=%{y}<extra></extra>",
         "hovertext": [
          "ivf_pq_IndexFlatIP_128_16_32_6",
          "ivf_pq_IndexFlatIP_128_16_4_9",
          "ivf_pq_IndexFlatIP_128_16_8_6",
          "ivf_pq_IndexFlatIP_128_32_8_6",
          "ivf_pq_IndexFlatIP_128_64_32_8",
          "ivf_pq_IndexFlatIP_128_64_8_6",
          "ivf_pq_IndexFlatIP_128_64_8_8",
          "ivf_pq_IndexFlatIP_256_16_32_6",
          "ivf_pq_IndexFlatIP_256_16_4_6",
          "ivf_pq_IndexFlatIP_256_16_8_9",
          "ivf_pq_IndexFlatIP_256_32_16_8",
          "ivf_pq_IndexFlatIP_256_32_8_6",
          "ivf_pq_IndexFlatIP_256_64_32_8",
          "ivf_pq_IndexFlatIP_256_64_32_9",
          "ivf_pq_IndexFlatIP_32_16_16_8",
          "ivf_pq_IndexFlatIP_32_16_32_8",
          "ivf_pq_IndexFlatIP_32_16_8_8",
          "ivf_pq_IndexFlatIP_32_32_16_8",
          "ivf_pq_IndexFlatIP_64_16_16_6",
          "ivf_pq_IndexFlatIP_64_16_32_9",
          "ivf_pq_IndexFlatIP_64_16_4_6",
          "ivf_pq_IndexFlatIP_64_16_4_8",
          "ivf_pq_IndexFlatIP_64_16_4_9",
          "ivf_pq_IndexFlatIP_64_32_8_6",
          "ivf_pq_IndexFlatL2_128_16_16_8",
          "ivf_pq_IndexFlatL2_128_16_16_9",
          "ivf_pq_IndexFlatL2_128_16_4_6",
          "ivf_pq_IndexFlatL2_128_32_16_9",
          "ivf_pq_IndexFlatL2_128_32_32_9",
          "ivf_pq_IndexFlatL2_128_32_4_9",
          "ivf_pq_IndexFlatL2_128_64_16_8",
          "ivf_pq_IndexFlatL2_128_64_4_8",
          "ivf_pq_IndexFlatL2_128_64_8_9",
          "ivf_pq_IndexFlatL2_256_16_32_6",
          "ivf_pq_IndexFlatL2_256_16_4_9",
          "ivf_pq_IndexFlatL2_256_32_16_8",
          "ivf_pq_IndexFlatL2_256_32_32_9",
          "ivf_pq_IndexFlatL2_256_32_4_6",
          "ivf_pq_IndexFlatL2_256_32_4_8",
          "ivf_pq_IndexFlatL2_256_64_32_8",
          "ivf_pq_IndexFlatL2_256_64_8_6",
          "ivf_pq_IndexFlatL2_32_16_4_6",
          "ivf_pq_IndexFlatL2_32_16_8_8",
          "ivf_pq_IndexFlatL2_32_32_4_8",
          "ivf_pq_IndexFlatL2_64_16_16_6",
          "ivf_pq_IndexFlatL2_64_16_4_9",
          "ivf_pq_IndexFlatL2_64_32_32_6",
          "ivf_pq_IndexFlatL2_64_32_8_9",
          "ivf_pq_IndexFlatL2_64_64_16_8",
          "ivf_pq_IndexFlatL2_64_64_4_6",
          "ivf_pq_IndexFlatL2_64_64_4_9",
          "ivf_pq_IndexFlatL2_64_64_8_6"
         ],
         "legendgroup": "ivf_pq",
         "marker": {
          "color": "#FF6692",
          "symbol": "circle"
         },
         "mode": "markers",
         "name": "ivf_pq",
         "orientation": "v",
         "showlegend": true,
         "type": "scatter",
         "x": [
          1.36,
          2.74,
          1.01,
          1.01,
          2.26,
          1.01,
          1.8,
          1.86,
          1.46,
          3.32,
          2.45,
          1.51,
          2.76,
          3.84,
          1.58,
          1.88,
          1.43,
          1.58,
          0.88,
          3.08,
          0.71,
          1.47,
          2.49,
          0.76,
          1.95,
          2.99,
          0.96,
          2.99,
          3.34,
          2.74,
          1.95,
          1.73,
          2.82,
          1.86,
          3.25,
          2.45,
          3.84,
          1.46,
          2.23,
          2.76,
          1.51,
          0.58,
          1.43,
          1.35,
          0.88,
          2.49,
          1.11,
          2.57,
          1.7,
          0.71,
          2.49,
          0.76
         ],
         "xaxis": "x",
         "y": [
          0.07,
          0.09,
          0.04,
          0.06,
          0.3,
          0.08,
          0.17,
          0.05,
          0.02,
          0.09,
          0.11,
          0.03,
          0.29,
          0.62,
          0.1,
          0.12,
          0.05,
          0.12,
          0.05,
          0.34,
          0.04,
          0.08,
          0.1,
          0.05,
          0.02,
          0.04,
          0.01,
          0.08,
          0.12,
          0.03,
          0.05,
          0.03,
          0.07,
          0.03,
          0.02,
          0.03,
          0.08,
          0.02,
          0.02,
          0.06,
          0.04,
          0.04,
          0.03,
          0.04,
          0.05,
          0.03,
          0.15,
          0.06,
          0.07,
          0.06,
          0.07,
          0.09
         ],
         "yaxis": "y"
        },
        {
         "hovertemplate": "<b>%{hovertext}</b><br><br>group=ivfHNSW<br>size_mb=%{x}<br>mean_time_query_ms=%{y}<extra></extra>",
         "hovertext": [
          "ivfHNSW_128_16_16_16_64",
          "ivfHNSW_128_16_16_32_64",
          "ivfHNSW_128_16_64_16_32",
          "ivfHNSW_128_16_64_32_32",
          "ivfHNSW_128_16_64_64_64",
          "ivfHNSW_128_32_16_16_64",
          "ivfHNSW_128_32_32_16_16",
          "ivfHNSW_128_32_64_16_16",
          "ivfHNSW_128_32_64_16_64",
          "ivfHNSW_128_32_64_64_64",
          "ivfHNSW_128_64_16_16_64",
          "ivfHNSW_128_64_16_32_64",
          "ivfHNSW_128_64_32_16_32",
          "ivfHNSW_128_64_32_64_64",
          "ivfHNSW_128_64_64_16_16",
          "ivfHNSW_256_16_16_16_32",
          "ivfHNSW_256_16_16_64_64",
          "ivfHNSW_256_16_32_32_64",
          "ivfHNSW_256_16_32_64_64",
          "ivfHNSW_256_32_16_16_16",
          "ivfHNSW_256_32_32_16_32",
          "ivfHNSW_256_32_64_16_32",
          "ivfHNSW_256_32_64_16_64",
          "ivfHNSW_256_32_64_32_64",
          "ivfHNSW_256_64_16_64_64",
          "ivfHNSW_256_64_32_16_64",
          "ivfHNSW_256_64_64_16_16",
          "ivfHNSW_256_64_64_64_64",
          "ivfHNSW_32_16_16_32_64",
          "ivfHNSW_32_16_32_16_64",
          "ivfHNSW_32_16_32_32_64",
          "ivfHNSW_32_16_64_16_64",
          "ivfHNSW_32_32_16_64_64",
          "ivfHNSW_32_32_64_16_64",
          "ivfHNSW_64_16_16_16_32",
          "ivfHNSW_64_16_16_32_32",
          "ivfHNSW_64_16_16_32_64",
          "ivfHNSW_64_16_32_16_32",
          "ivfHNSW_64_16_32_32_32",
          "ivfHNSW_64_16_32_64_64",
          "ivfHNSW_64_32_16_32_32",
          "ivfHNSW_64_32_16_64_64",
          "ivfHNSW_64_32_32_16_16",
          "ivfHNSW_64_32_32_16_32",
          "ivfHNSW_64_32_64_16_16",
          "ivfHNSW_64_64_16_16_16",
          "ivfHNSW_64_64_16_32_32",
          "ivfHNSW_64_64_32_32_64",
          "ivfHNSW_64_64_64_32_64",
          "ivfHNSW_64_64_64_64_64"
         ],
         "legendgroup": "ivfHNSW",
         "marker": {
          "color": "#B6E880",
          "symbol": "circle"
         },
         "mode": "markers",
         "name": "ivfHNSW",
         "orientation": "v",
         "showlegend": true,
         "type": "scatter",
         "x": [
          78.79,
          78.79,
          78.84,
          78.84,
          78.84,
          78.79,
          78.81,
          78.84,
          78.84,
          78.84,
          78.79,
          78.79,
          78.81,
          78.81,
          78.84,
          79.31,
          79.31,
          79.34,
          79.34,
          79.31,
          79.34,
          79.4,
          79.4,
          79.4,
          79.31,
          79.34,
          79.4,
          79.4,
          78.4,
          78.41,
          78.41,
          78.41,
          78.4,
          78.41,
          78.53,
          78.53,
          78.53,
          78.54,
          78.54,
          78.54,
          78.53,
          78.53,
          78.54,
          78.54,
          78.56,
          78.53,
          78.53,
          78.54,
          78.56,
          78.56
         ],
         "xaxis": "x",
         "y": [
          0.53,
          0.52,
          0.52,
          0.51,
          0.52,
          1.1,
          1.08,
          1.09,
          1.09,
          1.09,
          2.12,
          2.24,
          2.2,
          2.27,
          2.17,
          0.27,
          0.27,
          0.28,
          0.27,
          0.57,
          0.57,
          0.56,
          0.57,
          0.57,
          1.17,
          1.17,
          1.2,
          1.2,
          2.08,
          2.05,
          2.07,
          2.09,
          4.43,
          4.43,
          1.07,
          1.05,
          1.05,
          1.07,
          1.07,
          1.07,
          2.17,
          2.1,
          2.13,
          2.1,
          2.14,
          3.93,
          4.18,
          4.45,
          4.43,
          4.43
         ],
         "yaxis": "y"
        }
       ],
       "layout": {
        "legend": {
         "title": {
          "text": "group"
         },
         "tracegroupgap": 0
        },
        "margin": {
         "t": 60
        },
        "template": {
         "data": {
          "bar": [
           {
            "error_x": {
             "color": "#2a3f5f"
            },
            "error_y": {
             "color": "#2a3f5f"
            },
            "marker": {
             "line": {
              "color": "#E5ECF6",
              "width": 0.5
             },
             "pattern": {
              "fillmode": "overlay",
              "size": 10,
              "solidity": 0.2
             }
            },
            "type": "bar"
           }
          ],
          "barpolar": [
           {
            "marker": {
             "line": {
              "color": "#E5ECF6",
              "width": 0.5
             },
             "pattern": {
              "fillmode": "overlay",
              "size": 10,
              "solidity": 0.2
             }
            },
            "type": "barpolar"
           }
          ],
          "carpet": [
           {
            "aaxis": {
             "endlinecolor": "#2a3f5f",
             "gridcolor": "white",
             "linecolor": "white",
             "minorgridcolor": "white",
             "startlinecolor": "#2a3f5f"
            },
            "baxis": {
             "endlinecolor": "#2a3f5f",
             "gridcolor": "white",
             "linecolor": "white",
             "minorgridcolor": "white",
             "startlinecolor": "#2a3f5f"
            },
            "type": "carpet"
           }
          ],
          "choropleth": [
           {
            "colorbar": {
             "outlinewidth": 0,
             "ticks": ""
            },
            "type": "choropleth"
           }
          ],
          "contour": [
           {
            "colorbar": {
             "outlinewidth": 0,
             "ticks": ""
            },
            "colorscale": [
             [
              0,
              "#0d0887"
             ],
             [
              0.1111111111111111,
              "#46039f"
             ],
             [
              0.2222222222222222,
              "#7201a8"
             ],
             [
              0.3333333333333333,
              "#9c179e"
             ],
             [
              0.4444444444444444,
              "#bd3786"
             ],
             [
              0.5555555555555556,
              "#d8576b"
             ],
             [
              0.6666666666666666,
              "#ed7953"
             ],
             [
              0.7777777777777778,
              "#fb9f3a"
             ],
             [
              0.8888888888888888,
              "#fdca26"
             ],
             [
              1,
              "#f0f921"
             ]
            ],
            "type": "contour"
           }
          ],
          "contourcarpet": [
           {
            "colorbar": {
             "outlinewidth": 0,
             "ticks": ""
            },
            "type": "contourcarpet"
           }
          ],
          "heatmap": [
           {
            "colorbar": {
             "outlinewidth": 0,
             "ticks": ""
            },
            "colorscale": [
             [
              0,
              "#0d0887"
             ],
             [
              0.1111111111111111,
              "#46039f"
             ],
             [
              0.2222222222222222,
              "#7201a8"
             ],
             [
              0.3333333333333333,
              "#9c179e"
             ],
             [
              0.4444444444444444,
              "#bd3786"
             ],
             [
              0.5555555555555556,
              "#d8576b"
             ],
             [
              0.6666666666666666,
              "#ed7953"
             ],
             [
              0.7777777777777778,
              "#fb9f3a"
             ],
             [
              0.8888888888888888,
              "#fdca26"
             ],
             [
              1,
              "#f0f921"
             ]
            ],
            "type": "heatmap"
           }
          ],
          "heatmapgl": [
           {
            "colorbar": {
             "outlinewidth": 0,
             "ticks": ""
            },
            "colorscale": [
             [
              0,
              "#0d0887"
             ],
             [
              0.1111111111111111,
              "#46039f"
             ],
             [
              0.2222222222222222,
              "#7201a8"
             ],
             [
              0.3333333333333333,
              "#9c179e"
             ],
             [
              0.4444444444444444,
              "#bd3786"
             ],
             [
              0.5555555555555556,
              "#d8576b"
             ],
             [
              0.6666666666666666,
              "#ed7953"
             ],
             [
              0.7777777777777778,
              "#fb9f3a"
             ],
             [
              0.8888888888888888,
              "#fdca26"
             ],
             [
              1,
              "#f0f921"
             ]
            ],
            "type": "heatmapgl"
           }
          ],
          "histogram": [
           {
            "marker": {
             "pattern": {
              "fillmode": "overlay",
              "size": 10,
              "solidity": 0.2
             }
            },
            "type": "histogram"
           }
          ],
          "histogram2d": [
           {
            "colorbar": {
             "outlinewidth": 0,
             "ticks": ""
            },
            "colorscale": [
             [
              0,
              "#0d0887"
             ],
             [
              0.1111111111111111,
              "#46039f"
             ],
             [
              0.2222222222222222,
              "#7201a8"
             ],
             [
              0.3333333333333333,
              "#9c179e"
             ],
             [
              0.4444444444444444,
              "#bd3786"
             ],
             [
              0.5555555555555556,
              "#d8576b"
             ],
             [
              0.6666666666666666,
              "#ed7953"
             ],
             [
              0.7777777777777778,
              "#fb9f3a"
             ],
             [
              0.8888888888888888,
              "#fdca26"
             ],
             [
              1,
              "#f0f921"
             ]
            ],
            "type": "histogram2d"
           }
          ],
          "histogram2dcontour": [
           {
            "colorbar": {
             "outlinewidth": 0,
             "ticks": ""
            },
            "colorscale": [
             [
              0,
              "#0d0887"
             ],
             [
              0.1111111111111111,
              "#46039f"
             ],
             [
              0.2222222222222222,
              "#7201a8"
             ],
             [
              0.3333333333333333,
              "#9c179e"
             ],
             [
              0.4444444444444444,
              "#bd3786"
             ],
             [
              0.5555555555555556,
              "#d8576b"
             ],
             [
              0.6666666666666666,
              "#ed7953"
             ],
             [
              0.7777777777777778,
              "#fb9f3a"
             ],
             [
              0.8888888888888888,
              "#fdca26"
             ],
             [
              1,
              "#f0f921"
             ]
            ],
            "type": "histogram2dcontour"
           }
          ],
          "mesh3d": [
           {
            "colorbar": {
             "outlinewidth": 0,
             "ticks": ""
            },
            "type": "mesh3d"
           }
          ],
          "parcoords": [
           {
            "line": {
             "colorbar": {
              "outlinewidth": 0,
              "ticks": ""
             }
            },
            "type": "parcoords"
           }
          ],
          "pie": [
           {
            "automargin": true,
            "type": "pie"
           }
          ],
          "scatter": [
           {
            "fillpattern": {
             "fillmode": "overlay",
             "size": 10,
             "solidity": 0.2
            },
            "type": "scatter"
           }
          ],
          "scatter3d": [
           {
            "line": {
             "colorbar": {
              "outlinewidth": 0,
              "ticks": ""
             }
            },
            "marker": {
             "colorbar": {
              "outlinewidth": 0,
              "ticks": ""
             }
            },
            "type": "scatter3d"
           }
          ],
          "scattercarpet": [
           {
            "marker": {
             "colorbar": {
              "outlinewidth": 0,
              "ticks": ""
             }
            },
            "type": "scattercarpet"
           }
          ],
          "scattergeo": [
           {
            "marker": {
             "colorbar": {
              "outlinewidth": 0,
              "ticks": ""
             }
            },
            "type": "scattergeo"
           }
          ],
          "scattergl": [
           {
            "marker": {
             "colorbar": {
              "outlinewidth": 0,
              "ticks": ""
             }
            },
            "type": "scattergl"
           }
          ],
          "scattermapbox": [
           {
            "marker": {
             "colorbar": {
              "outlinewidth": 0,
              "ticks": ""
             }
            },
            "type": "scattermapbox"
           }
          ],
          "scatterpolar": [
           {
            "marker": {
             "colorbar": {
              "outlinewidth": 0,
              "ticks": ""
             }
            },
            "type": "scatterpolar"
           }
          ],
          "scatterpolargl": [
           {
            "marker": {
             "colorbar": {
              "outlinewidth": 0,
              "ticks": ""
             }
            },
            "type": "scatterpolargl"
           }
          ],
          "scatterternary": [
           {
            "marker": {
             "colorbar": {
              "outlinewidth": 0,
              "ticks": ""
             }
            },
            "type": "scatterternary"
           }
          ],
          "surface": [
           {
            "colorbar": {
             "outlinewidth": 0,
             "ticks": ""
            },
            "colorscale": [
             [
              0,
              "#0d0887"
             ],
             [
              0.1111111111111111,
              "#46039f"
             ],
             [
              0.2222222222222222,
              "#7201a8"
             ],
             [
              0.3333333333333333,
              "#9c179e"
             ],
             [
              0.4444444444444444,
              "#bd3786"
             ],
             [
              0.5555555555555556,
              "#d8576b"
             ],
             [
              0.6666666666666666,
              "#ed7953"
             ],
             [
              0.7777777777777778,
              "#fb9f3a"
             ],
             [
              0.8888888888888888,
              "#fdca26"
             ],
             [
              1,
              "#f0f921"
             ]
            ],
            "type": "surface"
           }
          ],
          "table": [
           {
            "cells": {
             "fill": {
              "color": "#EBF0F8"
             },
             "line": {
              "color": "white"
             }
            },
            "header": {
             "fill": {
              "color": "#C8D4E3"
             },
             "line": {
              "color": "white"
             }
            },
            "type": "table"
           }
          ]
         },
         "layout": {
          "annotationdefaults": {
           "arrowcolor": "#2a3f5f",
           "arrowhead": 0,
           "arrowwidth": 1
          },
          "autotypenumbers": "strict",
          "coloraxis": {
           "colorbar": {
            "outlinewidth": 0,
            "ticks": ""
           }
          },
          "colorscale": {
           "diverging": [
            [
             0,
             "#8e0152"
            ],
            [
             0.1,
             "#c51b7d"
            ],
            [
             0.2,
             "#de77ae"
            ],
            [
             0.3,
             "#f1b6da"
            ],
            [
             0.4,
             "#fde0ef"
            ],
            [
             0.5,
             "#f7f7f7"
            ],
            [
             0.6,
             "#e6f5d0"
            ],
            [
             0.7,
             "#b8e186"
            ],
            [
             0.8,
             "#7fbc41"
            ],
            [
             0.9,
             "#4d9221"
            ],
            [
             1,
             "#276419"
            ]
           ],
           "sequential": [
            [
             0,
             "#0d0887"
            ],
            [
             0.1111111111111111,
             "#46039f"
            ],
            [
             0.2222222222222222,
             "#7201a8"
            ],
            [
             0.3333333333333333,
             "#9c179e"
            ],
            [
             0.4444444444444444,
             "#bd3786"
            ],
            [
             0.5555555555555556,
             "#d8576b"
            ],
            [
             0.6666666666666666,
             "#ed7953"
            ],
            [
             0.7777777777777778,
             "#fb9f3a"
            ],
            [
             0.8888888888888888,
             "#fdca26"
            ],
            [
             1,
             "#f0f921"
            ]
           ],
           "sequentialminus": [
            [
             0,
             "#0d0887"
            ],
            [
             0.1111111111111111,
             "#46039f"
            ],
            [
             0.2222222222222222,
             "#7201a8"
            ],
            [
             0.3333333333333333,
             "#9c179e"
            ],
            [
             0.4444444444444444,
             "#bd3786"
            ],
            [
             0.5555555555555556,
             "#d8576b"
            ],
            [
             0.6666666666666666,
             "#ed7953"
            ],
            [
             0.7777777777777778,
             "#fb9f3a"
            ],
            [
             0.8888888888888888,
             "#fdca26"
            ],
            [
             1,
             "#f0f921"
            ]
           ]
          },
          "colorway": [
           "#636efa",
           "#EF553B",
           "#00cc96",
           "#ab63fa",
           "#FFA15A",
           "#19d3f3",
           "#FF6692",
           "#B6E880",
           "#FF97FF",
           "#FECB52"
          ],
          "font": {
           "color": "#2a3f5f"
          },
          "geo": {
           "bgcolor": "white",
           "lakecolor": "white",
           "landcolor": "#E5ECF6",
           "showlakes": true,
           "showland": true,
           "subunitcolor": "white"
          },
          "hoverlabel": {
           "align": "left"
          },
          "hovermode": "closest",
          "mapbox": {
           "style": "light"
          },
          "paper_bgcolor": "white",
          "plot_bgcolor": "#E5ECF6",
          "polar": {
           "angularaxis": {
            "gridcolor": "white",
            "linecolor": "white",
            "ticks": ""
           },
           "bgcolor": "#E5ECF6",
           "radialaxis": {
            "gridcolor": "white",
            "linecolor": "white",
            "ticks": ""
           }
          },
          "scene": {
           "xaxis": {
            "backgroundcolor": "#E5ECF6",
            "gridcolor": "white",
            "gridwidth": 2,
            "linecolor": "white",
            "showbackground": true,
            "ticks": "",
            "zerolinecolor": "white"
           },
           "yaxis": {
            "backgroundcolor": "#E5ECF6",
            "gridcolor": "white",
            "gridwidth": 2,
            "linecolor": "white",
            "showbackground": true,
            "ticks": "",
            "zerolinecolor": "white"
           },
           "zaxis": {
            "backgroundcolor": "#E5ECF6",
            "gridcolor": "white",
            "gridwidth": 2,
            "linecolor": "white",
            "showbackground": true,
            "ticks": "",
            "zerolinecolor": "white"
           }
          },
          "shapedefaults": {
           "line": {
            "color": "#2a3f5f"
           }
          },
          "ternary": {
           "aaxis": {
            "gridcolor": "white",
            "linecolor": "white",
            "ticks": ""
           },
           "baxis": {
            "gridcolor": "white",
            "linecolor": "white",
            "ticks": ""
           },
           "bgcolor": "#E5ECF6",
           "caxis": {
            "gridcolor": "white",
            "linecolor": "white",
            "ticks": ""
           }
          },
          "title": {
           "x": 0.05
          },
          "xaxis": {
           "automargin": true,
           "gridcolor": "white",
           "linecolor": "white",
           "ticks": "",
           "title": {
            "standoff": 15
           },
           "zerolinecolor": "white",
           "zerolinewidth": 2
          },
          "yaxis": {
           "automargin": true,
           "gridcolor": "white",
           "linecolor": "white",
           "ticks": "",
           "title": {
            "standoff": 15
           },
           "zerolinecolor": "white",
           "zerolinewidth": 2
          }
         }
        },
        "xaxis": {
         "anchor": "y",
         "domain": [
          0,
          1
         ],
         "title": {
          "text": "index size MB"
         }
        },
        "yaxis": {
         "anchor": "x",
         "domain": [
          0,
          1
         ],
         "title": {
          "text": "mean query time"
         }
        }
       }
      },
      "text/html": [
       "<div>                            <div id=\"3a8c50d3-26b1-47f5-b48e-9e1aa6a33478\" class=\"plotly-graph-div\" style=\"height:525px; width:100%;\"></div>            <script type=\"text/javascript\">                require([\"plotly\"], function(Plotly) {                    window.PLOTLYENV=window.PLOTLYENV || {};                                    if (document.getElementById(\"3a8c50d3-26b1-47f5-b48e-9e1aa6a33478\")) {                    Plotly.newPlot(                        \"3a8c50d3-26b1-47f5-b48e-9e1aa6a33478\",                        [{\"hovertemplate\":\"\\u003cb\\u003e%{hovertext}\\u003c\\u002fb\\u003e\\u003cbr\\u003e\\u003cbr\\u003egroup=flat\\u003cbr\\u003esize_mb=%{x}\\u003cbr\\u003emean_time_query_ms=%{y}\\u003cextra\\u003e\\u003c\\u002fextra\\u003e\",\"hovertext\":[\"flat\"],\"legendgroup\":\"flat\",\"marker\":{\"color\":\"#636efa\",\"symbol\":\"circle\"},\"mode\":\"markers\",\"name\":\"flat\",\"orientation\":\"v\",\"showlegend\":true,\"x\":[433.01],\"xaxis\":\"x\",\"y\":[5.24],\"yaxis\":\"y\",\"type\":\"scatter\"},{\"hovertemplate\":\"\\u003cb\\u003e%{hovertext}\\u003c\\u002fb\\u003e\\u003cbr\\u003e\\u003cbr\\u003egroup=hnsw\\u003cbr\\u003esize_mb=%{x}\\u003cbr\\u003emean_time_query_ms=%{y}\\u003cextra\\u003e\\u003c\\u002fextra\\u003e\",\"hovertext\":[\"hnsw_16_16_16\",\"hnsw_16_16_32\",\"hnsw_16_16_64\",\"hnsw_16_32_32\",\"hnsw_16_32_64\",\"hnsw_16_64_64\",\"hnsw_32_16_16\",\"hnsw_32_16_32\",\"hnsw_32_16_64\",\"hnsw_32_32_32\",\"hnsw_32_32_64\",\"hnsw_32_64_64\",\"hnsw_64_16_16\",\"hnsw_64_16_32\",\"hnsw_64_16_64\",\"hnsw_64_32_32\",\"hnsw_64_32_64\",\"hnsw_64_64_64\"],\"legendgroup\":\"hnsw\",\"marker\":{\"color\":\"#EF553B\",\"symbol\":\"circle\"},\"mode\":\"markers\",\"name\":\"hnsw\",\"orientation\":\"v\",\"showlegend\":true,\"x\":[448.27,448.27,448.27,448.27,448.27,448.27,461.79,461.79,461.79,461.79,461.79,461.79,488.84,488.84,488.84,488.84,488.84,488.84],\"xaxis\":\"x\",\"y\":[0.04,0.04,0.06,0.08,0.09,0.16,0.06,0.08,0.07,0.1,0.11,0.2,0.1,0.12,0.16,0.18,0.25,0.43],\"yaxis\":\"y\",\"type\":\"scatter\"},{\"hovertemplate\":\"\\u003cb\\u003e%{hovertext}\\u003c\\u002fb\\u003e\\u003cbr\\u003e\\u003cbr\\u003egroup=hnsw_sq\\u003cbr\\u003esize_mb=%{x}\\u003cbr\\u003emean_time_query_ms=%{y}\\u003cextra\\u003e\\u003c\\u002fextra\\u003e\",\"hovertext\":[\"hnsw_sq_16_16_16_0\",\"hnsw_sq_16_16_16_1\",\"hnsw_sq_16_16_16_2\",\"hnsw_sq_16_16_16_3\",\"hnsw_sq_16_16_32_0\",\"hnsw_sq_16_16_32_1\",\"hnsw_sq_16_16_32_2\",\"hnsw_sq_16_16_32_3\",\"hnsw_sq_16_16_64_0\",\"hnsw_sq_16_16_64_1\",\"hnsw_sq_16_16_64_2\",\"hnsw_sq_16_16_64_3\",\"hnsw_sq_16_32_32_0\",\"hnsw_sq_16_32_32_1\",\"hnsw_sq_16_32_32_2\",\"hnsw_sq_16_32_32_3\",\"hnsw_sq_16_32_64_0\",\"hnsw_sq_16_32_64_1\",\"hnsw_sq_16_32_64_2\",\"hnsw_sq_16_32_64_3\",\"hnsw_sq_16_64_64_0\",\"hnsw_sq_16_64_64_1\",\"hnsw_sq_16_64_64_2\",\"hnsw_sq_16_64_64_3\",\"hnsw_sq_32_16_16_0\",\"hnsw_sq_32_16_16_1\",\"hnsw_sq_32_16_16_2\",\"hnsw_sq_32_16_16_3\",\"hnsw_sq_32_16_32_0\",\"hnsw_sq_32_16_32_1\",\"hnsw_sq_32_16_32_2\",\"hnsw_sq_32_16_32_3\",\"hnsw_sq_32_16_64_0\",\"hnsw_sq_32_16_64_1\",\"hnsw_sq_32_16_64_2\",\"hnsw_sq_32_16_64_3\",\"hnsw_sq_32_32_32_0\",\"hnsw_sq_32_32_32_1\",\"hnsw_sq_32_32_32_2\",\"hnsw_sq_32_32_32_3\",\"hnsw_sq_32_32_64_0\",\"hnsw_sq_32_32_64_1\",\"hnsw_sq_32_32_64_2\",\"hnsw_sq_32_32_64_3\",\"hnsw_sq_32_64_64_0\",\"hnsw_sq_32_64_64_1\",\"hnsw_sq_32_64_64_2\",\"hnsw_sq_32_64_64_3\",\"hnsw_sq_64_16_16_0\",\"hnsw_sq_64_16_16_1\",\"hnsw_sq_64_16_16_2\",\"hnsw_sq_64_16_16_3\",\"hnsw_sq_64_16_32_0\",\"hnsw_sq_64_16_32_1\",\"hnsw_sq_64_16_32_2\",\"hnsw_sq_64_16_32_3\",\"hnsw_sq_64_16_64_0\",\"hnsw_sq_64_16_64_1\",\"hnsw_sq_64_16_64_2\",\"hnsw_sq_64_16_64_3\",\"hnsw_sq_64_32_32_0\",\"hnsw_sq_64_32_32_1\",\"hnsw_sq_64_32_32_2\",\"hnsw_sq_64_32_32_3\",\"hnsw_sq_64_32_64_0\",\"hnsw_sq_64_32_64_1\",\"hnsw_sq_64_32_64_2\",\"hnsw_sq_64_32_64_3\",\"hnsw_sq_64_64_64_0\",\"hnsw_sq_64_64_64_1\",\"hnsw_sq_64_64_64_2\",\"hnsw_sq_64_64_64_3\"],\"legendgroup\":\"hnsw_sq\",\"marker\":{\"color\":\"#00cc96\",\"symbol\":\"circle\"},\"mode\":\"markers\",\"name\":\"hnsw_sq\",\"orientation\":\"v\",\"showlegend\":true,\"x\":[123.52,69.39,123.51,69.38,123.52,69.39,123.51,69.38,123.52,69.39,123.51,69.38,123.52,69.39,123.51,69.38,123.52,69.39,123.51,69.38,123.52,69.39,123.51,69.38,137.04,82.91,137.03,82.9,137.04,82.91,137.03,82.9,137.04,82.91,137.03,82.9,137.04,82.91,137.03,82.9,137.04,82.91,137.03,82.9,137.04,82.91,137.03,82.9,164.09,109.96,164.08,109.95,164.09,109.96,164.08,109.95,164.09,109.96,164.08,109.95,164.09,109.96,164.08,109.95,164.09,109.96,164.08,109.95,164.09,109.96,164.08,109.95],\"xaxis\":\"x\",\"y\":[0.01,0.02,0.01,0.02,0.02,0.01,0.01,0.02,0.02,0.02,0.01,0.02,0.02,0.02,0.02,0.02,0.03,0.03,0.12,0.03,0.22,0.23,0.21,0.24,0.02,0.02,0.02,0.03,0.07,0.09,0.05,0.07,0.06,0.09,0.06,0.08,0.14,0.11,0.09,0.14,0.03,0.21,0.02,0.03,0.05,0.05,0.05,0.06,0.02,0.03,0.02,0.02,0.03,0.03,0.03,0.03,0.04,0.04,0.04,0.04,0.05,0.04,0.05,0.03,0.08,0.05,0.07,0.05,0.12,0.08,0.12,0.07],\"yaxis\":\"y\",\"type\":\"scatter\"},{\"hovertemplate\":\"\\u003cb\\u003e%{hovertext}\\u003c\\u002fb\\u003e\\u003cbr\\u003e\\u003cbr\\u003egroup=pq\\u003cbr\\u003esize_mb=%{x}\\u003cbr\\u003emean_time_query_ms=%{y}\\u003cextra\\u003e\\u003c\\u002fextra\\u003e\",\"hovertext\":[\"pq_4_6\",\"pq_4_8\",\"pq_4_10\",\"pq_8_6\",\"pq_8_8\",\"pq_8_10\",\"pq_16_6\",\"pq_16_8\",\"pq_16_10\",\"pq_32_6\",\"pq_32_8\",\"pq_32_10\"],\"legendgroup\":\"pq\",\"marker\":{\"color\":\"#ab63fa\",\"symbol\":\"circle\"},\"mode\":\"markers\",\"name\":\"pq\",\"orientation\":\"v\",\"showlegend\":true,\"x\":[0.56,1.42,4.52,0.88,1.84,5.05,1.51,2.69,6.11,2.78,4.38,8.22],\"xaxis\":\"x\",\"y\":[0.22,0.06,0.41,0.4,0.1,0.61,0.72,0.78,2.88,3.81,1.28,4.04],\"yaxis\":\"y\",\"type\":\"scatter\"},{\"hovertemplate\":\"\\u003cb\\u003e%{hovertext}\\u003c\\u002fb\\u003e\\u003cbr\\u003e\\u003cbr\\u003egroup=hnsw_pq\\u003cbr\\u003esize_mb=%{x}\\u003cbr\\u003emean_time_query_ms=%{y}\\u003cextra\\u003e\\u003c\\u002fextra\\u003e\",\"hovertext\":[\"hnsw_pq_16_6_16_16_32\",\"hnsw_pq_16_6_16_16_64\",\"hnsw_pq_16_8_16_64_64\",\"hnsw_pq_16_8_32_16_16\",\"hnsw_pq_16_9_16_16_32\",\"hnsw_pq_16_9_64_16_32\",\"hnsw_pq_16_9_64_16_64\",\"hnsw_pq_32_6_64_32_64\",\"hnsw_pq_32_8_16_16_16\",\"hnsw_pq_32_8_16_32_32\",\"hnsw_pq_32_8_32_16_32\",\"hnsw_pq_32_8_32_32_32\",\"hnsw_pq_32_8_64_16_16\",\"hnsw_pq_32_9_16_16_64\",\"hnsw_pq_32_9_32_32_32\",\"hnsw_pq_32_9_32_32_64\",\"hnsw_pq_32_9_64_16_32\",\"hnsw_pq_32_9_64_32_32\",\"hnsw_pq_32_9_64_32_64\",\"hnsw_pq_4_6_16_16_16\",\"hnsw_pq_4_6_32_16_16\",\"hnsw_pq_4_6_32_16_32\",\"hnsw_pq_4_6_32_32_64\",\"hnsw_pq_4_6_32_64_64\",\"hnsw_pq_4_6_64_16_16\",\"hnsw_pq_4_8_16_16_16\",\"hnsw_pq_4_8_32_16_32\",\"hnsw_pq_4_8_64_16_16\",\"hnsw_pq_4_8_64_32_32\",\"hnsw_pq_4_8_64_32_64\",\"hnsw_pq_4_8_64_64_64\",\"hnsw_pq_4_9_16_16_64\",\"hnsw_pq_4_9_16_32_64\",\"hnsw_pq_4_9_64_16_32\",\"hnsw_pq_4_9_64_32_64\",\"hnsw_pq_8_6_16_16_16\",\"hnsw_pq_8_6_16_16_64\",\"hnsw_pq_8_6_64_64_64\",\"hnsw_pq_8_8_16_16_64\",\"hnsw_pq_8_8_16_32_32\",\"hnsw_pq_8_8_32_16_16\",\"hnsw_pq_8_8_32_16_32\",\"hnsw_pq_8_8_32_32_32\",\"hnsw_pq_8_8_64_16_16\",\"hnsw_pq_8_8_64_32_64\",\"hnsw_pq_8_9_16_16_64\",\"hnsw_pq_8_9_16_64_64\",\"hnsw_pq_8_9_32_16_16\",\"hnsw_pq_8_9_64_16_64\",\"hnsw_pq_8_9_64_32_32\"],\"legendgroup\":\"hnsw_pq\",\"marker\":{\"color\":\"#FFA15A\",\"symbol\":\"circle\"},\"mode\":\"markers\",\"name\":\"hnsw_pq\",\"orientation\":\"v\",\"showlegend\":true,\"x\":[3.22,3.22,4.05,6.49,5.09,12.41,12.41,10.78,4.36,4.36,6.8,6.8,11.68,5.43,7.87,7.87,12.76,12.76,12.76,3.05,5.49,5.49,5.49,5.49,10.38,3.82,6.26,11.15,11.15,11.15,11.15,4.84,4.84,12.16,12.16,3.11,3.11,10.43,3.9,3.9,6.34,6.34,6.34,11.22,11.22,4.92,4.92,7.36,12.24,12.24],\"xaxis\":\"x\",\"y\":[0.0,0.0,0.01,0.0,0.01,0.02,0.01,0.01,0.01,0.01,0.01,0.01,0.01,0.02,0.03,0.01,0.02,0.04,0.02,0.0,0.0,0.0,0.0,0.0,0.0,0.0,0.0,0.0,0.0,0.0,0.01,0.01,0.01,0.01,0.0,0.0,0.0,0.0,0.0,0.0,0.0,0.0,0.01,0.0,0.01,0.01,0.01,0.01,0.01,0.02],\"yaxis\":\"y\",\"type\":\"scatter\"},{\"hovertemplate\":\"\\u003cb\\u003e%{hovertext}\\u003c\\u002fb\\u003e\\u003cbr\\u003e\\u003cbr\\u003egroup=ivf\\u003cbr\\u003esize_mb=%{x}\\u003cbr\\u003emean_time_query_ms=%{y}\\u003cextra\\u003e\\u003c\\u002fextra\\u003e\",\"hovertext\":[\"ivf_IndexFlatIP_32_16\",\"ivf_IndexFlatIP_32_32\",\"ivf_IndexFlatIP_64_16\",\"ivf_IndexFlatIP_64_32\",\"ivf_IndexFlatIP_64_64\",\"ivf_IndexFlatIP_128_16\",\"ivf_IndexFlatIP_128_32\",\"ivf_IndexFlatIP_128_64\",\"ivf_IndexFlatIP_256_16\",\"ivf_IndexFlatIP_256_32\",\"ivf_IndexFlatIP_256_64\",\"ivf_IndexFlatL2_32_16\",\"ivf_IndexFlatL2_32_32\",\"ivf_IndexFlatL2_64_16\",\"ivf_IndexFlatL2_64_32\",\"ivf_IndexFlatL2_64_64\",\"ivf_IndexFlatL2_128_16\",\"ivf_IndexFlatL2_128_32\",\"ivf_IndexFlatL2_128_64\",\"ivf_IndexFlatL2_256_16\",\"ivf_IndexFlatL2_256_32\",\"ivf_IndexFlatL2_256_64\"],\"legendgroup\":\"ivf\",\"marker\":{\"color\":\"#19d3f3\",\"symbol\":\"circle\"},\"mode\":\"markers\",\"name\":\"ivf\",\"orientation\":\"v\",\"showlegend\":true,\"x\":[78.4,78.4,78.52,78.52,78.52,78.77,78.77,78.77,79.27,79.27,79.27,78.4,78.4,78.52,78.52,78.52,78.77,78.77,78.77,79.27,79.27,79.27],\"xaxis\":\"x\",\"y\":[1.24,1.03,0.28,0.56,1.13,0.13,0.34,0.69,0.06,0.14,0.33,0.55,1.05,0.24,0.55,1.12,0.13,0.29,0.69,0.06,0.13,0.31],\"yaxis\":\"y\",\"type\":\"scatter\"},{\"hovertemplate\":\"\\u003cb\\u003e%{hovertext}\\u003c\\u002fb\\u003e\\u003cbr\\u003e\\u003cbr\\u003egroup=ivf_pq\\u003cbr\\u003esize_mb=%{x}\\u003cbr\\u003emean_time_query_ms=%{y}\\u003cextra\\u003e\\u003c\\u002fextra\\u003e\",\"hovertext\":[\"ivf_pq_IndexFlatIP_128_16_32_6\",\"ivf_pq_IndexFlatIP_128_16_4_9\",\"ivf_pq_IndexFlatIP_128_16_8_6\",\"ivf_pq_IndexFlatIP_128_32_8_6\",\"ivf_pq_IndexFlatIP_128_64_32_8\",\"ivf_pq_IndexFlatIP_128_64_8_6\",\"ivf_pq_IndexFlatIP_128_64_8_8\",\"ivf_pq_IndexFlatIP_256_16_32_6\",\"ivf_pq_IndexFlatIP_256_16_4_6\",\"ivf_pq_IndexFlatIP_256_16_8_9\",\"ivf_pq_IndexFlatIP_256_32_16_8\",\"ivf_pq_IndexFlatIP_256_32_8_6\",\"ivf_pq_IndexFlatIP_256_64_32_8\",\"ivf_pq_IndexFlatIP_256_64_32_9\",\"ivf_pq_IndexFlatIP_32_16_16_8\",\"ivf_pq_IndexFlatIP_32_16_32_8\",\"ivf_pq_IndexFlatIP_32_16_8_8\",\"ivf_pq_IndexFlatIP_32_32_16_8\",\"ivf_pq_IndexFlatIP_64_16_16_6\",\"ivf_pq_IndexFlatIP_64_16_32_9\",\"ivf_pq_IndexFlatIP_64_16_4_6\",\"ivf_pq_IndexFlatIP_64_16_4_8\",\"ivf_pq_IndexFlatIP_64_16_4_9\",\"ivf_pq_IndexFlatIP_64_32_8_6\",\"ivf_pq_IndexFlatL2_128_16_16_8\",\"ivf_pq_IndexFlatL2_128_16_16_9\",\"ivf_pq_IndexFlatL2_128_16_4_6\",\"ivf_pq_IndexFlatL2_128_32_16_9\",\"ivf_pq_IndexFlatL2_128_32_32_9\",\"ivf_pq_IndexFlatL2_128_32_4_9\",\"ivf_pq_IndexFlatL2_128_64_16_8\",\"ivf_pq_IndexFlatL2_128_64_4_8\",\"ivf_pq_IndexFlatL2_128_64_8_9\",\"ivf_pq_IndexFlatL2_256_16_32_6\",\"ivf_pq_IndexFlatL2_256_16_4_9\",\"ivf_pq_IndexFlatL2_256_32_16_8\",\"ivf_pq_IndexFlatL2_256_32_32_9\",\"ivf_pq_IndexFlatL2_256_32_4_6\",\"ivf_pq_IndexFlatL2_256_32_4_8\",\"ivf_pq_IndexFlatL2_256_64_32_8\",\"ivf_pq_IndexFlatL2_256_64_8_6\",\"ivf_pq_IndexFlatL2_32_16_4_6\",\"ivf_pq_IndexFlatL2_32_16_8_8\",\"ivf_pq_IndexFlatL2_32_32_4_8\",\"ivf_pq_IndexFlatL2_64_16_16_6\",\"ivf_pq_IndexFlatL2_64_16_4_9\",\"ivf_pq_IndexFlatL2_64_32_32_6\",\"ivf_pq_IndexFlatL2_64_32_8_9\",\"ivf_pq_IndexFlatL2_64_64_16_8\",\"ivf_pq_IndexFlatL2_64_64_4_6\",\"ivf_pq_IndexFlatL2_64_64_4_9\",\"ivf_pq_IndexFlatL2_64_64_8_6\"],\"legendgroup\":\"ivf_pq\",\"marker\":{\"color\":\"#FF6692\",\"symbol\":\"circle\"},\"mode\":\"markers\",\"name\":\"ivf_pq\",\"orientation\":\"v\",\"showlegend\":true,\"x\":[1.36,2.74,1.01,1.01,2.26,1.01,1.8,1.86,1.46,3.32,2.45,1.51,2.76,3.84,1.58,1.88,1.43,1.58,0.88,3.08,0.71,1.47,2.49,0.76,1.95,2.99,0.96,2.99,3.34,2.74,1.95,1.73,2.82,1.86,3.25,2.45,3.84,1.46,2.23,2.76,1.51,0.58,1.43,1.35,0.88,2.49,1.11,2.57,1.7,0.71,2.49,0.76],\"xaxis\":\"x\",\"y\":[0.07,0.09,0.04,0.06,0.3,0.08,0.17,0.05,0.02,0.09,0.11,0.03,0.29,0.62,0.1,0.12,0.05,0.12,0.05,0.34,0.04,0.08,0.1,0.05,0.02,0.04,0.01,0.08,0.12,0.03,0.05,0.03,0.07,0.03,0.02,0.03,0.08,0.02,0.02,0.06,0.04,0.04,0.03,0.04,0.05,0.03,0.15,0.06,0.07,0.06,0.07,0.09],\"yaxis\":\"y\",\"type\":\"scatter\"},{\"hovertemplate\":\"\\u003cb\\u003e%{hovertext}\\u003c\\u002fb\\u003e\\u003cbr\\u003e\\u003cbr\\u003egroup=ivfHNSW\\u003cbr\\u003esize_mb=%{x}\\u003cbr\\u003emean_time_query_ms=%{y}\\u003cextra\\u003e\\u003c\\u002fextra\\u003e\",\"hovertext\":[\"ivfHNSW_128_16_16_16_64\",\"ivfHNSW_128_16_16_32_64\",\"ivfHNSW_128_16_64_16_32\",\"ivfHNSW_128_16_64_32_32\",\"ivfHNSW_128_16_64_64_64\",\"ivfHNSW_128_32_16_16_64\",\"ivfHNSW_128_32_32_16_16\",\"ivfHNSW_128_32_64_16_16\",\"ivfHNSW_128_32_64_16_64\",\"ivfHNSW_128_32_64_64_64\",\"ivfHNSW_128_64_16_16_64\",\"ivfHNSW_128_64_16_32_64\",\"ivfHNSW_128_64_32_16_32\",\"ivfHNSW_128_64_32_64_64\",\"ivfHNSW_128_64_64_16_16\",\"ivfHNSW_256_16_16_16_32\",\"ivfHNSW_256_16_16_64_64\",\"ivfHNSW_256_16_32_32_64\",\"ivfHNSW_256_16_32_64_64\",\"ivfHNSW_256_32_16_16_16\",\"ivfHNSW_256_32_32_16_32\",\"ivfHNSW_256_32_64_16_32\",\"ivfHNSW_256_32_64_16_64\",\"ivfHNSW_256_32_64_32_64\",\"ivfHNSW_256_64_16_64_64\",\"ivfHNSW_256_64_32_16_64\",\"ivfHNSW_256_64_64_16_16\",\"ivfHNSW_256_64_64_64_64\",\"ivfHNSW_32_16_16_32_64\",\"ivfHNSW_32_16_32_16_64\",\"ivfHNSW_32_16_32_32_64\",\"ivfHNSW_32_16_64_16_64\",\"ivfHNSW_32_32_16_64_64\",\"ivfHNSW_32_32_64_16_64\",\"ivfHNSW_64_16_16_16_32\",\"ivfHNSW_64_16_16_32_32\",\"ivfHNSW_64_16_16_32_64\",\"ivfHNSW_64_16_32_16_32\",\"ivfHNSW_64_16_32_32_32\",\"ivfHNSW_64_16_32_64_64\",\"ivfHNSW_64_32_16_32_32\",\"ivfHNSW_64_32_16_64_64\",\"ivfHNSW_64_32_32_16_16\",\"ivfHNSW_64_32_32_16_32\",\"ivfHNSW_64_32_64_16_16\",\"ivfHNSW_64_64_16_16_16\",\"ivfHNSW_64_64_16_32_32\",\"ivfHNSW_64_64_32_32_64\",\"ivfHNSW_64_64_64_32_64\",\"ivfHNSW_64_64_64_64_64\"],\"legendgroup\":\"ivfHNSW\",\"marker\":{\"color\":\"#B6E880\",\"symbol\":\"circle\"},\"mode\":\"markers\",\"name\":\"ivfHNSW\",\"orientation\":\"v\",\"showlegend\":true,\"x\":[78.79,78.79,78.84,78.84,78.84,78.79,78.81,78.84,78.84,78.84,78.79,78.79,78.81,78.81,78.84,79.31,79.31,79.34,79.34,79.31,79.34,79.4,79.4,79.4,79.31,79.34,79.4,79.4,78.4,78.41,78.41,78.41,78.4,78.41,78.53,78.53,78.53,78.54,78.54,78.54,78.53,78.53,78.54,78.54,78.56,78.53,78.53,78.54,78.56,78.56],\"xaxis\":\"x\",\"y\":[0.53,0.52,0.52,0.51,0.52,1.1,1.08,1.09,1.09,1.09,2.12,2.24,2.2,2.27,2.17,0.27,0.27,0.28,0.27,0.57,0.57,0.56,0.57,0.57,1.17,1.17,1.2,1.2,2.08,2.05,2.07,2.09,4.43,4.43,1.07,1.05,1.05,1.07,1.07,1.07,2.17,2.1,2.13,2.1,2.14,3.93,4.18,4.45,4.43,4.43],\"yaxis\":\"y\",\"type\":\"scatter\"}],                        {\"template\":{\"data\":{\"histogram2dcontour\":[{\"type\":\"histogram2dcontour\",\"colorbar\":{\"outlinewidth\":0,\"ticks\":\"\"},\"colorscale\":[[0.0,\"#0d0887\"],[0.1111111111111111,\"#46039f\"],[0.2222222222222222,\"#7201a8\"],[0.3333333333333333,\"#9c179e\"],[0.4444444444444444,\"#bd3786\"],[0.5555555555555556,\"#d8576b\"],[0.6666666666666666,\"#ed7953\"],[0.7777777777777778,\"#fb9f3a\"],[0.8888888888888888,\"#fdca26\"],[1.0,\"#f0f921\"]]}],\"choropleth\":[{\"type\":\"choropleth\",\"colorbar\":{\"outlinewidth\":0,\"ticks\":\"\"}}],\"histogram2d\":[{\"type\":\"histogram2d\",\"colorbar\":{\"outlinewidth\":0,\"ticks\":\"\"},\"colorscale\":[[0.0,\"#0d0887\"],[0.1111111111111111,\"#46039f\"],[0.2222222222222222,\"#7201a8\"],[0.3333333333333333,\"#9c179e\"],[0.4444444444444444,\"#bd3786\"],[0.5555555555555556,\"#d8576b\"],[0.6666666666666666,\"#ed7953\"],[0.7777777777777778,\"#fb9f3a\"],[0.8888888888888888,\"#fdca26\"],[1.0,\"#f0f921\"]]}],\"heatmap\":[{\"type\":\"heatmap\",\"colorbar\":{\"outlinewidth\":0,\"ticks\":\"\"},\"colorscale\":[[0.0,\"#0d0887\"],[0.1111111111111111,\"#46039f\"],[0.2222222222222222,\"#7201a8\"],[0.3333333333333333,\"#9c179e\"],[0.4444444444444444,\"#bd3786\"],[0.5555555555555556,\"#d8576b\"],[0.6666666666666666,\"#ed7953\"],[0.7777777777777778,\"#fb9f3a\"],[0.8888888888888888,\"#fdca26\"],[1.0,\"#f0f921\"]]}],\"heatmapgl\":[{\"type\":\"heatmapgl\",\"colorbar\":{\"outlinewidth\":0,\"ticks\":\"\"},\"colorscale\":[[0.0,\"#0d0887\"],[0.1111111111111111,\"#46039f\"],[0.2222222222222222,\"#7201a8\"],[0.3333333333333333,\"#9c179e\"],[0.4444444444444444,\"#bd3786\"],[0.5555555555555556,\"#d8576b\"],[0.6666666666666666,\"#ed7953\"],[0.7777777777777778,\"#fb9f3a\"],[0.8888888888888888,\"#fdca26\"],[1.0,\"#f0f921\"]]}],\"contourcarpet\":[{\"type\":\"contourcarpet\",\"colorbar\":{\"outlinewidth\":0,\"ticks\":\"\"}}],\"contour\":[{\"type\":\"contour\",\"colorbar\":{\"outlinewidth\":0,\"ticks\":\"\"},\"colorscale\":[[0.0,\"#0d0887\"],[0.1111111111111111,\"#46039f\"],[0.2222222222222222,\"#7201a8\"],[0.3333333333333333,\"#9c179e\"],[0.4444444444444444,\"#bd3786\"],[0.5555555555555556,\"#d8576b\"],[0.6666666666666666,\"#ed7953\"],[0.7777777777777778,\"#fb9f3a\"],[0.8888888888888888,\"#fdca26\"],[1.0,\"#f0f921\"]]}],\"surface\":[{\"type\":\"surface\",\"colorbar\":{\"outlinewidth\":0,\"ticks\":\"\"},\"colorscale\":[[0.0,\"#0d0887\"],[0.1111111111111111,\"#46039f\"],[0.2222222222222222,\"#7201a8\"],[0.3333333333333333,\"#9c179e\"],[0.4444444444444444,\"#bd3786\"],[0.5555555555555556,\"#d8576b\"],[0.6666666666666666,\"#ed7953\"],[0.7777777777777778,\"#fb9f3a\"],[0.8888888888888888,\"#fdca26\"],[1.0,\"#f0f921\"]]}],\"mesh3d\":[{\"type\":\"mesh3d\",\"colorbar\":{\"outlinewidth\":0,\"ticks\":\"\"}}],\"scatter\":[{\"fillpattern\":{\"fillmode\":\"overlay\",\"size\":10,\"solidity\":0.2},\"type\":\"scatter\"}],\"parcoords\":[{\"type\":\"parcoords\",\"line\":{\"colorbar\":{\"outlinewidth\":0,\"ticks\":\"\"}}}],\"scatterpolargl\":[{\"type\":\"scatterpolargl\",\"marker\":{\"colorbar\":{\"outlinewidth\":0,\"ticks\":\"\"}}}],\"bar\":[{\"error_x\":{\"color\":\"#2a3f5f\"},\"error_y\":{\"color\":\"#2a3f5f\"},\"marker\":{\"line\":{\"color\":\"#E5ECF6\",\"width\":0.5},\"pattern\":{\"fillmode\":\"overlay\",\"size\":10,\"solidity\":0.2}},\"type\":\"bar\"}],\"scattergeo\":[{\"type\":\"scattergeo\",\"marker\":{\"colorbar\":{\"outlinewidth\":0,\"ticks\":\"\"}}}],\"scatterpolar\":[{\"type\":\"scatterpolar\",\"marker\":{\"colorbar\":{\"outlinewidth\":0,\"ticks\":\"\"}}}],\"histogram\":[{\"marker\":{\"pattern\":{\"fillmode\":\"overlay\",\"size\":10,\"solidity\":0.2}},\"type\":\"histogram\"}],\"scattergl\":[{\"type\":\"scattergl\",\"marker\":{\"colorbar\":{\"outlinewidth\":0,\"ticks\":\"\"}}}],\"scatter3d\":[{\"type\":\"scatter3d\",\"line\":{\"colorbar\":{\"outlinewidth\":0,\"ticks\":\"\"}},\"marker\":{\"colorbar\":{\"outlinewidth\":0,\"ticks\":\"\"}}}],\"scattermapbox\":[{\"type\":\"scattermapbox\",\"marker\":{\"colorbar\":{\"outlinewidth\":0,\"ticks\":\"\"}}}],\"scatterternary\":[{\"type\":\"scatterternary\",\"marker\":{\"colorbar\":{\"outlinewidth\":0,\"ticks\":\"\"}}}],\"scattercarpet\":[{\"type\":\"scattercarpet\",\"marker\":{\"colorbar\":{\"outlinewidth\":0,\"ticks\":\"\"}}}],\"carpet\":[{\"aaxis\":{\"endlinecolor\":\"#2a3f5f\",\"gridcolor\":\"white\",\"linecolor\":\"white\",\"minorgridcolor\":\"white\",\"startlinecolor\":\"#2a3f5f\"},\"baxis\":{\"endlinecolor\":\"#2a3f5f\",\"gridcolor\":\"white\",\"linecolor\":\"white\",\"minorgridcolor\":\"white\",\"startlinecolor\":\"#2a3f5f\"},\"type\":\"carpet\"}],\"table\":[{\"cells\":{\"fill\":{\"color\":\"#EBF0F8\"},\"line\":{\"color\":\"white\"}},\"header\":{\"fill\":{\"color\":\"#C8D4E3\"},\"line\":{\"color\":\"white\"}},\"type\":\"table\"}],\"barpolar\":[{\"marker\":{\"line\":{\"color\":\"#E5ECF6\",\"width\":0.5},\"pattern\":{\"fillmode\":\"overlay\",\"size\":10,\"solidity\":0.2}},\"type\":\"barpolar\"}],\"pie\":[{\"automargin\":true,\"type\":\"pie\"}]},\"layout\":{\"autotypenumbers\":\"strict\",\"colorway\":[\"#636efa\",\"#EF553B\",\"#00cc96\",\"#ab63fa\",\"#FFA15A\",\"#19d3f3\",\"#FF6692\",\"#B6E880\",\"#FF97FF\",\"#FECB52\"],\"font\":{\"color\":\"#2a3f5f\"},\"hovermode\":\"closest\",\"hoverlabel\":{\"align\":\"left\"},\"paper_bgcolor\":\"white\",\"plot_bgcolor\":\"#E5ECF6\",\"polar\":{\"bgcolor\":\"#E5ECF6\",\"angularaxis\":{\"gridcolor\":\"white\",\"linecolor\":\"white\",\"ticks\":\"\"},\"radialaxis\":{\"gridcolor\":\"white\",\"linecolor\":\"white\",\"ticks\":\"\"}},\"ternary\":{\"bgcolor\":\"#E5ECF6\",\"aaxis\":{\"gridcolor\":\"white\",\"linecolor\":\"white\",\"ticks\":\"\"},\"baxis\":{\"gridcolor\":\"white\",\"linecolor\":\"white\",\"ticks\":\"\"},\"caxis\":{\"gridcolor\":\"white\",\"linecolor\":\"white\",\"ticks\":\"\"}},\"coloraxis\":{\"colorbar\":{\"outlinewidth\":0,\"ticks\":\"\"}},\"colorscale\":{\"sequential\":[[0.0,\"#0d0887\"],[0.1111111111111111,\"#46039f\"],[0.2222222222222222,\"#7201a8\"],[0.3333333333333333,\"#9c179e\"],[0.4444444444444444,\"#bd3786\"],[0.5555555555555556,\"#d8576b\"],[0.6666666666666666,\"#ed7953\"],[0.7777777777777778,\"#fb9f3a\"],[0.8888888888888888,\"#fdca26\"],[1.0,\"#f0f921\"]],\"sequentialminus\":[[0.0,\"#0d0887\"],[0.1111111111111111,\"#46039f\"],[0.2222222222222222,\"#7201a8\"],[0.3333333333333333,\"#9c179e\"],[0.4444444444444444,\"#bd3786\"],[0.5555555555555556,\"#d8576b\"],[0.6666666666666666,\"#ed7953\"],[0.7777777777777778,\"#fb9f3a\"],[0.8888888888888888,\"#fdca26\"],[1.0,\"#f0f921\"]],\"diverging\":[[0,\"#8e0152\"],[0.1,\"#c51b7d\"],[0.2,\"#de77ae\"],[0.3,\"#f1b6da\"],[0.4,\"#fde0ef\"],[0.5,\"#f7f7f7\"],[0.6,\"#e6f5d0\"],[0.7,\"#b8e186\"],[0.8,\"#7fbc41\"],[0.9,\"#4d9221\"],[1,\"#276419\"]]},\"xaxis\":{\"gridcolor\":\"white\",\"linecolor\":\"white\",\"ticks\":\"\",\"title\":{\"standoff\":15},\"zerolinecolor\":\"white\",\"automargin\":true,\"zerolinewidth\":2},\"yaxis\":{\"gridcolor\":\"white\",\"linecolor\":\"white\",\"ticks\":\"\",\"title\":{\"standoff\":15},\"zerolinecolor\":\"white\",\"automargin\":true,\"zerolinewidth\":2},\"scene\":{\"xaxis\":{\"backgroundcolor\":\"#E5ECF6\",\"gridcolor\":\"white\",\"linecolor\":\"white\",\"showbackground\":true,\"ticks\":\"\",\"zerolinecolor\":\"white\",\"gridwidth\":2},\"yaxis\":{\"backgroundcolor\":\"#E5ECF6\",\"gridcolor\":\"white\",\"linecolor\":\"white\",\"showbackground\":true,\"ticks\":\"\",\"zerolinecolor\":\"white\",\"gridwidth\":2},\"zaxis\":{\"backgroundcolor\":\"#E5ECF6\",\"gridcolor\":\"white\",\"linecolor\":\"white\",\"showbackground\":true,\"ticks\":\"\",\"zerolinecolor\":\"white\",\"gridwidth\":2}},\"shapedefaults\":{\"line\":{\"color\":\"#2a3f5f\"}},\"annotationdefaults\":{\"arrowcolor\":\"#2a3f5f\",\"arrowhead\":0,\"arrowwidth\":1},\"geo\":{\"bgcolor\":\"white\",\"landcolor\":\"#E5ECF6\",\"subunitcolor\":\"white\",\"showland\":true,\"showlakes\":true,\"lakecolor\":\"white\"},\"title\":{\"x\":0.05},\"mapbox\":{\"style\":\"light\"}}},\"xaxis\":{\"anchor\":\"y\",\"domain\":[0.0,1.0],\"title\":{\"text\":\"index size MB\"}},\"yaxis\":{\"anchor\":\"x\",\"domain\":[0.0,1.0],\"title\":{\"text\":\"mean query time\"}},\"legend\":{\"title\":{\"text\":\"group\"},\"tracegroupgap\":0},\"margin\":{\"t\":60}},                        {\"responsive\": true}                    ).then(function(){\n",
       "                            \n",
       "var gd = document.getElementById('3a8c50d3-26b1-47f5-b48e-9e1aa6a33478');\n",
       "var x = new MutationObserver(function (mutations, observer) {{\n",
       "        var display = window.getComputedStyle(gd).display;\n",
       "        if (!display || display === 'none') {{\n",
       "            console.log([gd, 'removed!']);\n",
       "            Plotly.purge(gd);\n",
       "            observer.disconnect();\n",
       "        }}\n",
       "}});\n",
       "\n",
       "// Listen for the removal of the full notebook cells\n",
       "var notebookContainer = gd.closest('#notebook-container');\n",
       "if (notebookContainer) {{\n",
       "    x.observe(notebookContainer, {childList: true});\n",
       "}}\n",
       "\n",
       "// Listen for the clearing of the current output cell\n",
       "var outputEl = gd.closest('.output');\n",
       "if (outputEl) {{\n",
       "    x.observe(outputEl, {childList: true});\n",
       "}}\n",
       "\n",
       "                        })                };                });            </script>        </div>"
      ]
     },
     "metadata": {},
     "output_type": "display_data"
    }
   ],
   "source": [
    "fig = px.scatter(results_df,  # загружаем данные\n",
    "                 x='size_mb',  # указываем столбец с данными для оси X\n",
    "                 y='mean_time_query_ms',  # указываем столбец с данными для оси Y\n",
    "                 color='group',  # обозначаем категорию для разделения цветом\n",
    "                 hover_name='index',)\n",
    "# оформляем график\n",
    "fig.update_layout(xaxis_title='index size MB',\n",
    "                  yaxis_title='mean query time')\n",
    "fig.show()  # выводим график"
   ]
  }
 ],
 "metadata": {
  "kernelspec": {
   "display_name": ".venv",
   "language": "python",
   "name": "python3"
  },
  "language_info": {
   "codemirror_mode": {
    "name": "ipython",
    "version": 3
   },
   "file_extension": ".py",
   "mimetype": "text/x-python",
   "name": "python",
   "nbconvert_exporter": "python",
   "pygments_lexer": "ipython3",
   "version": "3.9.2"
  }
 },
 "nbformat": 4,
 "nbformat_minor": 2
}
