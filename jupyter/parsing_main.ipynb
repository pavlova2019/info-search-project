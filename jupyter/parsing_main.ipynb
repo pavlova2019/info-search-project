{
 "cells": [
  {
   "cell_type": "code",
   "execution_count": 2,
   "id": "5a35d343",
   "metadata": {
    "ExecuteTime": {
     "end_time": "2024-12-24T19:34:48.043482Z",
     "start_time": "2024-12-24T19:34:48.035966Z"
    }
   },
   "outputs": [
    {
     "data": {
      "text/html": [
       "<style>.container { width:90% !important; }</style>"
      ],
      "text/plain": [
       "<IPython.core.display.HTML object>"
      ]
     },
     "metadata": {},
     "output_type": "display_data"
    }
   ],
   "source": [
    "from IPython.display import display, HTML\n",
    "display(HTML(\"<style>.container { width:90% !important; }</style>\"))"
   ]
  },
  {
   "cell_type": "code",
   "execution_count": 2,
   "id": "1fc56f1e",
   "metadata": {
    "ExecuteTime": {
     "end_time": "2024-12-21T14:50:12.988677Z",
     "start_time": "2024-12-21T14:50:12.985848Z"
    }
   },
   "outputs": [],
   "source": [
    "#!pip install feedparser"
   ]
  },
  {
   "cell_type": "code",
   "execution_count": 5,
   "id": "14c5aeb4",
   "metadata": {
    "ExecuteTime": {
     "end_time": "2024-12-19T08:24:08.029565Z",
     "start_time": "2024-12-19T08:24:06.421838Z"
    }
   },
   "outputs": [
    {
     "name": "stdout",
     "output_type": "stream",
     "text": [
      "Collecting jsonlines\n",
      "  Downloading jsonlines-4.0.0-py3-none-any.whl.metadata (1.6 kB)\n",
      "Requirement already satisfied: attrs>=19.2.0 in /storage/st120829/miniconda3/envs/venv/lib/python3.9/site-packages (from jsonlines) (24.2.0)\n",
      "Downloading jsonlines-4.0.0-py3-none-any.whl (8.7 kB)\n",
      "Installing collected packages: jsonlines\n",
      "Successfully installed jsonlines-4.0.0\n"
     ]
    }
   ],
   "source": [
    "#!pip install jsonlines"
   ]
  },
  {
   "cell_type": "code",
   "execution_count": 3,
   "id": "e56c3caf",
   "metadata": {
    "ExecuteTime": {
     "end_time": "2024-12-24T19:35:09.312751Z",
     "start_time": "2024-12-24T19:35:07.796792Z"
    }
   },
   "outputs": [],
   "source": [
    "import requests\n",
    "from bs4 import BeautifulSoup\n",
    "import feedparser\n",
    "from datetime import datetime\n",
    "from urllib.parse import quote_plus\n",
    "import random\n",
    "import pandas as pd\n",
    "import jsonlines\n",
    "import json\n",
    "from tqdm.notebook import tqdm\n",
    "import numpy as np\n",
    "import pandas as pd"
   ]
  },
  {
   "cell_type": "markdown",
   "id": "2c8d70b7",
   "metadata": {},
   "source": [
    "## Парсинг"
   ]
  },
  {
   "cell_type": "code",
   "execution_count": 3,
   "id": "4d0921a1",
   "metadata": {
    "ExecuteTime": {
     "end_time": "2024-12-21T15:23:59.021997Z",
     "start_time": "2024-12-21T15:23:58.994249Z"
    },
    "code_folding": []
   },
   "outputs": [],
   "source": [
    "import time\n",
    "def parse_arxiv_only_html_by_category(category: str,\n",
    "                                      top_n: int = 10,\n",
    "                                      max_results: int = 50\n",
    "                                     ) -> list[dict]:\n",
    "    \"\"\"\n",
    "    Parsing meta information of articles with a filter based on those that have an html link.\n",
    "    \"\"\"\n",
    "    \n",
    "    base_url = f\"http://export.arxiv.org/api/query?search_query=cat:{category}&sortBy=lastUpdatedDate&sortOrder=descending\"\n",
    "    start = 0\n",
    "    data = []\n",
    "\n",
    "    keywords = [\"collection\", \"proceeding\", \"volume\", \"workshop\", \"multiple papers\"]\n",
    "    query = base_url + f\"&start={start}&max_results={max_results}\"\n",
    "    feed = feedparser.parse(query)\n",
    "    \n",
    "    \n",
    "    \n",
    "    with tqdm(total=top_n, desc=f\"{category}: Parsing category html links\") as pbar:\n",
    "        while True:\n",
    "            query = base_url + f\"&start={start}&max_results={max_results}\"\n",
    "            feed = feedparser.parse(query)\n",
    "            #if len(feed.entries) == 0:\n",
    "                #print(f'Only {len(data)} papers were found for query \"{query}\"!')\n",
    "            for entry in feed.entries:\n",
    "                html_link = entry.link.replace(\"abs\", \"html\")\n",
    "                status_code = requests.get(html_link).status_code\n",
    "                abstract = entry.get(\"summary\", \"\").lower()\n",
    "                check_keywords = any(keyword in abstract for keyword in keywords)\n",
    "                if (200 <= status_code) and (status_code < 300) and not check_keywords:\n",
    "                    meta = dict(entry)\n",
    "                    meta[\"html_link\"] = entry.link.replace(\"abs\", \"html\")\n",
    "                    data.append(dict(meta))\n",
    "                    pbar.update(1)\n",
    "                    if len(data) == top_n:\n",
    "                        return data\n",
    "                time.sleep(6)\n",
    "\n",
    "            start += max_results\n",
    "            if start >= 6000:\n",
    "                break\n",
    "            time.sleep(6)\n",
    "    return data"
   ]
  },
  {
   "cell_type": "markdown",
   "id": "db33924a",
   "metadata": {},
   "source": [
    "### Выделение текста статьи по html-ссылке"
   ]
  },
  {
   "cell_type": "code",
   "execution_count": 4,
   "id": "2cddf940",
   "metadata": {
    "ExecuteTime": {
     "end_time": "2024-12-21T15:24:02.119017Z",
     "start_time": "2024-12-21T15:24:02.111162Z"
    }
   },
   "outputs": [],
   "source": [
    "import requests\n",
    "from bs4 import BeautifulSoup\n",
    "import re"
   ]
  },
  {
   "cell_type": "code",
   "execution_count": 4,
   "id": "818b9728",
   "metadata": {
    "ExecuteTime": {
     "end_time": "2024-12-24T19:43:42.636452Z",
     "start_time": "2024-12-24T19:43:42.626130Z"
    }
   },
   "outputs": [],
   "source": [
    "def fetch_html(url):\n",
    "    \"\"\"\n",
    "    Fetches the HTML content of the given URL.\n",
    "    \"\"\"\n",
    "    response = requests.get(url)\n",
    "    if response.status_code == 200:\n",
    "        return response.text\n",
    "    else:\n",
    "        raise Exception(f\"Failed to fetch the URL: {url}\")\n",
    "        \n",
    "def parse_article_html(html_content):\n",
    "    \"\"\"\n",
    "    Parses the HTML content of the Arxiv article to extract the clean text.\n",
    "    \"\"\"\n",
    "    soup = BeautifulSoup(html_content, 'html.parser')\n",
    "    article = soup.find(\"article\")\n",
    "    # Remove unnecessary elements like images, tables, and acknowledgments\n",
    "    for element in article.find_all(['script', 'style', 'noscript', 'table', 'img', 'figcaption', 'blockquote', \"figure\"]):\n",
    "        element.decompose()\n",
    "    \n",
    "    article_structure = dict()\n",
    "    # Extract the title (optional)\n",
    "    title = article.find('h1', {'class': 'ltx_title ltx_title_document'})\n",
    "    title_text = title.get_text(strip=True) if title else \"No Title Found\"\n",
    "    article_structure[\"title_text\"] = title_text\n",
    "    # Extract the abstract\n",
    "    abstract = article.find(\"div\", {\"class\": \"ltx_abstract\"})\n",
    "    if abstract is not None:\n",
    "        abstract_p = abstract.find(\"p\")\n",
    "        abstract_text = abstract_p.get_text(strip=True) if abstract_p else \"No Abstract Found\"\n",
    "        article_structure[\"abstract_text\"] = abstract_text\n",
    "    # Extract the main content of the article\n",
    "    sections = article.find_all(\"section\", recursive=False)\n",
    "    for section in sections:\n",
    "        section_head = section.find(re.compile(\"h\"))\n",
    "        section_name = section_head.get_text(strip=True) if section_head else \"\"\n",
    "        if not re.search(r'acknowledgment|references', section_name, re.I):\n",
    "            section_text = []\n",
    "            paragraphs = section.find_all(\"p\")\n",
    "            if len(paragraphs) != 0:\n",
    "                for paragraph in paragraphs:\n",
    "                    paragraph_text = paragraph.get_text(strip=True) if paragraph else \"No Paragraph Found\"\n",
    "                    section_text.append(paragraph.get_text(strip=True))\n",
    "                if len(section_text) > 0:\n",
    "                    section_text = \"\\n\".join(section_text)\n",
    "                    article_structure[section_name] = section_text\n",
    "\n",
    "    return article_structure"
   ]
  },
  {
   "cell_type": "code",
   "execution_count": 6,
   "id": "0e60f1e9",
   "metadata": {
    "ExecuteTime": {
     "end_time": "2024-12-21T15:24:06.575964Z",
     "start_time": "2024-12-21T15:24:06.563148Z"
    }
   },
   "outputs": [],
   "source": [
    "import json\n",
    "def write_to_jsonl(data, file_path):\n",
    "    \"\"\"\n",
    "    Write a single JSON object to a JSONL file.\n",
    "    \n",
    "    \"\"\"\n",
    "    with open(file_path, \"a\") as file: \n",
    "        file.write(json.dumps(data) + \"\\n\")"
   ]
  },
  {
   "cell_type": "code",
   "execution_count": 23,
   "id": "eac100a5",
   "metadata": {
    "ExecuteTime": {
     "end_time": "2024-12-19T10:09:23.105260Z",
     "start_time": "2024-12-19T10:09:23.101235Z"
    }
   },
   "outputs": [],
   "source": [
    "jsonl_file_path = \"articles.jsonl\""
   ]
  },
  {
   "cell_type": "code",
   "execution_count": 7,
   "id": "68e657dd",
   "metadata": {
    "ExecuteTime": {
     "end_time": "2024-12-21T15:24:09.803613Z",
     "start_time": "2024-12-21T15:24:09.793017Z"
    }
   },
   "outputs": [],
   "source": [
    "def read_from_jsonl(file_path):\n",
    "    \"\"\"\n",
    "    Read all JSON objects from a JSONL file.\n",
    "    \"\"\"\n",
    "    with open(file_path, \"r\") as file:\n",
    "        return [json.loads(line.strip()) for line in file]"
   ]
  },
  {
   "cell_type": "markdown",
   "id": "38f60ade",
   "metadata": {},
   "source": [
    "### Полный запуск"
   ]
  },
  {
   "cell_type": "code",
   "execution_count": 35,
   "id": "5f88d85c",
   "metadata": {
    "ExecuteTime": {
     "end_time": "2024-12-19T10:19:36.009548Z",
     "start_time": "2024-12-19T10:19:36.006250Z"
    }
   },
   "outputs": [],
   "source": [
    "jsonl_file_path = \"articles.jsonl\""
   ]
  },
  {
   "cell_type": "code",
   "execution_count": 8,
   "id": "bdc36223",
   "metadata": {
    "ExecuteTime": {
     "end_time": "2024-12-21T15:24:12.754471Z",
     "start_time": "2024-12-21T15:24:12.734806Z"
    }
   },
   "outputs": [],
   "source": [
    "num_articles_by_category={\"CS.AI\": 1000,\n",
    "                          \"cs.CC\": 1000,\n",
    "                          \"cs.DB\": 1000,\n",
    "                          \"cs.DM\": 500,\n",
    "                          \"cs.DS\": 700,\n",
    "                          \"cs.IR\": 1000,\n",
    "                          \"cs.LG\": 1000,\n",
    "                          \"stat.ML\": 500\n",
    "                         }"
   ]
  },
  {
   "cell_type": "code",
   "execution_count": null,
   "id": "b91a68fb",
   "metadata": {
    "ExecuteTime": {
     "start_time": "2024-12-19T21:06:34.924Z"
    }
   },
   "outputs": [
    {
     "data": {
      "application/vnd.jupyter.widget-view+json": {
       "model_id": "dc8383ab43924a77ae425e52b780decd",
       "version_major": 2,
       "version_minor": 0
      },
      "text/plain": [
       "Total progress parsing meta for all categories:   0%|          | 0/8 [00:00<?, ?it/s]"
      ]
     },
     "metadata": {},
     "output_type": "display_data"
    },
    {
     "data": {
      "application/vnd.jupyter.widget-view+json": {
       "model_id": "f03829691cc44ae094ecc514f3a93587",
       "version_major": 2,
       "version_minor": 0
      },
      "text/plain": [
       "CS.AI: Parsing category html links:   0%|          | 0/1000 [00:00<?, ?it/s]"
      ]
     },
     "metadata": {},
     "output_type": "display_data"
    },
    {
     "data": {
      "application/vnd.jupyter.widget-view+json": {
       "model_id": "a4960f81f9074033b947127053ff6b5c",
       "version_major": 2,
       "version_minor": 0
      },
      "text/plain": [
       "CS.AI: Parsing text from html links: 0it [00:00, ?it/s]"
      ]
     },
     "metadata": {},
     "output_type": "display_data"
    },
    {
     "name": "stdout",
     "output_type": "stream",
     "text": [
      "Something wrong with article cat=CS.AI, index=147, html_link=http://arxiv.org/html/2404.11064v3:\n",
      "'NoneType' object has no attribute 'find_all'\n",
      "Something wrong with article cat=CS.AI, index=157, html_link=http://arxiv.org/html/2412.13461v1:\n",
      "'NoneType' object has no attribute 'find_all'\n",
      "Something wrong with article cat=CS.AI, index=165, html_link=http://arxiv.org/html/2412.13441v1:\n",
      "'NoneType' object has no attribute 'find_all'\n",
      "Something wrong with article cat=CS.AI, index=179, html_link=http://arxiv.org/html/2412.13386v1:\n",
      "'NoneType' object has no attribute 'find_all'\n",
      "Something wrong with article cat=CS.AI, index=228, html_link=http://arxiv.org/html/2412.13238v1:\n",
      "'NoneType' object has no attribute 'find_all'\n",
      "Something wrong with article cat=CS.AI, index=785, html_link=http://arxiv.org/html/2410.08760v2:\n",
      "'NoneType' object has no attribute 'find_all'\n",
      "Something wrong with article cat=CS.AI, index=896, html_link=http://arxiv.org/html/2406.05348v2:\n",
      "'NoneType' object has no attribute 'find_all'\n"
     ]
    },
    {
     "data": {
      "application/vnd.jupyter.widget-view+json": {
       "model_id": "d9a93db5005d41db84b7face5f8fbe4e",
       "version_major": 2,
       "version_minor": 0
      },
      "text/plain": [
       "cs.CC: Parsing category html links:   0%|          | 0/1000 [00:00<?, ?it/s]"
      ]
     },
     "metadata": {},
     "output_type": "display_data"
    },
    {
     "data": {
      "application/vnd.jupyter.widget-view+json": {
       "model_id": "bc3405a4a2f946888cba011c30e9eb27",
       "version_major": 2,
       "version_minor": 0
      },
      "text/plain": [
       "cs.CC: Parsing text from html links: 0it [00:00, ?it/s]"
      ]
     },
     "metadata": {},
     "output_type": "display_data"
    }
   ],
   "source": [
    "import copy\n",
    "jsonl_file_path = \"articles.jsonl\"\n",
    "meta_by_category = {}\n",
    "for cat, num_articles in tqdm(num_articles_by_category.items(), desc=\"Total progress parsing meta for all categories\"):\n",
    "    articles_metadata = parse_arxiv_only_html_by_category(category=cat, top_n=num_articles, max_results=100)\n",
    "    meta_by_category[cat] = articles_metadata\n",
    "    for i, article_meta in tqdm(enumerate(articles_metadata), desc=f\"{cat}: Parsing text from html links\"):\n",
    "        article_html = article_meta[\"html_link\"]\n",
    "        try:\n",
    "            article_structure = copy.deepcopy(article_meta)\n",
    "            article_structure[\"parsing_result\"] = parse_article_html(fetch_html(article_html))\n",
    "            article_structure[\"category\"] = cat\n",
    "            write_to_jsonl(article_structure, jsonl_file_path)\n",
    "            del article_structure\n",
    "        except Exception as e:\n",
    "            print(f\"Something wrong with article cat={cat}, index={i}, html_link={article_html}:\\n{e}\")\n",
    "        time.sleep(6)"
   ]
  },
  {
   "cell_type": "markdown",
   "id": "cef817f6",
   "metadata": {},
   "source": [
    "### Парсинг для RAGAS"
   ]
  },
  {
   "cell_type": "code",
   "execution_count": 9,
   "id": "95c9d8f9",
   "metadata": {
    "ExecuteTime": {
     "end_time": "2024-12-21T15:24:24.962759Z",
     "start_time": "2024-12-21T15:24:16.510488Z"
    }
   },
   "outputs": [],
   "source": [
    "df = pd.read_parquet(\"hf://datasets/taesiri/arxiv_qa/data/train-00000-of-00001.parquet\")"
   ]
  },
  {
   "cell_type": "code",
   "execution_count": 10,
   "id": "6903bb02",
   "metadata": {
    "ExecuteTime": {
     "end_time": "2024-12-21T15:24:24.986454Z",
     "start_time": "2024-12-21T15:24:24.967251Z"
    }
   },
   "outputs": [
    {
     "data": {
      "text/html": [
       "<div>\n",
       "<style scoped>\n",
       "    .dataframe tbody tr th:only-of-type {\n",
       "        vertical-align: middle;\n",
       "    }\n",
       "\n",
       "    .dataframe tbody tr th {\n",
       "        vertical-align: top;\n",
       "    }\n",
       "\n",
       "    .dataframe thead th {\n",
       "        text-align: right;\n",
       "    }\n",
       "</style>\n",
       "<table border=\"1\" class=\"dataframe\">\n",
       "  <thead>\n",
       "    <tr style=\"text-align: right;\">\n",
       "      <th></th>\n",
       "      <th>paper_id</th>\n",
       "      <th>model</th>\n",
       "      <th>question</th>\n",
       "      <th>answer</th>\n",
       "    </tr>\n",
       "  </thead>\n",
       "  <tbody>\n",
       "    <tr>\n",
       "      <th>210560</th>\n",
       "      <td>1709.07807</td>\n",
       "      <td>claude-2.0</td>\n",
       "      <td>Design 10 in-depth questions about method prop...</td>\n",
       "      <td>Here are 10 in-depth questions about the meth...</td>\n",
       "    </tr>\n",
       "    <tr>\n",
       "      <th>210561</th>\n",
       "      <td>1709.07807</td>\n",
       "      <td>claude-2.0</td>\n",
       "      <td>Summarize the paper in one sentence.</td>\n",
       "      <td>The paper introduces a category theoretic fra...</td>\n",
       "    </tr>\n",
       "    <tr>\n",
       "      <th>210562</th>\n",
       "      <td>1709.07807</td>\n",
       "      <td>claude-2.0</td>\n",
       "      <td>Summarize the paper in one paragraphs.</td>\n",
       "      <td>Here is a one paragraph summary of the paper:...</td>\n",
       "    </tr>\n",
       "    <tr>\n",
       "      <th>210563</th>\n",
       "      <td>1709.07807</td>\n",
       "      <td>claude-2.0</td>\n",
       "      <td>Design 10 in-depth questions about the method ...</td>\n",
       "      <td>Here are 10 potential in-depth questions abou...</td>\n",
       "    </tr>\n",
       "    <tr>\n",
       "      <th>210564</th>\n",
       "      <td>1709.07807</td>\n",
       "      <td>claude-2.0</td>\n",
       "      <td>Write a very high-quality paragraph summarizin...</td>\n",
       "      <td>Here is a high-quality paragraph summarizing ...</td>\n",
       "    </tr>\n",
       "    <tr>\n",
       "      <th>210565</th>\n",
       "      <td>0909.0910</td>\n",
       "      <td>claude-2.0</td>\n",
       "      <td>What is the central research question or hypot...</td>\n",
       "      <td>This paper addresses the question of whether ...</td>\n",
       "    </tr>\n",
       "    <tr>\n",
       "      <th>210566</th>\n",
       "      <td>0909.0910</td>\n",
       "      <td>claude-2.0</td>\n",
       "      <td>What is the main contribution of this paper?</td>\n",
       "      <td>This paper presents a new Lax pair for the 2D...</td>\n",
       "    </tr>\n",
       "    <tr>\n",
       "      <th>210567</th>\n",
       "      <td>0909.0910</td>\n",
       "      <td>claude-2.0</td>\n",
       "      <td>What is the TL;DR (Too Long, Didn't Read) vers...</td>\n",
       "      <td>Here is a one sentence TL;DR summary of the p...</td>\n",
       "    </tr>\n",
       "    <tr>\n",
       "      <th>210568</th>\n",
       "      <td>0909.0910</td>\n",
       "      <td>claude-2.0</td>\n",
       "      <td>How does this paper compare to other research ...</td>\n",
       "      <td>This paper presents a new method for generati...</td>\n",
       "    </tr>\n",
       "    <tr>\n",
       "      <th>210569</th>\n",
       "      <td>0909.0910</td>\n",
       "      <td>claude-2.0</td>\n",
       "      <td>What future research directions do the authors...</td>\n",
       "      <td>Here are some key future research directions ...</td>\n",
       "    </tr>\n",
       "    <tr>\n",
       "      <th>210570</th>\n",
       "      <td>0909.0910</td>\n",
       "      <td>claude-2.0</td>\n",
       "      <td>Summarize the paper in one paragraph.</td>\n",
       "      <td>Here is a one paragraph summary of the paper:...</td>\n",
       "    </tr>\n",
       "    <tr>\n",
       "      <th>210571</th>\n",
       "      <td>0909.0910</td>\n",
       "      <td>claude-2.0</td>\n",
       "      <td>Summarize the paper in two paragraphs.</td>\n",
       "      <td>Here is a two paragraph summary of the paper ...</td>\n",
       "    </tr>\n",
       "    <tr>\n",
       "      <th>210572</th>\n",
       "      <td>0909.0910</td>\n",
       "      <td>claude-2.0</td>\n",
       "      <td>Summarize the main method used in the paper in...</td>\n",
       "      <td>The paper \"Homoclinic tubes in nonlinear Schr...</td>\n",
       "    </tr>\n",
       "    <tr>\n",
       "      <th>210573</th>\n",
       "      <td>0909.0910</td>\n",
       "      <td>claude-2.0</td>\n",
       "      <td>What problem or question is the paper addressing?</td>\n",
       "      <td>This paper addresses the problem of long-term...</td>\n",
       "    </tr>\n",
       "    <tr>\n",
       "      <th>210574</th>\n",
       "      <td>0909.0910</td>\n",
       "      <td>claude-2.0</td>\n",
       "      <td>What are the keywords or key terms associated ...</td>\n",
       "      <td>Based on my reading of the paper summary, som...</td>\n",
       "    </tr>\n",
       "    <tr>\n",
       "      <th>210575</th>\n",
       "      <td>0909.0910</td>\n",
       "      <td>claude-2.0</td>\n",
       "      <td>Based on the paper, what questions should we a...</td>\n",
       "      <td>Here are 10 potential questions to create a c...</td>\n",
       "    </tr>\n",
       "    <tr>\n",
       "      <th>210576</th>\n",
       "      <td>0909.0910</td>\n",
       "      <td>claude-2.0</td>\n",
       "      <td>Design 10 in-depth questions about method prop...</td>\n",
       "      <td>Here are 10 potential in-depth questions abou...</td>\n",
       "    </tr>\n",
       "    <tr>\n",
       "      <th>210577</th>\n",
       "      <td>0909.0910</td>\n",
       "      <td>claude-2.0</td>\n",
       "      <td>Summarize the paper in one sentence.</td>\n",
       "      <td>Here is a one sentence summary of the paper:\\...</td>\n",
       "    </tr>\n",
       "    <tr>\n",
       "      <th>210578</th>\n",
       "      <td>0909.0910</td>\n",
       "      <td>claude-2.0</td>\n",
       "      <td>Summarize the paper in one paragraphs.</td>\n",
       "      <td>Here is a one paragraph summary of the paper:...</td>\n",
       "    </tr>\n",
       "    <tr>\n",
       "      <th>210579</th>\n",
       "      <td>0909.0910</td>\n",
       "      <td>claude-2.0</td>\n",
       "      <td>Design 10 in-depth questions about the method ...</td>\n",
       "      <td>Here are 10 potential in-depth questions abou...</td>\n",
       "    </tr>\n",
       "  </tbody>\n",
       "</table>\n",
       "</div>"
      ],
      "text/plain": [
       "          paper_id       model  \\\n",
       "210560  1709.07807  claude-2.0   \n",
       "210561  1709.07807  claude-2.0   \n",
       "210562  1709.07807  claude-2.0   \n",
       "210563  1709.07807  claude-2.0   \n",
       "210564  1709.07807  claude-2.0   \n",
       "210565   0909.0910  claude-2.0   \n",
       "210566   0909.0910  claude-2.0   \n",
       "210567   0909.0910  claude-2.0   \n",
       "210568   0909.0910  claude-2.0   \n",
       "210569   0909.0910  claude-2.0   \n",
       "210570   0909.0910  claude-2.0   \n",
       "210571   0909.0910  claude-2.0   \n",
       "210572   0909.0910  claude-2.0   \n",
       "210573   0909.0910  claude-2.0   \n",
       "210574   0909.0910  claude-2.0   \n",
       "210575   0909.0910  claude-2.0   \n",
       "210576   0909.0910  claude-2.0   \n",
       "210577   0909.0910  claude-2.0   \n",
       "210578   0909.0910  claude-2.0   \n",
       "210579   0909.0910  claude-2.0   \n",
       "\n",
       "                                                 question  \\\n",
       "210560  Design 10 in-depth questions about method prop...   \n",
       "210561               Summarize the paper in one sentence.   \n",
       "210562             Summarize the paper in one paragraphs.   \n",
       "210563  Design 10 in-depth questions about the method ...   \n",
       "210564  Write a very high-quality paragraph summarizin...   \n",
       "210565  What is the central research question or hypot...   \n",
       "210566       What is the main contribution of this paper?   \n",
       "210567  What is the TL;DR (Too Long, Didn't Read) vers...   \n",
       "210568  How does this paper compare to other research ...   \n",
       "210569  What future research directions do the authors...   \n",
       "210570              Summarize the paper in one paragraph.   \n",
       "210571             Summarize the paper in two paragraphs.   \n",
       "210572  Summarize the main method used in the paper in...   \n",
       "210573  What problem or question is the paper addressing?   \n",
       "210574  What are the keywords or key terms associated ...   \n",
       "210575  Based on the paper, what questions should we a...   \n",
       "210576  Design 10 in-depth questions about method prop...   \n",
       "210577               Summarize the paper in one sentence.   \n",
       "210578             Summarize the paper in one paragraphs.   \n",
       "210579  Design 10 in-depth questions about the method ...   \n",
       "\n",
       "                                                   answer  \n",
       "210560   Here are 10 in-depth questions about the meth...  \n",
       "210561   The paper introduces a category theoretic fra...  \n",
       "210562   Here is a one paragraph summary of the paper:...  \n",
       "210563   Here are 10 potential in-depth questions abou...  \n",
       "210564   Here is a high-quality paragraph summarizing ...  \n",
       "210565   This paper addresses the question of whether ...  \n",
       "210566   This paper presents a new Lax pair for the 2D...  \n",
       "210567   Here is a one sentence TL;DR summary of the p...  \n",
       "210568   This paper presents a new method for generati...  \n",
       "210569   Here are some key future research directions ...  \n",
       "210570   Here is a one paragraph summary of the paper:...  \n",
       "210571   Here is a two paragraph summary of the paper ...  \n",
       "210572   The paper \"Homoclinic tubes in nonlinear Schr...  \n",
       "210573   This paper addresses the problem of long-term...  \n",
       "210574   Based on my reading of the paper summary, som...  \n",
       "210575   Here are 10 potential questions to create a c...  \n",
       "210576   Here are 10 potential in-depth questions abou...  \n",
       "210577   Here is a one sentence summary of the paper:\\...  \n",
       "210578   Here is a one paragraph summary of the paper:...  \n",
       "210579   Here are 10 potential in-depth questions abou...  "
      ]
     },
     "execution_count": 10,
     "metadata": {},
     "output_type": "execute_result"
    }
   ],
   "source": [
    "df.tail(20)"
   ]
  },
  {
   "cell_type": "code",
   "execution_count": 11,
   "id": "16797cc6",
   "metadata": {
    "ExecuteTime": {
     "end_time": "2024-12-21T14:51:00.417808Z",
     "start_time": "2024-12-21T14:51:00.408028Z"
    }
   },
   "outputs": [
    {
     "data": {
      "text/plain": [
       "(210580, 4)"
      ]
     },
     "execution_count": 11,
     "metadata": {},
     "output_type": "execute_result"
    }
   ],
   "source": [
    "df.shape"
   ]
  },
  {
   "cell_type": "code",
   "execution_count": 11,
   "id": "7a625f01",
   "metadata": {
    "ExecuteTime": {
     "end_time": "2024-12-21T15:24:36.182607Z",
     "start_time": "2024-12-21T15:24:36.144897Z"
    }
   },
   "outputs": [],
   "source": [
    "paper_ids = list(df[\"paper_id\"].value_counts(dropna=False).sort_values(ascending=False).index)"
   ]
  },
  {
   "cell_type": "code",
   "execution_count": 14,
   "id": "c852c63c",
   "metadata": {
    "ExecuteTime": {
     "end_time": "2024-12-21T15:24:43.142295Z",
     "start_time": "2024-12-21T15:24:43.128089Z"
    }
   },
   "outputs": [
    {
     "data": {
      "text/plain": [
       "dict_keys(['CS.AI', 'cs.CC', 'cs.DB', 'cs.DM', 'cs.DS', 'cs.IR', 'cs.LG', 'stat.ML'])"
      ]
     },
     "execution_count": 14,
     "metadata": {},
     "output_type": "execute_result"
    }
   ],
   "source": [
    "available_cats = num_articles_by_category.keys()\n",
    "available_cats"
   ]
  },
  {
   "cell_type": "code",
   "execution_count": 17,
   "id": "468e370a",
   "metadata": {
    "ExecuteTime": {
     "end_time": "2024-12-21T15:27:18.804371Z",
     "start_time": "2024-12-21T15:27:18.782823Z"
    }
   },
   "outputs": [],
   "source": [
    "def ragas_parsing(paper_ids, available_cats, top_n):\n",
    "    batch_size = 100\n",
    "    data = []\n",
    "    with tqdm(total=top_n, desc=\"Total process\") as pbar:\n",
    "        for i in range(0, len(paper_ids), batch_size):\n",
    "            idx_batch = paper_ids[i: i + batch_size]\n",
    "            articles_ids = \",\".join(idx_batch)\n",
    "            query = f\"http://export.arxiv.org/api/query?id_list={articles_ids}&sortBy=lastUpdatedDate\"\n",
    "            feed = feedparser.parse(query)\n",
    "            time.sleep(6)\n",
    "            for entry in feed.entries:\n",
    "                html_link = entry.link.replace(\"abs\", \"html\")\n",
    "                status_code = requests.get(html_link).status_code\n",
    "                time.sleep(6)\n",
    "                if (200 <= status_code) and (status_code < 300):\n",
    "                    cats = [tag[\"term\"] for tag in entry.tags]\n",
    "                    if any(cat in available_cats for cat in cats):\n",
    "                        meta = dict(entry)\n",
    "                        meta[\"html_link\"] = entry.link.replace(\"abs\", \"html\")\n",
    "                        try:\n",
    "                            meta[\"parsing_result\"] = parse_article_html(fetch_html(html_link))\n",
    "                            meta[\"category\"] = cats[0]\n",
    "                            time.sleep(6)\n",
    "                            data.append(meta)\n",
    "                            write_to_jsonl(meta, \"articles.jsonl\")\n",
    "                            pbar.update(1)\n",
    "                            if len(data) == top_n:\n",
    "                                return data\n",
    "                        except Exception as e:\n",
    "                            print(f\"article: {html_link}\\nexception:{e}\")\n",
    "    print(f\"Find only {len(data)} papers\")\n",
    "    return data"
   ]
  },
  {
   "cell_type": "code",
   "execution_count": 18,
   "id": "e4cc7ff1",
   "metadata": {
    "ExecuteTime": {
     "end_time": "2024-12-21T16:35:33.279672Z",
     "start_time": "2024-12-21T15:27:19.704883Z"
    }
   },
   "outputs": [
    {
     "data": {
      "application/vnd.jupyter.widget-view+json": {
       "model_id": "73df5287b5374900998ddfd4669c7372",
       "version_major": 2,
       "version_minor": 0
      },
      "text/plain": [
       "Total process:   0%|          | 0/25 [00:00<?, ?it/s]"
      ]
     },
     "metadata": {},
     "output_type": "display_data"
    }
   ],
   "source": [
    "ragas_data = ragas_parsing(paper_ids, available_cats, top_n=25)"
   ]
  },
  {
   "cell_type": "markdown",
   "id": "82df296b",
   "metadata": {},
   "source": [
    "### Добавление Attention is all you need "
   ]
  },
  {
   "cell_type": "code",
   "execution_count": 19,
   "id": "d576862d",
   "metadata": {
    "ExecuteTime": {
     "end_time": "2024-12-21T16:50:47.675544Z",
     "start_time": "2024-12-21T16:50:47.192321Z"
    }
   },
   "outputs": [],
   "source": [
    "article_id = \"1706.03762\"\n",
    "article_link = \"http://arxiv.org/abs/\" + article_id\n",
    "base_url = f\"http://export.arxiv.org/api/query?id_list={article_id}&sortBy=lastUpdatedDate\"\n",
    "feed = feedparser.parse(base_url)"
   ]
  },
  {
   "cell_type": "code",
   "execution_count": 23,
   "id": "f2b41dfb",
   "metadata": {
    "ExecuteTime": {
     "end_time": "2024-12-21T16:51:04.315524Z",
     "start_time": "2024-12-21T16:51:04.306054Z"
    }
   },
   "outputs": [
    {
     "data": {
      "text/plain": [
       "[{'id': 'http://arxiv.org/abs/1706.03762v7',\n",
       "  'guidislink': True,\n",
       "  'link': 'http://arxiv.org/abs/1706.03762v7',\n",
       "  'updated': '2023-08-02T00:41:18Z',\n",
       "  'updated_parsed': time.struct_time(tm_year=2023, tm_mon=8, tm_mday=2, tm_hour=0, tm_min=41, tm_sec=18, tm_wday=2, tm_yday=214, tm_isdst=0),\n",
       "  'published': '2017-06-12T17:57:34Z',\n",
       "  'published_parsed': time.struct_time(tm_year=2017, tm_mon=6, tm_mday=12, tm_hour=17, tm_min=57, tm_sec=34, tm_wday=0, tm_yday=163, tm_isdst=0),\n",
       "  'title': 'Attention Is All You Need',\n",
       "  'title_detail': {'type': 'text/plain',\n",
       "   'language': None,\n",
       "   'base': 'http://export.arxiv.org/api/query?id_list=1706.03762&sortBy=lastUpdatedDate',\n",
       "   'value': 'Attention Is All You Need'},\n",
       "  'summary': 'The dominant sequence transduction models are based on complex recurrent or\\nconvolutional neural networks in an encoder-decoder configuration. The best\\nperforming models also connect the encoder and decoder through an attention\\nmechanism. We propose a new simple network architecture, the Transformer, based\\nsolely on attention mechanisms, dispensing with recurrence and convolutions\\nentirely. Experiments on two machine translation tasks show these models to be\\nsuperior in quality while being more parallelizable and requiring significantly\\nless time to train. Our model achieves 28.4 BLEU on the WMT 2014\\nEnglish-to-German translation task, improving over the existing best results,\\nincluding ensembles by over 2 BLEU. On the WMT 2014 English-to-French\\ntranslation task, our model establishes a new single-model state-of-the-art\\nBLEU score of 41.8 after training for 3.5 days on eight GPUs, a small fraction\\nof the training costs of the best models from the literature. We show that the\\nTransformer generalizes well to other tasks by applying it successfully to\\nEnglish constituency parsing both with large and limited training data.',\n",
       "  'summary_detail': {'type': 'text/plain',\n",
       "   'language': None,\n",
       "   'base': 'http://export.arxiv.org/api/query?id_list=1706.03762&sortBy=lastUpdatedDate',\n",
       "   'value': 'The dominant sequence transduction models are based on complex recurrent or\\nconvolutional neural networks in an encoder-decoder configuration. The best\\nperforming models also connect the encoder and decoder through an attention\\nmechanism. We propose a new simple network architecture, the Transformer, based\\nsolely on attention mechanisms, dispensing with recurrence and convolutions\\nentirely. Experiments on two machine translation tasks show these models to be\\nsuperior in quality while being more parallelizable and requiring significantly\\nless time to train. Our model achieves 28.4 BLEU on the WMT 2014\\nEnglish-to-German translation task, improving over the existing best results,\\nincluding ensembles by over 2 BLEU. On the WMT 2014 English-to-French\\ntranslation task, our model establishes a new single-model state-of-the-art\\nBLEU score of 41.8 after training for 3.5 days on eight GPUs, a small fraction\\nof the training costs of the best models from the literature. We show that the\\nTransformer generalizes well to other tasks by applying it successfully to\\nEnglish constituency parsing both with large and limited training data.'},\n",
       "  'authors': [{'name': 'Ashish Vaswani'},\n",
       "   {'name': 'Noam Shazeer'},\n",
       "   {'name': 'Niki Parmar'},\n",
       "   {'name': 'Jakob Uszkoreit'},\n",
       "   {'name': 'Llion Jones'},\n",
       "   {'name': 'Aidan N. Gomez'},\n",
       "   {'name': 'Lukasz Kaiser'},\n",
       "   {'name': 'Illia Polosukhin'}],\n",
       "  'author_detail': {'name': 'Illia Polosukhin'},\n",
       "  'author': 'Illia Polosukhin',\n",
       "  'arxiv_comment': '15 pages, 5 figures',\n",
       "  'links': [{'href': 'http://arxiv.org/abs/1706.03762v7',\n",
       "    'rel': 'alternate',\n",
       "    'type': 'text/html'},\n",
       "   {'title': 'pdf',\n",
       "    'href': 'http://arxiv.org/pdf/1706.03762v7',\n",
       "    'rel': 'related',\n",
       "    'type': 'application/pdf'}],\n",
       "  'arxiv_primary_category': {'term': 'cs.CL',\n",
       "   'scheme': 'http://arxiv.org/schemas/atom'},\n",
       "  'tags': [{'term': 'cs.CL',\n",
       "    'scheme': 'http://arxiv.org/schemas/atom',\n",
       "    'label': None},\n",
       "   {'term': 'cs.LG',\n",
       "    'scheme': 'http://arxiv.org/schemas/atom',\n",
       "    'label': None}]}]"
      ]
     },
     "execution_count": 23,
     "metadata": {},
     "output_type": "execute_result"
    }
   ],
   "source": [
    "feed.entries"
   ]
  },
  {
   "cell_type": "code",
   "execution_count": 24,
   "id": "a47e6377",
   "metadata": {
    "ExecuteTime": {
     "end_time": "2024-12-21T16:51:32.355542Z",
     "start_time": "2024-12-21T16:51:32.351801Z"
    }
   },
   "outputs": [],
   "source": [
    "html_link = feed.entries[0].link.replace(\"abs\", \"html\")"
   ]
  },
  {
   "cell_type": "code",
   "execution_count": 25,
   "id": "f3fc01fc",
   "metadata": {
    "ExecuteTime": {
     "end_time": "2024-12-21T16:51:44.171942Z",
     "start_time": "2024-12-21T16:51:44.080356Z"
    }
   },
   "outputs": [
    {
     "data": {
      "text/plain": [
       "200"
      ]
     },
     "execution_count": 25,
     "metadata": {},
     "output_type": "execute_result"
    }
   ],
   "source": [
    "requests.get(html_link).status_code"
   ]
  },
  {
   "cell_type": "code",
   "execution_count": 26,
   "id": "a38ebd32",
   "metadata": {
    "ExecuteTime": {
     "end_time": "2024-12-21T16:52:25.458704Z",
     "start_time": "2024-12-21T16:52:20.528791Z"
    }
   },
   "outputs": [],
   "source": [
    "data = pd.read_json(\"articles.jsonl\", lines=True)"
   ]
  },
  {
   "cell_type": "code",
   "execution_count": 30,
   "id": "dbb292f6",
   "metadata": {
    "ExecuteTime": {
     "end_time": "2024-12-21T16:53:07.035844Z",
     "start_time": "2024-12-21T16:53:07.029045Z"
    }
   },
   "outputs": [
    {
     "data": {
      "text/plain": [
       "False"
      ]
     },
     "execution_count": 30,
     "metadata": {},
     "output_type": "execute_result"
    }
   ],
   "source": [
    "feed.entries[0].id in data[\"id\"]"
   ]
  },
  {
   "cell_type": "code",
   "execution_count": 33,
   "id": "055dd983",
   "metadata": {
    "ExecuteTime": {
     "end_time": "2024-12-21T16:54:07.858316Z",
     "start_time": "2024-12-21T16:54:07.853049Z"
    }
   },
   "outputs": [],
   "source": [
    "meta = dict(feed.entries[0])\n",
    "meta[\"html_link\"] = feed.entries[0].link.replace(\"abs\", \"html\")"
   ]
  },
  {
   "cell_type": "code",
   "execution_count": 35,
   "id": "35651f3d",
   "metadata": {
    "ExecuteTime": {
     "end_time": "2024-12-21T16:54:43.986267Z",
     "start_time": "2024-12-21T16:54:43.638586Z"
    }
   },
   "outputs": [],
   "source": [
    "meta[\"parsing_result\"] = parse_article_html(fetch_html(meta[\"html_link\"]))"
   ]
  },
  {
   "cell_type": "code",
   "execution_count": 36,
   "id": "ebd2d254",
   "metadata": {
    "ExecuteTime": {
     "end_time": "2024-12-21T16:55:14.322864Z",
     "start_time": "2024-12-21T16:55:14.318805Z"
    }
   },
   "outputs": [],
   "source": [
    "meta[\"category\"] = \"cs.LG\""
   ]
  },
  {
   "cell_type": "code",
   "execution_count": 37,
   "id": "c52de841",
   "metadata": {
    "ExecuteTime": {
     "end_time": "2024-12-21T16:55:21.186626Z",
     "start_time": "2024-12-21T16:55:21.182314Z"
    }
   },
   "outputs": [],
   "source": [
    "write_to_jsonl(meta, \"articles.jsonl\")"
   ]
  },
  {
   "cell_type": "markdown",
   "id": "6535a436",
   "metadata": {},
   "source": [
    "### Устранение дубликатов"
   ]
  },
  {
   "cell_type": "code",
   "execution_count": 38,
   "id": "9b3d9ab3",
   "metadata": {
    "ExecuteTime": {
     "end_time": "2024-12-21T16:55:36.667298Z",
     "start_time": "2024-12-21T16:55:32.140847Z"
    }
   },
   "outputs": [],
   "source": [
    "data = pd.read_json(\"articles.jsonl\", lines=True)"
   ]
  },
  {
   "cell_type": "code",
   "execution_count": 39,
   "id": "395ee98b",
   "metadata": {
    "ExecuteTime": {
     "end_time": "2024-12-21T16:55:36.723490Z",
     "start_time": "2024-12-21T16:55:36.695454Z"
    }
   },
   "outputs": [
    {
     "data": {
      "text/html": [
       "<div>\n",
       "<style scoped>\n",
       "    .dataframe tbody tr th:only-of-type {\n",
       "        vertical-align: middle;\n",
       "    }\n",
       "\n",
       "    .dataframe tbody tr th {\n",
       "        vertical-align: top;\n",
       "    }\n",
       "\n",
       "    .dataframe thead th {\n",
       "        text-align: right;\n",
       "    }\n",
       "</style>\n",
       "<table border=\"1\" class=\"dataframe\">\n",
       "  <thead>\n",
       "    <tr style=\"text-align: right;\">\n",
       "      <th></th>\n",
       "      <th>id</th>\n",
       "      <th>guidislink</th>\n",
       "      <th>link</th>\n",
       "      <th>updated</th>\n",
       "      <th>updated_parsed</th>\n",
       "      <th>published</th>\n",
       "      <th>published_parsed</th>\n",
       "      <th>title</th>\n",
       "      <th>title_detail</th>\n",
       "      <th>summary</th>\n",
       "      <th>...</th>\n",
       "      <th>links</th>\n",
       "      <th>arxiv_primary_category</th>\n",
       "      <th>tags</th>\n",
       "      <th>html_link</th>\n",
       "      <th>parsing_result</th>\n",
       "      <th>category</th>\n",
       "      <th>arxiv_comment</th>\n",
       "      <th>arxiv_doi</th>\n",
       "      <th>arxiv_journal_ref</th>\n",
       "      <th>arxiv_affiliation</th>\n",
       "    </tr>\n",
       "  </thead>\n",
       "  <tbody>\n",
       "    <tr>\n",
       "      <th>0</th>\n",
       "      <td>http://arxiv.org/abs/2412.14170v1</td>\n",
       "      <td>True</td>\n",
       "      <td>http://arxiv.org/abs/2412.14170v1</td>\n",
       "      <td>2024-12-18T18:59:53Z</td>\n",
       "      <td>[2024, 12, 18, 18, 59, 53, 2, 353, 0]</td>\n",
       "      <td>2024-12-18T18:59:53Z</td>\n",
       "      <td>[2024, 12, 18, 18, 59, 53, 2, 353, 0]</td>\n",
       "      <td>E-CAR: Efficient Continuous Autoregressive Ima...</td>\n",
       "      <td>{'type': 'text/plain', 'language': None, 'base...</td>\n",
       "      <td>Recent advances in autoregressive (AR) models ...</td>\n",
       "      <td>...</td>\n",
       "      <td>[{'href': 'http://arxiv.org/abs/2412.14170v1',...</td>\n",
       "      <td>{'term': 'cs.CV', 'scheme': 'http://arxiv.org/...</td>\n",
       "      <td>[{'term': 'cs.CV', 'scheme': 'http://arxiv.org...</td>\n",
       "      <td>http://arxiv.org/html/2412.14170v1</td>\n",
       "      <td>{'title_text': 'E-CAR: Efficient Continuous Au...</td>\n",
       "      <td>CS.AI</td>\n",
       "      <td>NaN</td>\n",
       "      <td>NaN</td>\n",
       "      <td>NaN</td>\n",
       "      <td>NaN</td>\n",
       "    </tr>\n",
       "    <tr>\n",
       "      <th>1</th>\n",
       "      <td>http://arxiv.org/abs/2412.14167v1</td>\n",
       "      <td>True</td>\n",
       "      <td>http://arxiv.org/abs/2412.14167v1</td>\n",
       "      <td>2024-12-18T18:59:49Z</td>\n",
       "      <td>[2024, 12, 18, 18, 59, 49, 2, 353, 0]</td>\n",
       "      <td>2024-12-18T18:59:49Z</td>\n",
       "      <td>[2024, 12, 18, 18, 59, 49, 2, 353, 0]</td>\n",
       "      <td>VideoDPO: Omni-Preference Alignment for Video ...</td>\n",
       "      <td>{'type': 'text/plain', 'language': None, 'base...</td>\n",
       "      <td>Recent progress in generative diffusion models...</td>\n",
       "      <td>...</td>\n",
       "      <td>[{'href': 'http://arxiv.org/abs/2412.14167v1',...</td>\n",
       "      <td>{'term': 'cs.CV', 'scheme': 'http://arxiv.org/...</td>\n",
       "      <td>[{'term': 'cs.CV', 'scheme': 'http://arxiv.org...</td>\n",
       "      <td>http://arxiv.org/html/2412.14167v1</td>\n",
       "      <td>{'title_text': 'VideoDPO: Omni-Preference Alig...</td>\n",
       "      <td>CS.AI</td>\n",
       "      <td>NaN</td>\n",
       "      <td>NaN</td>\n",
       "      <td>NaN</td>\n",
       "      <td>NaN</td>\n",
       "    </tr>\n",
       "    <tr>\n",
       "      <th>2</th>\n",
       "      <td>http://arxiv.org/abs/2412.14158v1</td>\n",
       "      <td>True</td>\n",
       "      <td>http://arxiv.org/abs/2412.14158v1</td>\n",
       "      <td>2024-12-18T18:53:22Z</td>\n",
       "      <td>[2024, 12, 18, 18, 53, 22, 2, 353, 0]</td>\n",
       "      <td>2024-12-18T18:53:22Z</td>\n",
       "      <td>[2024, 12, 18, 18, 53, 22, 2, 353, 0]</td>\n",
       "      <td>AKiRa: Augmentation Kit on Rays for optical vi...</td>\n",
       "      <td>{'type': 'text/plain', 'language': None, 'base...</td>\n",
       "      <td>Recent advances in text-conditioned video diff...</td>\n",
       "      <td>...</td>\n",
       "      <td>[{'href': 'http://arxiv.org/abs/2412.14158v1',...</td>\n",
       "      <td>{'term': 'cs.CV', 'scheme': 'http://arxiv.org/...</td>\n",
       "      <td>[{'term': 'cs.CV', 'scheme': 'http://arxiv.org...</td>\n",
       "      <td>http://arxiv.org/html/2412.14158v1</td>\n",
       "      <td>{'title_text': 'AKiRa: Augmentation Kit on Ray...</td>\n",
       "      <td>CS.AI</td>\n",
       "      <td>NaN</td>\n",
       "      <td>NaN</td>\n",
       "      <td>NaN</td>\n",
       "      <td>NaN</td>\n",
       "    </tr>\n",
       "    <tr>\n",
       "      <th>3</th>\n",
       "      <td>http://arxiv.org/abs/2412.14146v1</td>\n",
       "      <td>True</td>\n",
       "      <td>http://arxiv.org/abs/2412.14146v1</td>\n",
       "      <td>2024-12-18T18:44:08Z</td>\n",
       "      <td>[2024, 12, 18, 18, 44, 8, 2, 353, 0]</td>\n",
       "      <td>2024-12-18T18:44:08Z</td>\n",
       "      <td>[2024, 12, 18, 18, 44, 8, 2, 353, 0]</td>\n",
       "      <td>Advanced Reasoning and Transformation Engine f...</td>\n",
       "      <td>{'type': 'text/plain', 'language': None, 'base...</td>\n",
       "      <td>This paper presents the Advanced Reasoning and...</td>\n",
       "      <td>...</td>\n",
       "      <td>[{'href': 'http://arxiv.org/abs/2412.14146v1',...</td>\n",
       "      <td>{'term': 'cs.AI', 'scheme': 'http://arxiv.org/...</td>\n",
       "      <td>[{'term': 'cs.AI', 'scheme': 'http://arxiv.org...</td>\n",
       "      <td>http://arxiv.org/html/2412.14146v1</td>\n",
       "      <td>{'title_text': 'Advanced Reasoning and Transfo...</td>\n",
       "      <td>CS.AI</td>\n",
       "      <td>NaN</td>\n",
       "      <td>NaN</td>\n",
       "      <td>NaN</td>\n",
       "      <td>NaN</td>\n",
       "    </tr>\n",
       "    <tr>\n",
       "      <th>4</th>\n",
       "      <td>http://arxiv.org/abs/2410.23953v3</td>\n",
       "      <td>True</td>\n",
       "      <td>http://arxiv.org/abs/2410.23953v3</td>\n",
       "      <td>2024-12-18T18:41:48Z</td>\n",
       "      <td>[2024, 12, 18, 18, 41, 48, 2, 353, 0]</td>\n",
       "      <td>2024-10-31T14:07:26Z</td>\n",
       "      <td>[2024, 10, 31, 14, 7, 26, 3, 305, 0]</td>\n",
       "      <td>Representative Social Choice: From Learning Th...</td>\n",
       "      <td>{'type': 'text/plain', 'language': None, 'base...</td>\n",
       "      <td>Social choice theory is the study of preferenc...</td>\n",
       "      <td>...</td>\n",
       "      <td>[{'href': 'http://arxiv.org/abs/2410.23953v3',...</td>\n",
       "      <td>{'term': 'cs.LG', 'scheme': 'http://arxiv.org/...</td>\n",
       "      <td>[{'term': 'cs.LG', 'scheme': 'http://arxiv.org...</td>\n",
       "      <td>http://arxiv.org/html/2410.23953v3</td>\n",
       "      <td>{'title_text': 'Representative Social Choice:F...</td>\n",
       "      <td>CS.AI</td>\n",
       "      <td>Full version (20 pages). Under review. Receive...</td>\n",
       "      <td>NaN</td>\n",
       "      <td>NaN</td>\n",
       "      <td>NaN</td>\n",
       "    </tr>\n",
       "  </tbody>\n",
       "</table>\n",
       "<p>5 rows × 24 columns</p>\n",
       "</div>"
      ],
      "text/plain": [
       "                                  id  guidislink  \\\n",
       "0  http://arxiv.org/abs/2412.14170v1        True   \n",
       "1  http://arxiv.org/abs/2412.14167v1        True   \n",
       "2  http://arxiv.org/abs/2412.14158v1        True   \n",
       "3  http://arxiv.org/abs/2412.14146v1        True   \n",
       "4  http://arxiv.org/abs/2410.23953v3        True   \n",
       "\n",
       "                                link               updated  \\\n",
       "0  http://arxiv.org/abs/2412.14170v1  2024-12-18T18:59:53Z   \n",
       "1  http://arxiv.org/abs/2412.14167v1  2024-12-18T18:59:49Z   \n",
       "2  http://arxiv.org/abs/2412.14158v1  2024-12-18T18:53:22Z   \n",
       "3  http://arxiv.org/abs/2412.14146v1  2024-12-18T18:44:08Z   \n",
       "4  http://arxiv.org/abs/2410.23953v3  2024-12-18T18:41:48Z   \n",
       "\n",
       "                          updated_parsed             published  \\\n",
       "0  [2024, 12, 18, 18, 59, 53, 2, 353, 0]  2024-12-18T18:59:53Z   \n",
       "1  [2024, 12, 18, 18, 59, 49, 2, 353, 0]  2024-12-18T18:59:49Z   \n",
       "2  [2024, 12, 18, 18, 53, 22, 2, 353, 0]  2024-12-18T18:53:22Z   \n",
       "3   [2024, 12, 18, 18, 44, 8, 2, 353, 0]  2024-12-18T18:44:08Z   \n",
       "4  [2024, 12, 18, 18, 41, 48, 2, 353, 0]  2024-10-31T14:07:26Z   \n",
       "\n",
       "                        published_parsed  \\\n",
       "0  [2024, 12, 18, 18, 59, 53, 2, 353, 0]   \n",
       "1  [2024, 12, 18, 18, 59, 49, 2, 353, 0]   \n",
       "2  [2024, 12, 18, 18, 53, 22, 2, 353, 0]   \n",
       "3   [2024, 12, 18, 18, 44, 8, 2, 353, 0]   \n",
       "4   [2024, 10, 31, 14, 7, 26, 3, 305, 0]   \n",
       "\n",
       "                                               title  \\\n",
       "0  E-CAR: Efficient Continuous Autoregressive Ima...   \n",
       "1  VideoDPO: Omni-Preference Alignment for Video ...   \n",
       "2  AKiRa: Augmentation Kit on Rays for optical vi...   \n",
       "3  Advanced Reasoning and Transformation Engine f...   \n",
       "4  Representative Social Choice: From Learning Th...   \n",
       "\n",
       "                                        title_detail  \\\n",
       "0  {'type': 'text/plain', 'language': None, 'base...   \n",
       "1  {'type': 'text/plain', 'language': None, 'base...   \n",
       "2  {'type': 'text/plain', 'language': None, 'base...   \n",
       "3  {'type': 'text/plain', 'language': None, 'base...   \n",
       "4  {'type': 'text/plain', 'language': None, 'base...   \n",
       "\n",
       "                                             summary  ...  \\\n",
       "0  Recent advances in autoregressive (AR) models ...  ...   \n",
       "1  Recent progress in generative diffusion models...  ...   \n",
       "2  Recent advances in text-conditioned video diff...  ...   \n",
       "3  This paper presents the Advanced Reasoning and...  ...   \n",
       "4  Social choice theory is the study of preferenc...  ...   \n",
       "\n",
       "                                               links  \\\n",
       "0  [{'href': 'http://arxiv.org/abs/2412.14170v1',...   \n",
       "1  [{'href': 'http://arxiv.org/abs/2412.14167v1',...   \n",
       "2  [{'href': 'http://arxiv.org/abs/2412.14158v1',...   \n",
       "3  [{'href': 'http://arxiv.org/abs/2412.14146v1',...   \n",
       "4  [{'href': 'http://arxiv.org/abs/2410.23953v3',...   \n",
       "\n",
       "                              arxiv_primary_category  \\\n",
       "0  {'term': 'cs.CV', 'scheme': 'http://arxiv.org/...   \n",
       "1  {'term': 'cs.CV', 'scheme': 'http://arxiv.org/...   \n",
       "2  {'term': 'cs.CV', 'scheme': 'http://arxiv.org/...   \n",
       "3  {'term': 'cs.AI', 'scheme': 'http://arxiv.org/...   \n",
       "4  {'term': 'cs.LG', 'scheme': 'http://arxiv.org/...   \n",
       "\n",
       "                                                tags  \\\n",
       "0  [{'term': 'cs.CV', 'scheme': 'http://arxiv.org...   \n",
       "1  [{'term': 'cs.CV', 'scheme': 'http://arxiv.org...   \n",
       "2  [{'term': 'cs.CV', 'scheme': 'http://arxiv.org...   \n",
       "3  [{'term': 'cs.AI', 'scheme': 'http://arxiv.org...   \n",
       "4  [{'term': 'cs.LG', 'scheme': 'http://arxiv.org...   \n",
       "\n",
       "                            html_link  \\\n",
       "0  http://arxiv.org/html/2412.14170v1   \n",
       "1  http://arxiv.org/html/2412.14167v1   \n",
       "2  http://arxiv.org/html/2412.14158v1   \n",
       "3  http://arxiv.org/html/2412.14146v1   \n",
       "4  http://arxiv.org/html/2410.23953v3   \n",
       "\n",
       "                                      parsing_result category  \\\n",
       "0  {'title_text': 'E-CAR: Efficient Continuous Au...    CS.AI   \n",
       "1  {'title_text': 'VideoDPO: Omni-Preference Alig...    CS.AI   \n",
       "2  {'title_text': 'AKiRa: Augmentation Kit on Ray...    CS.AI   \n",
       "3  {'title_text': 'Advanced Reasoning and Transfo...    CS.AI   \n",
       "4  {'title_text': 'Representative Social Choice:F...    CS.AI   \n",
       "\n",
       "                                       arxiv_comment arxiv_doi  \\\n",
       "0                                                NaN       NaN   \n",
       "1                                                NaN       NaN   \n",
       "2                                                NaN       NaN   \n",
       "3                                                NaN       NaN   \n",
       "4  Full version (20 pages). Under review. Receive...       NaN   \n",
       "\n",
       "  arxiv_journal_ref arxiv_affiliation  \n",
       "0               NaN               NaN  \n",
       "1               NaN               NaN  \n",
       "2               NaN               NaN  \n",
       "3               NaN               NaN  \n",
       "4               NaN               NaN  \n",
       "\n",
       "[5 rows x 24 columns]"
      ]
     },
     "execution_count": 39,
     "metadata": {},
     "output_type": "execute_result"
    }
   ],
   "source": [
    "data.head()"
   ]
  },
  {
   "cell_type": "code",
   "execution_count": 40,
   "id": "ee5fa664",
   "metadata": {
    "ExecuteTime": {
     "end_time": "2024-12-21T16:55:43.520009Z",
     "start_time": "2024-12-21T16:55:43.512845Z"
    }
   },
   "outputs": [
    {
     "data": {
      "text/plain": [
       "(6069, 24)"
      ]
     },
     "execution_count": 40,
     "metadata": {},
     "output_type": "execute_result"
    }
   ],
   "source": [
    "data.shape"
   ]
  },
  {
   "cell_type": "code",
   "execution_count": 42,
   "id": "29d858d8",
   "metadata": {
    "ExecuteTime": {
     "end_time": "2024-12-21T16:56:22.985867Z",
     "start_time": "2024-12-21T16:56:22.974004Z"
    }
   },
   "outputs": [],
   "source": [
    "df = data.drop_duplicates(\"id\")"
   ]
  },
  {
   "cell_type": "code",
   "execution_count": 43,
   "id": "7fa34af5",
   "metadata": {
    "ExecuteTime": {
     "end_time": "2024-12-21T16:56:26.270582Z",
     "start_time": "2024-12-21T16:56:26.213834Z"
    }
   },
   "outputs": [
    {
     "data": {
      "text/html": [
       "<div>\n",
       "<style scoped>\n",
       "    .dataframe tbody tr th:only-of-type {\n",
       "        vertical-align: middle;\n",
       "    }\n",
       "\n",
       "    .dataframe tbody tr th {\n",
       "        vertical-align: top;\n",
       "    }\n",
       "\n",
       "    .dataframe thead th {\n",
       "        text-align: right;\n",
       "    }\n",
       "</style>\n",
       "<table border=\"1\" class=\"dataframe\">\n",
       "  <thead>\n",
       "    <tr style=\"text-align: right;\">\n",
       "      <th></th>\n",
       "      <th>id</th>\n",
       "      <th>guidislink</th>\n",
       "      <th>link</th>\n",
       "      <th>updated</th>\n",
       "      <th>updated_parsed</th>\n",
       "      <th>published</th>\n",
       "      <th>published_parsed</th>\n",
       "      <th>title</th>\n",
       "      <th>title_detail</th>\n",
       "      <th>summary</th>\n",
       "      <th>...</th>\n",
       "      <th>links</th>\n",
       "      <th>arxiv_primary_category</th>\n",
       "      <th>tags</th>\n",
       "      <th>html_link</th>\n",
       "      <th>parsing_result</th>\n",
       "      <th>category</th>\n",
       "      <th>arxiv_comment</th>\n",
       "      <th>arxiv_doi</th>\n",
       "      <th>arxiv_journal_ref</th>\n",
       "      <th>arxiv_affiliation</th>\n",
       "    </tr>\n",
       "  </thead>\n",
       "  <tbody>\n",
       "    <tr>\n",
       "      <th>0</th>\n",
       "      <td>http://arxiv.org/abs/2412.14170v1</td>\n",
       "      <td>True</td>\n",
       "      <td>http://arxiv.org/abs/2412.14170v1</td>\n",
       "      <td>2024-12-18T18:59:53Z</td>\n",
       "      <td>[2024, 12, 18, 18, 59, 53, 2, 353, 0]</td>\n",
       "      <td>2024-12-18T18:59:53Z</td>\n",
       "      <td>[2024, 12, 18, 18, 59, 53, 2, 353, 0]</td>\n",
       "      <td>E-CAR: Efficient Continuous Autoregressive Ima...</td>\n",
       "      <td>{'type': 'text/plain', 'language': None, 'base...</td>\n",
       "      <td>Recent advances in autoregressive (AR) models ...</td>\n",
       "      <td>...</td>\n",
       "      <td>[{'href': 'http://arxiv.org/abs/2412.14170v1',...</td>\n",
       "      <td>{'term': 'cs.CV', 'scheme': 'http://arxiv.org/...</td>\n",
       "      <td>[{'term': 'cs.CV', 'scheme': 'http://arxiv.org...</td>\n",
       "      <td>http://arxiv.org/html/2412.14170v1</td>\n",
       "      <td>{'title_text': 'E-CAR: Efficient Continuous Au...</td>\n",
       "      <td>CS.AI</td>\n",
       "      <td>NaN</td>\n",
       "      <td>NaN</td>\n",
       "      <td>NaN</td>\n",
       "      <td>NaN</td>\n",
       "    </tr>\n",
       "    <tr>\n",
       "      <th>1</th>\n",
       "      <td>http://arxiv.org/abs/2412.14167v1</td>\n",
       "      <td>True</td>\n",
       "      <td>http://arxiv.org/abs/2412.14167v1</td>\n",
       "      <td>2024-12-18T18:59:49Z</td>\n",
       "      <td>[2024, 12, 18, 18, 59, 49, 2, 353, 0]</td>\n",
       "      <td>2024-12-18T18:59:49Z</td>\n",
       "      <td>[2024, 12, 18, 18, 59, 49, 2, 353, 0]</td>\n",
       "      <td>VideoDPO: Omni-Preference Alignment for Video ...</td>\n",
       "      <td>{'type': 'text/plain', 'language': None, 'base...</td>\n",
       "      <td>Recent progress in generative diffusion models...</td>\n",
       "      <td>...</td>\n",
       "      <td>[{'href': 'http://arxiv.org/abs/2412.14167v1',...</td>\n",
       "      <td>{'term': 'cs.CV', 'scheme': 'http://arxiv.org/...</td>\n",
       "      <td>[{'term': 'cs.CV', 'scheme': 'http://arxiv.org...</td>\n",
       "      <td>http://arxiv.org/html/2412.14167v1</td>\n",
       "      <td>{'title_text': 'VideoDPO: Omni-Preference Alig...</td>\n",
       "      <td>CS.AI</td>\n",
       "      <td>NaN</td>\n",
       "      <td>NaN</td>\n",
       "      <td>NaN</td>\n",
       "      <td>NaN</td>\n",
       "    </tr>\n",
       "    <tr>\n",
       "      <th>2</th>\n",
       "      <td>http://arxiv.org/abs/2412.14158v1</td>\n",
       "      <td>True</td>\n",
       "      <td>http://arxiv.org/abs/2412.14158v1</td>\n",
       "      <td>2024-12-18T18:53:22Z</td>\n",
       "      <td>[2024, 12, 18, 18, 53, 22, 2, 353, 0]</td>\n",
       "      <td>2024-12-18T18:53:22Z</td>\n",
       "      <td>[2024, 12, 18, 18, 53, 22, 2, 353, 0]</td>\n",
       "      <td>AKiRa: Augmentation Kit on Rays for optical vi...</td>\n",
       "      <td>{'type': 'text/plain', 'language': None, 'base...</td>\n",
       "      <td>Recent advances in text-conditioned video diff...</td>\n",
       "      <td>...</td>\n",
       "      <td>[{'href': 'http://arxiv.org/abs/2412.14158v1',...</td>\n",
       "      <td>{'term': 'cs.CV', 'scheme': 'http://arxiv.org/...</td>\n",
       "      <td>[{'term': 'cs.CV', 'scheme': 'http://arxiv.org...</td>\n",
       "      <td>http://arxiv.org/html/2412.14158v1</td>\n",
       "      <td>{'title_text': 'AKiRa: Augmentation Kit on Ray...</td>\n",
       "      <td>CS.AI</td>\n",
       "      <td>NaN</td>\n",
       "      <td>NaN</td>\n",
       "      <td>NaN</td>\n",
       "      <td>NaN</td>\n",
       "    </tr>\n",
       "    <tr>\n",
       "      <th>3</th>\n",
       "      <td>http://arxiv.org/abs/2412.14146v1</td>\n",
       "      <td>True</td>\n",
       "      <td>http://arxiv.org/abs/2412.14146v1</td>\n",
       "      <td>2024-12-18T18:44:08Z</td>\n",
       "      <td>[2024, 12, 18, 18, 44, 8, 2, 353, 0]</td>\n",
       "      <td>2024-12-18T18:44:08Z</td>\n",
       "      <td>[2024, 12, 18, 18, 44, 8, 2, 353, 0]</td>\n",
       "      <td>Advanced Reasoning and Transformation Engine f...</td>\n",
       "      <td>{'type': 'text/plain', 'language': None, 'base...</td>\n",
       "      <td>This paper presents the Advanced Reasoning and...</td>\n",
       "      <td>...</td>\n",
       "      <td>[{'href': 'http://arxiv.org/abs/2412.14146v1',...</td>\n",
       "      <td>{'term': 'cs.AI', 'scheme': 'http://arxiv.org/...</td>\n",
       "      <td>[{'term': 'cs.AI', 'scheme': 'http://arxiv.org...</td>\n",
       "      <td>http://arxiv.org/html/2412.14146v1</td>\n",
       "      <td>{'title_text': 'Advanced Reasoning and Transfo...</td>\n",
       "      <td>CS.AI</td>\n",
       "      <td>NaN</td>\n",
       "      <td>NaN</td>\n",
       "      <td>NaN</td>\n",
       "      <td>NaN</td>\n",
       "    </tr>\n",
       "    <tr>\n",
       "      <th>4</th>\n",
       "      <td>http://arxiv.org/abs/2410.23953v3</td>\n",
       "      <td>True</td>\n",
       "      <td>http://arxiv.org/abs/2410.23953v3</td>\n",
       "      <td>2024-12-18T18:41:48Z</td>\n",
       "      <td>[2024, 12, 18, 18, 41, 48, 2, 353, 0]</td>\n",
       "      <td>2024-10-31T14:07:26Z</td>\n",
       "      <td>[2024, 10, 31, 14, 7, 26, 3, 305, 0]</td>\n",
       "      <td>Representative Social Choice: From Learning Th...</td>\n",
       "      <td>{'type': 'text/plain', 'language': None, 'base...</td>\n",
       "      <td>Social choice theory is the study of preferenc...</td>\n",
       "      <td>...</td>\n",
       "      <td>[{'href': 'http://arxiv.org/abs/2410.23953v3',...</td>\n",
       "      <td>{'term': 'cs.LG', 'scheme': 'http://arxiv.org/...</td>\n",
       "      <td>[{'term': 'cs.LG', 'scheme': 'http://arxiv.org...</td>\n",
       "      <td>http://arxiv.org/html/2410.23953v3</td>\n",
       "      <td>{'title_text': 'Representative Social Choice:F...</td>\n",
       "      <td>CS.AI</td>\n",
       "      <td>Full version (20 pages). Under review. Receive...</td>\n",
       "      <td>NaN</td>\n",
       "      <td>NaN</td>\n",
       "      <td>NaN</td>\n",
       "    </tr>\n",
       "  </tbody>\n",
       "</table>\n",
       "<p>5 rows × 24 columns</p>\n",
       "</div>"
      ],
      "text/plain": [
       "                                  id  guidislink  \\\n",
       "0  http://arxiv.org/abs/2412.14170v1        True   \n",
       "1  http://arxiv.org/abs/2412.14167v1        True   \n",
       "2  http://arxiv.org/abs/2412.14158v1        True   \n",
       "3  http://arxiv.org/abs/2412.14146v1        True   \n",
       "4  http://arxiv.org/abs/2410.23953v3        True   \n",
       "\n",
       "                                link               updated  \\\n",
       "0  http://arxiv.org/abs/2412.14170v1  2024-12-18T18:59:53Z   \n",
       "1  http://arxiv.org/abs/2412.14167v1  2024-12-18T18:59:49Z   \n",
       "2  http://arxiv.org/abs/2412.14158v1  2024-12-18T18:53:22Z   \n",
       "3  http://arxiv.org/abs/2412.14146v1  2024-12-18T18:44:08Z   \n",
       "4  http://arxiv.org/abs/2410.23953v3  2024-12-18T18:41:48Z   \n",
       "\n",
       "                          updated_parsed             published  \\\n",
       "0  [2024, 12, 18, 18, 59, 53, 2, 353, 0]  2024-12-18T18:59:53Z   \n",
       "1  [2024, 12, 18, 18, 59, 49, 2, 353, 0]  2024-12-18T18:59:49Z   \n",
       "2  [2024, 12, 18, 18, 53, 22, 2, 353, 0]  2024-12-18T18:53:22Z   \n",
       "3   [2024, 12, 18, 18, 44, 8, 2, 353, 0]  2024-12-18T18:44:08Z   \n",
       "4  [2024, 12, 18, 18, 41, 48, 2, 353, 0]  2024-10-31T14:07:26Z   \n",
       "\n",
       "                        published_parsed  \\\n",
       "0  [2024, 12, 18, 18, 59, 53, 2, 353, 0]   \n",
       "1  [2024, 12, 18, 18, 59, 49, 2, 353, 0]   \n",
       "2  [2024, 12, 18, 18, 53, 22, 2, 353, 0]   \n",
       "3   [2024, 12, 18, 18, 44, 8, 2, 353, 0]   \n",
       "4   [2024, 10, 31, 14, 7, 26, 3, 305, 0]   \n",
       "\n",
       "                                               title  \\\n",
       "0  E-CAR: Efficient Continuous Autoregressive Ima...   \n",
       "1  VideoDPO: Omni-Preference Alignment for Video ...   \n",
       "2  AKiRa: Augmentation Kit on Rays for optical vi...   \n",
       "3  Advanced Reasoning and Transformation Engine f...   \n",
       "4  Representative Social Choice: From Learning Th...   \n",
       "\n",
       "                                        title_detail  \\\n",
       "0  {'type': 'text/plain', 'language': None, 'base...   \n",
       "1  {'type': 'text/plain', 'language': None, 'base...   \n",
       "2  {'type': 'text/plain', 'language': None, 'base...   \n",
       "3  {'type': 'text/plain', 'language': None, 'base...   \n",
       "4  {'type': 'text/plain', 'language': None, 'base...   \n",
       "\n",
       "                                             summary  ...  \\\n",
       "0  Recent advances in autoregressive (AR) models ...  ...   \n",
       "1  Recent progress in generative diffusion models...  ...   \n",
       "2  Recent advances in text-conditioned video diff...  ...   \n",
       "3  This paper presents the Advanced Reasoning and...  ...   \n",
       "4  Social choice theory is the study of preferenc...  ...   \n",
       "\n",
       "                                               links  \\\n",
       "0  [{'href': 'http://arxiv.org/abs/2412.14170v1',...   \n",
       "1  [{'href': 'http://arxiv.org/abs/2412.14167v1',...   \n",
       "2  [{'href': 'http://arxiv.org/abs/2412.14158v1',...   \n",
       "3  [{'href': 'http://arxiv.org/abs/2412.14146v1',...   \n",
       "4  [{'href': 'http://arxiv.org/abs/2410.23953v3',...   \n",
       "\n",
       "                              arxiv_primary_category  \\\n",
       "0  {'term': 'cs.CV', 'scheme': 'http://arxiv.org/...   \n",
       "1  {'term': 'cs.CV', 'scheme': 'http://arxiv.org/...   \n",
       "2  {'term': 'cs.CV', 'scheme': 'http://arxiv.org/...   \n",
       "3  {'term': 'cs.AI', 'scheme': 'http://arxiv.org/...   \n",
       "4  {'term': 'cs.LG', 'scheme': 'http://arxiv.org/...   \n",
       "\n",
       "                                                tags  \\\n",
       "0  [{'term': 'cs.CV', 'scheme': 'http://arxiv.org...   \n",
       "1  [{'term': 'cs.CV', 'scheme': 'http://arxiv.org...   \n",
       "2  [{'term': 'cs.CV', 'scheme': 'http://arxiv.org...   \n",
       "3  [{'term': 'cs.AI', 'scheme': 'http://arxiv.org...   \n",
       "4  [{'term': 'cs.LG', 'scheme': 'http://arxiv.org...   \n",
       "\n",
       "                            html_link  \\\n",
       "0  http://arxiv.org/html/2412.14170v1   \n",
       "1  http://arxiv.org/html/2412.14167v1   \n",
       "2  http://arxiv.org/html/2412.14158v1   \n",
       "3  http://arxiv.org/html/2412.14146v1   \n",
       "4  http://arxiv.org/html/2410.23953v3   \n",
       "\n",
       "                                      parsing_result category  \\\n",
       "0  {'title_text': 'E-CAR: Efficient Continuous Au...    CS.AI   \n",
       "1  {'title_text': 'VideoDPO: Omni-Preference Alig...    CS.AI   \n",
       "2  {'title_text': 'AKiRa: Augmentation Kit on Ray...    CS.AI   \n",
       "3  {'title_text': 'Advanced Reasoning and Transfo...    CS.AI   \n",
       "4  {'title_text': 'Representative Social Choice:F...    CS.AI   \n",
       "\n",
       "                                       arxiv_comment arxiv_doi  \\\n",
       "0                                                NaN       NaN   \n",
       "1                                                NaN       NaN   \n",
       "2                                                NaN       NaN   \n",
       "3                                                NaN       NaN   \n",
       "4  Full version (20 pages). Under review. Receive...       NaN   \n",
       "\n",
       "  arxiv_journal_ref arxiv_affiliation  \n",
       "0               NaN               NaN  \n",
       "1               NaN               NaN  \n",
       "2               NaN               NaN  \n",
       "3               NaN               NaN  \n",
       "4               NaN               NaN  \n",
       "\n",
       "[5 rows x 24 columns]"
      ]
     },
     "execution_count": 43,
     "metadata": {},
     "output_type": "execute_result"
    }
   ],
   "source": [
    "df.head()"
   ]
  },
  {
   "cell_type": "code",
   "execution_count": 52,
   "id": "df99a043",
   "metadata": {
    "ExecuteTime": {
     "end_time": "2024-12-21T17:01:06.855005Z",
     "start_time": "2024-12-21T17:01:02.781280Z"
    }
   },
   "outputs": [],
   "source": [
    "df.to_json(\"articles.jsonl\")"
   ]
  },
  {
   "cell_type": "markdown",
   "id": "ff790bfb",
   "metadata": {},
   "source": [
    "### Посмотрим, сколько вопросов из датасета для RAGAS-а имеют статьи, которые попали в результат парсинга"
   ]
  },
  {
   "cell_type": "code",
   "execution_count": 53,
   "id": "46513ef3",
   "metadata": {
    "ExecuteTime": {
     "end_time": "2024-12-21T17:01:27.962695Z",
     "start_time": "2024-12-21T17:01:24.550645Z"
    }
   },
   "outputs": [],
   "source": [
    "dt = pd.read_json(\"articles.jsonl\")"
   ]
  },
  {
   "cell_type": "code",
   "execution_count": 58,
   "id": "16a3f7bc",
   "metadata": {
    "ExecuteTime": {
     "end_time": "2024-12-21T17:04:31.674949Z",
     "start_time": "2024-12-21T17:04:24.534085Z"
    }
   },
   "outputs": [],
   "source": [
    "df_ragas = pd.read_parquet(\"hf://datasets/taesiri/arxiv_qa/data/train-00000-of-00001.parquet\")"
   ]
  },
  {
   "cell_type": "code",
   "execution_count": 74,
   "id": "2af700a9",
   "metadata": {
    "ExecuteTime": {
     "end_time": "2024-12-21T17:12:00.115146Z",
     "start_time": "2024-12-21T17:12:00.108802Z"
    }
   },
   "outputs": [],
   "source": [
    "dt_idxs = dt[\"id\"].apply(lambda x: x.split(\"/\")[-1].split(\"v\")[0]).values"
   ]
  },
  {
   "cell_type": "code",
   "execution_count": 75,
   "id": "7fbca9c8",
   "metadata": {
    "ExecuteTime": {
     "end_time": "2024-12-21T17:12:04.067948Z",
     "start_time": "2024-12-21T17:12:04.062999Z"
    }
   },
   "outputs": [
    {
     "data": {
      "text/plain": [
       "array(['2412.14170', '2412.14167', '2412.14158', ..., '2307.06949',\n",
       "       '2309.11499', '1706.03762'], dtype=object)"
      ]
     },
     "execution_count": 75,
     "metadata": {},
     "output_type": "execute_result"
    }
   ],
   "source": [
    "dt_idxs"
   ]
  },
  {
   "cell_type": "code",
   "execution_count": 84,
   "id": "5ea3a61e",
   "metadata": {
    "ExecuteTime": {
     "end_time": "2024-12-21T17:14:35.917070Z",
     "start_time": "2024-12-21T17:14:13.681225Z"
    }
   },
   "outputs": [],
   "source": [
    "in_data = []\n",
    "for ragas_paper_id in df_ragas[\"paper_id\"]:\n",
    "    if ragas_paper_id in dt_idxs:\n",
    "        in_data.append(ragas_paper_id)"
   ]
  },
  {
   "cell_type": "code",
   "execution_count": 87,
   "id": "4fe74151",
   "metadata": {
    "ExecuteTime": {
     "end_time": "2024-12-21T17:15:18.281822Z",
     "start_time": "2024-12-21T17:15:18.274224Z"
    }
   },
   "outputs": [
    {
     "data": {
      "text/plain": [
       "['2309.11499', '2309.11499', '2309.11499', '2309.11499', '2309.11499']"
      ]
     },
     "execution_count": 87,
     "metadata": {},
     "output_type": "execute_result"
    }
   ],
   "source": [
    "in_data[:5]"
   ]
  },
  {
   "cell_type": "code",
   "execution_count": 90,
   "id": "9148a0ef",
   "metadata": {
    "ExecuteTime": {
     "end_time": "2024-12-21T17:16:43.507091Z",
     "start_time": "2024-12-21T17:16:43.430262Z"
    }
   },
   "outputs": [],
   "source": [
    "df_ragas.query(f\"paper_id in {in_data}\").to_json(\"ragas_dataset.jsonl\")"
   ]
  },
  {
   "cell_type": "code",
   "execution_count": 91,
   "id": "4a593dfe",
   "metadata": {
    "ExecuteTime": {
     "end_time": "2024-12-21T17:19:17.578807Z",
     "start_time": "2024-12-21T17:19:17.515135Z"
    }
   },
   "outputs": [],
   "source": [
    "sub_df_ragas = df_ragas.query(f\"paper_id in {in_data}\")"
   ]
  },
  {
   "cell_type": "code",
   "execution_count": 92,
   "id": "d720a6ea",
   "metadata": {
    "ExecuteTime": {
     "end_time": "2024-12-21T17:19:20.267793Z",
     "start_time": "2024-12-21T17:19:20.262551Z"
    }
   },
   "outputs": [
    {
     "data": {
      "text/plain": [
       "(1618, 4)"
      ]
     },
     "execution_count": 92,
     "metadata": {},
     "output_type": "execute_result"
    }
   ],
   "source": [
    "sub_df_ragas.shape"
   ]
  },
  {
   "cell_type": "code",
   "execution_count": null,
   "id": "feb3d117",
   "metadata": {},
   "outputs": [],
   "source": [
    "#1618 вопросов"
   ]
  },
  {
   "cell_type": "code",
   "execution_count": null,
   "id": "e85fe612",
   "metadata": {},
   "outputs": [],
   "source": []
  }
 ],
 "metadata": {
  "kernelspec": {
   "display_name": "Python 3 (ipykernel)",
   "language": "python",
   "name": "python3"
  },
  "language_info": {
   "codemirror_mode": {
    "name": "ipython",
    "version": 3
   },
   "file_extension": ".py",
   "mimetype": "text/x-python",
   "name": "python",
   "nbconvert_exporter": "python",
   "pygments_lexer": "ipython3",
   "version": "3.11.5"
  }
 },
 "nbformat": 4,
 "nbformat_minor": 5
}
